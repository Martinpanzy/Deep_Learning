{
  "nbformat": 4,
  "nbformat_minor": 0,
  "metadata": {
    "colab": {
      "name": "Baseline_code.ipynb",
      "version": "0.3.2",
      "provenance": [],
      "collapsed_sections": [],
      "toc_visible": true
    },
    "kernelspec": {
      "name": "python2",
      "display_name": "Python 2"
    },
    "accelerator": "GPU"
  },
  "cells": [
    {
      "metadata": {
        "id": "scylC1qNuBY0",
        "colab_type": "text"
      },
      "cell_type": "markdown",
      "source": [
        "# Baseline Code\n",
        "\n",
        "This code introduces a two-step training for the N-HPatches problem. In N-HPatches problem, we aim to generate a patch descriptor that is able to perform successfully tasks such as matching, retrieval or verification. \n",
        "\n",
        "Contrary to classical HPatches dataset, in N-HPatches, images contain random non-smooth perturbations produced by a synthetic noise. This noise could be critical when training the descriptor, therefore, we introduce a denoising model that could help us to deal with those perturbations. Denoising models have been already introduced in the course [tutorials](https://github.com/MatchLab-Imperial/deep-learning-course) and lectures, their objective is to generate a clean/denoised version of the input image.  We will refer in this code to the images with noise as `noisy`, to the images after applying the denoise model as `denoised` and the original patches from HPatches (so no extra noise added) which are used as ground-truth for the denoising step as `clean`. \n",
        "\n",
        "\n",
        "Thus, we aim to minimize the noise in images before the second step, which is computing a feature vector, also called descriptor. Those descriptions must be a powerful representation of the input patches. The idea behind is that if two descriptors belong two similar patches, they should be close to each other, i.e. have a low Euclidean distance. See figure below:\n",
        "\n",
        "![](https://i.ibb.co/4tvm3Vh/descriptorspace.png)\n",
        "\n",
        "This baseline code gives a method you can use to compare to whatever another approach you develop.  There are several other approaches you can test to see if there is any improvement, e.g. train the descriptor directly with noisy patches, without the denoising model. However, this code provides some guidance about how to implement the different blocks, how to stack them if desired, how to read the data and how to evaluate the method.\n",
        "\n",
        "The values given can be improved without changing the core method, only by tuning correctly the hyperparameters or giving it more training time, among others.\n",
        "\n",
        "As a first step of the project, you should get familiar with the problem and the provided code, so you can develop more complex and robust algorithms afterward. "
      ]
    },
    {
      "metadata": {
        "id": "iamuRgeiNLjW",
        "colab_type": "text"
      },
      "cell_type": "markdown",
      "source": [
        "## Safety Check\n",
        "\n",
        "As Google Colab is an external platform, we cannot guarantee that everytime you connect to a remote server, you will have the same amount of RAM or video RAM. For that reason, we will first check the amount of memory we have in the notebook. RAM should be around 12.9 GB, which is enough to load the datasets in memory. Also, usually, we have available 11.4 GB of GPU memory, which is more than enough to run this code. However, some users reported having only 500 MB of GPU memory. If you have that amount, restart the environment to see if you get the corresponding 11.4 GB."
      ]
    },
    {
      "metadata": {
        "id": "ZZG4BqkENEyd",
        "colab_type": "code",
        "outputId": "de0f6bbf-9bce-452c-9b0b-58050ef4e5ae",
        "colab": {
          "base_uri": "https://localhost:8080/",
          "height": 362
        }
      },
      "cell_type": "code",
      "source": [
        "# Taken from\n",
        "# https://stackoverflow.com/questions/48750199/google-colaboratory-misleading-information-about-its-gpu-only-5-ram-available\n",
        "# memory footprint support libraries/code\n",
        "!ln -sf /opt/bin/nvidia-smi /usr/bin/nvidia-smi\n",
        "!pip install gputil\n",
        "!pip install psutil\n",
        "!pip install humanize\n",
        "import psutil\n",
        "import humanize\n",
        "import os\n",
        "import GPUtil as GPU\n",
        "GPUs = GPU.getGPUs()\n",
        "# Colab only provides one GPU and it is not always guaranteed\n",
        "gpu = GPUs[0]\n",
        "def printm():\n",
        "  process = psutil.Process(os.getpid())\n",
        "  print(\"RAM Free: \" + humanize.naturalsize( psutil.virtual_memory().available ), \" | Proc size: \" + humanize.naturalsize( process.memory_info().rss))\n",
        "  print(\"GPU RAM Free: {0:.0f}MB | Used: {1:.0f}MB | Util {2:3.0f}% | Total {3:.0f}MB\".format(gpu.memoryFree, gpu.memoryUsed, gpu.memoryUtil*100, gpu.memoryTotal))"
      ],
      "execution_count": 1,
      "outputs": [
        {
          "output_type": "stream",
          "text": [
            "Collecting gputil\n",
            "  Downloading https://files.pythonhosted.org/packages/ed/0e/5c61eedde9f6c87713e89d794f01e378cfd9565847d4576fa627d758c554/GPUtil-1.4.0.tar.gz\n",
            "Building wheels for collected packages: gputil\n",
            "  Building wheel for gputil (setup.py) ... \u001b[?25ldone\n",
            "\u001b[?25h  Stored in directory: /root/.cache/pip/wheels/3d/77/07/80562de4bb0786e5ea186911a2c831fdd0018bda69beab71fd\n",
            "Successfully built gputil\n",
            "Installing collected packages: gputil\n",
            "Successfully installed gputil-1.4.0\n",
            "Requirement already satisfied: psutil in /usr/local/lib/python2.7/dist-packages (5.4.8)\n",
            "Requirement already satisfied: humanize in /usr/local/lib/python2.7/dist-packages (0.5.1)\n"
          ],
          "name": "stdout"
        }
      ]
    },
    {
      "metadata": {
        "id": "BBvIvBoyg68g",
        "colab_type": "code",
        "outputId": "59038c8d-9164-43f4-af8e-6a6f42b5face",
        "colab": {
          "base_uri": "https://localhost:8080/",
          "height": 51
        }
      },
      "cell_type": "code",
      "source": [
        "printm()"
      ],
      "execution_count": 2,
      "outputs": [
        {
          "output_type": "stream",
          "text": [
            "('RAM Free: 12.9 GB', ' | Proc size: 152.4 MB')\n",
            "GPU RAM Free: 11441MB | Used: 0MB | Util   0% | Total 11441MB\n"
          ],
          "name": "stdout"
        }
      ]
    },
    {
      "metadata": {
        "id": "OMiynJ7p-zI8",
        "colab_type": "text"
      },
      "cell_type": "markdown",
      "source": [
        "## Downloading Functions and Data\n",
        "\n",
        "The first step is to clone the GitHub repository of the course, which contains already implemented functions. You can use your own function and import them here doing the same. In addition, we are going to download and extract the N-HPatches data. \n",
        "\n",
        "As a note, in colab, we can run terminal commands by using ```!```. Also, by using ```%``` we have access to the [built-in IPython magic commands](https://ipython.readthedocs.io/en/stable/interactive/magics.html#magic-cd), which we will use to move through directories (`cd` command). It takes around 5 minutes to download and unzip the dataset. \n"
      ]
    },
    {
      "metadata": {
        "id": "yV1m-9ZGuKGj",
        "colab_type": "code",
        "outputId": "b185fb7f-70d8-4470-ba2a-20b366b11d59",
        "colab": {
          "base_uri": "https://localhost:8080/",
          "height": 165
        }
      },
      "cell_type": "code",
      "source": [
        "# Clone repo\n",
        "!git clone https://github.com/MatchLab-Imperial/keras_triplet_descriptor"
      ],
      "execution_count": 3,
      "outputs": [
        {
          "output_type": "stream",
          "text": [
            "Cloning into 'keras_triplet_descriptor'...\n",
            "remote: Enumerating objects: 3, done.\u001b[K\n",
            "remote: Counting objects: 100% (3/3), done.\u001b[K\n",
            "remote: Compressing objects: 100% (3/3), done.\u001b[K\n",
            "remote: Total 181 (delta 0), reused 1 (delta 0), pack-reused 178\u001b[K\n",
            "Receiving objects: 100% (181/181), 149.87 MiB | 10.74 MiB/s, done.\n",
            "Resolving deltas: 100% (65/65), done.\n",
            "Checking out files: 100% (69/69), done.\n"
          ],
          "name": "stdout"
        }
      ]
    },
    {
      "metadata": {
        "id": "pyZSqhZ5LACT",
        "colab_type": "code",
        "outputId": "0b07ced4-63ce-4c43-8467-94e5ca3ef24e",
        "colab": {
          "base_uri": "https://localhost:8080/",
          "height": 34
        }
      },
      "cell_type": "code",
      "source": [
        "# Change directory\n",
        "%cd /content/keras_triplet_descriptor    \n"
      ],
      "execution_count": 4,
      "outputs": [
        {
          "output_type": "stream",
          "text": [
            "/content/keras_triplet_descriptor\n"
          ],
          "name": "stdout"
        }
      ]
    },
    {
      "metadata": {
        "id": "307CBCL-FjX4",
        "colab_type": "code",
        "outputId": "381038d1-55c6-4421-82b4-189b252b9056",
        "colab": {
          "base_uri": "https://localhost:8080/",
          "height": 1020
        }
      },
      "cell_type": "code",
      "source": [
        "# Download data\n",
        "!wget -O hpatches_data.zip https://imperialcollegelondon.box.com/shared/static/ah40eq7cxpwq4a6l4f62efzdyt8rm3ha.zip\n"
      ],
      "execution_count": 5,
      "outputs": [
        {
          "output_type": "stream",
          "text": [
            "--2019-03-20 19:10:47--  https://imperialcollegelondon.box.com/shared/static/ah40eq7cxpwq4a6l4f62efzdyt8rm3ha.zip\n",
            "Resolving imperialcollegelondon.box.com (imperialcollegelondon.box.com)... 103.116.4.197\n",
            "Connecting to imperialcollegelondon.box.com (imperialcollegelondon.box.com)|103.116.4.197|:443... connected.\n",
            "HTTP request sent, awaiting response... 301 Moved Permanently\n",
            "Location: /public/static/ah40eq7cxpwq4a6l4f62efzdyt8rm3ha.zip [following]\n",
            "--2019-03-20 19:10:48--  https://imperialcollegelondon.box.com/public/static/ah40eq7cxpwq4a6l4f62efzdyt8rm3ha.zip\n",
            "Reusing existing connection to imperialcollegelondon.box.com:443.\n",
            "HTTP request sent, awaiting response... 301 Moved Permanently\n",
            "Location: https://imperialcollegelondon.app.box.com/public/static/ah40eq7cxpwq4a6l4f62efzdyt8rm3ha.zip [following]\n",
            "--2019-03-20 19:10:48--  https://imperialcollegelondon.app.box.com/public/static/ah40eq7cxpwq4a6l4f62efzdyt8rm3ha.zip\n",
            "Resolving imperialcollegelondon.app.box.com (imperialcollegelondon.app.box.com)... 103.116.4.199\n",
            "Connecting to imperialcollegelondon.app.box.com (imperialcollegelondon.app.box.com)|103.116.4.199|:443... connected.\n",
            "HTTP request sent, awaiting response... 302 Found\n",
            "Location: https://public.boxcloud.com/d/1/b1!gMojJ7xlQpQiV_RKz6f8a_hkYpYLsUVr4RNT4JkApbuogLyaXLc0z1Ym2MJ_xRRFl_7S9JZ2Cz_XfONz7GfkClTPdOTp2KaeCssHa35xv_4ETnFVkYFWq098BMUaQ2AO73Nx1HIh_jH8h7TJKgwAqRzj4Hx_Fc7qlG5uQlnq1uFSieNMFBHS8fTA_PDtD9aT5rohxd0kRWwGVhqGOC9nHn7UNs63HyW2rLPSqdzWIKiRkbLZkpfRVvC5b30J7_X5S3c3N0l4G48qS1c31HjO-DZDlvbpHqOgDQnDwJo6zONx0aMt1mgYuEF6x7rIn2yuxc_ff7qF1i5lNgg2uYJy5ryc-6YXMPmjrINPmnL0DMpPO8g_1nRmMs8bJN5Y_p6WL0gARPIDxOTN6hAWGWlmTaAfSw_eXjpUPOyCxZJsouRvEXLImqpI9nA4j0_zXl4ZAeTrxAhM-_anbWomS0cQgfTpXmm95L1mLXHqyEoWWxItF9zm8w6JgPlnpou77fZ2j3-Op-BCKHfkOmZINIoqQEyRPjChw7fWBbqFFZ8TPBDdVtY9ZOIQDzVPNU_lDuigHO-PSqbh96tE7nFR8E43sTvEtyBdqm3amLvfD6ed4DMQQFqhk0dWTuJ88kJJ2z5FGi_iPMD1IQ33Nl5LDw3JRbTLqqYxwh0F5om3dg4MuSH7NMC0mYqltAjCUKXoLuRdwVsa4fEKtUAE5Jtim_BZY71IrZo8dcf3DnDcw3R-ri7ZBIuWI_WGUYCe2jvIwqUsFjZTvKjaM0iWEklcm4Jw24ncON5GMOL5udxOaQzioSoBjJKg8BnH_RVRJVM7WHd7H1rFfQwArrz5r0KlXYb5-MZ9KZ3OC0zz4SJtIDziogcTodNwHraIl3ewkMHY3Zh-tJe6rJd2ltv5iBdC-H4eBOoloApWnxwkVbTRa6D5ho0onP_Y6wz4BJLB83eDIXHPIrEn5bQ1n0HYooM2dHYAs630RL0lJVy2S0o7P5EXT0xJX24TwxzYNbNZxdp-IwDC9s5fEk1f2kO9Qn-1qL5DruK0FdTyOn8xs4l-lgd6lMJoHmkB3GsKY1bui9RjIRodcTK4VYSgAXWV0lX8tbj2vin-1ytPUGlFltHnzG1j6pK_H9PrszU12h_pp4nv9I72mzSCLasb2Eb07KJPS9Affq-yYVznOOaARIYg0U7SSsobbeEAD8GnuuECknZVbJlmtTMJgWWos_javGc_mC_r7M_HPuF6R7aD6UljkLturbGiIYMnitWWiNO_w9T1pcPu854eybPmbA3aiKqFh6409VOI-1ertWC7rcs1eq0maSdTUnE9CbwVGxOUxyXUB8tYXG1zpTaK-HvvmGrrTZ8exexVwiC-hYF-JCthVDAljqdStTcEfkCO20deetT6XXkadbalLQjEiPuJXGT1fMsKsghGceKkJtL1RxSzugGMtPBn57wJ0KPWO2OwWMXuFPtU7KkaQH6TyzAwd1kZU0Ysyi5ncnGZ9_m3/download [following]\n",
            "--2019-03-20 19:10:49--  https://public.boxcloud.com/d/1/b1!gMojJ7xlQpQiV_RKz6f8a_hkYpYLsUVr4RNT4JkApbuogLyaXLc0z1Ym2MJ_xRRFl_7S9JZ2Cz_XfONz7GfkClTPdOTp2KaeCssHa35xv_4ETnFVkYFWq098BMUaQ2AO73Nx1HIh_jH8h7TJKgwAqRzj4Hx_Fc7qlG5uQlnq1uFSieNMFBHS8fTA_PDtD9aT5rohxd0kRWwGVhqGOC9nHn7UNs63HyW2rLPSqdzWIKiRkbLZkpfRVvC5b30J7_X5S3c3N0l4G48qS1c31HjO-DZDlvbpHqOgDQnDwJo6zONx0aMt1mgYuEF6x7rIn2yuxc_ff7qF1i5lNgg2uYJy5ryc-6YXMPmjrINPmnL0DMpPO8g_1nRmMs8bJN5Y_p6WL0gARPIDxOTN6hAWGWlmTaAfSw_eXjpUPOyCxZJsouRvEXLImqpI9nA4j0_zXl4ZAeTrxAhM-_anbWomS0cQgfTpXmm95L1mLXHqyEoWWxItF9zm8w6JgPlnpou77fZ2j3-Op-BCKHfkOmZINIoqQEyRPjChw7fWBbqFFZ8TPBDdVtY9ZOIQDzVPNU_lDuigHO-PSqbh96tE7nFR8E43sTvEtyBdqm3amLvfD6ed4DMQQFqhk0dWTuJ88kJJ2z5FGi_iPMD1IQ33Nl5LDw3JRbTLqqYxwh0F5om3dg4MuSH7NMC0mYqltAjCUKXoLuRdwVsa4fEKtUAE5Jtim_BZY71IrZo8dcf3DnDcw3R-ri7ZBIuWI_WGUYCe2jvIwqUsFjZTvKjaM0iWEklcm4Jw24ncON5GMOL5udxOaQzioSoBjJKg8BnH_RVRJVM7WHd7H1rFfQwArrz5r0KlXYb5-MZ9KZ3OC0zz4SJtIDziogcTodNwHraIl3ewkMHY3Zh-tJe6rJd2ltv5iBdC-H4eBOoloApWnxwkVbTRa6D5ho0onP_Y6wz4BJLB83eDIXHPIrEn5bQ1n0HYooM2dHYAs630RL0lJVy2S0o7P5EXT0xJX24TwxzYNbNZxdp-IwDC9s5fEk1f2kO9Qn-1qL5DruK0FdTyOn8xs4l-lgd6lMJoHmkB3GsKY1bui9RjIRodcTK4VYSgAXWV0lX8tbj2vin-1ytPUGlFltHnzG1j6pK_H9PrszU12h_pp4nv9I72mzSCLasb2Eb07KJPS9Affq-yYVznOOaARIYg0U7SSsobbeEAD8GnuuECknZVbJlmtTMJgWWos_javGc_mC_r7M_HPuF6R7aD6UljkLturbGiIYMnitWWiNO_w9T1pcPu854eybPmbA3aiKqFh6409VOI-1ertWC7rcs1eq0maSdTUnE9CbwVGxOUxyXUB8tYXG1zpTaK-HvvmGrrTZ8exexVwiC-hYF-JCthVDAljqdStTcEfkCO20deetT6XXkadbalLQjEiPuJXGT1fMsKsghGceKkJtL1RxSzugGMtPBn57wJ0KPWO2OwWMXuFPtU7KkaQH6TyzAwd1kZU0Ysyi5ncnGZ9_m3/download\n",
            "Resolving public.boxcloud.com (public.boxcloud.com)... 107.152.24.200\n",
            "Connecting to public.boxcloud.com (public.boxcloud.com)|107.152.24.200|:443... connected.\n",
            "HTTP request sent, awaiting response... 200 OK\n",
            "Length: 4088106554 (3.8G) [application/zip]\n",
            "Saving to: ‘hpatches_data.zip’\n",
            "\n",
            "hpatches_data.zip   100%[===================>]   3.81G  21.5MB/s    in 3m 4s   \n",
            "\n",
            "2019-03-20 19:13:54 (21.2 MB/s) - ‘hpatches_data.zip’ saved [4088106554/4088106554]\n",
            "\n"
          ],
          "name": "stdout"
        }
      ]
    },
    {
      "metadata": {
        "id": "36mBTFvPCxY9",
        "colab_type": "code",
        "colab": {}
      },
      "cell_type": "code",
      "source": [
        "# Extract data\n",
        "!unzip -q ./hpatches_data.zip\n",
        "!rm ./hpatches_data.zip"
      ],
      "execution_count": 0,
      "outputs": []
    },
    {
      "metadata": {
        "id": "Rjyr96hR_4wS",
        "colab_type": "text"
      },
      "cell_type": "markdown",
      "source": [
        "## Importing Necessary Modules\n",
        "\n",
        "We now import the modules we will use in this baseline code. "
      ]
    },
    {
      "metadata": {
        "id": "o0KYfe-at9KN",
        "colab_type": "code",
        "colab": {}
      },
      "cell_type": "code",
      "source": [
        "import sys\n",
        "import json\n",
        "import os\n",
        "import glob\n",
        "import time\n",
        "import tensorflow as tf\n",
        "import numpy as np\n",
        "import cv2\n",
        "import random\n",
        "\n",
        "import keras\n",
        "from keras import backend as K\n",
        "from keras.models import Sequential, Model\n",
        "from keras.layers import Dense, Dropout, Activation, Flatten, Input, Lambda, Reshape\n",
        "from keras.layers import Conv2D, MaxPooling2D, BatchNormalization, Conv2DTranspose\n",
        "from keras.layers import Input, UpSampling2D, concatenate  \n",
        "\n",
        "from read_data import HPatches, DataGeneratorDesc, hpatches_sequence_folder, DenoiseHPatches, tps\n",
        "from utils import generate_desc_csv, plot_denoise, plot_triplet\n",
        "from keras.utils import plot_model"
      ],
      "execution_count": 0,
      "outputs": []
    },
    {
      "metadata": {
        "id": "AFG0LyAct_-l",
        "colab_type": "text"
      },
      "cell_type": "markdown",
      "source": [
        "The `read_data` and `utils` imports are functions provided in the repository we just cloned. You can navigate through the *File tab* and check what those functions do for a better understanding.\n",
        "\n",
        "![texto del enlace](https://i.ibb.co/HnfSvfT/filetab.png)\n",
        "\n",
        "\n",
        "\n"
      ]
    },
    {
      "metadata": {
        "id": "2Y61ZKWZ7o5k",
        "colab_type": "text"
      },
      "cell_type": "markdown",
      "source": [
        "We also fix the seeds of the pseudo-random number generators to have reproducible results. The idea of fixing the seed is having the same results every time the algorithm is run if there are no changes in the code."
      ]
    },
    {
      "metadata": {
        "id": "NXL31ez-AT5h",
        "colab_type": "code",
        "colab": {}
      },
      "cell_type": "code",
      "source": [
        "random.seed(1234)\n",
        "np.random.seed(1234)\n",
        "tf.set_random_seed(1234)"
      ],
      "execution_count": 0,
      "outputs": []
    },
    {
      "metadata": {
        "id": "_OqFkNujBGzf",
        "colab_type": "text"
      },
      "cell_type": "markdown",
      "source": [
        "Now we load the data. The original HPatches dataset has several splits, which are used to separate the available sequences in train sequences and test sequences. For our experiments in N-HPatches we use the same splits as in HPatches. Specifically, we load (and report results) using the split `'a'`:\n"
      ]
    },
    {
      "metadata": {
        "id": "ABKDHB9RApZk",
        "colab_type": "code",
        "colab": {}
      },
      "cell_type": "code",
      "source": [
        "hpatches_dir = './hpatches'\n",
        "splits_path = './splits.json'\n",
        "\n",
        "splits_json = json.load(open(splits_path, 'rb'))\n",
        "split = splits_json['a']\n",
        "\n",
        "train_fnames = split['train']\n",
        "test_fnames = split['test']\n",
        "\n",
        "seqs = glob.glob(hpatches_dir+'/*')\n",
        "seqs = [os.path.abspath(p) for p in seqs]   \n",
        "seqs_train = list(filter(lambda x: x.split('/')[-1] in train_fnames, seqs)) \n",
        "seqs_test = list(filter(lambda x: x.split('/')[-1] in split['test'], seqs)) \n"
      ],
      "execution_count": 0,
      "outputs": []
    },
    {
      "metadata": {
        "id": "qeWik0vMEtuC",
        "colab_type": "text"
      },
      "cell_type": "markdown",
      "source": [
        "## Models and loss"
      ]
    },
    {
      "metadata": {
        "id": "LYJz8BDzBkIx",
        "colab_type": "text"
      },
      "cell_type": "markdown",
      "source": [
        "We now define three functions that define the main modules of our baseline. \n",
        "\n",
        "*   **get_denoise_model(..)** returns the denoising model. The input for the function is the size of the patch, which will be *1x32x32*, and it outputs a keras denoising model. \n",
        "*   **get_descriptor_model(..)** builts the descriptor model. The input for the function is the size of the patch, which will be *1x32x32*, and it outputs a keras descriptor model. The model we use as baseline returns a descriptor of dimension *128x1*.\n",
        "*   **triplet_loss(..)** defines the loss function which is used to train the descriptor model. \n",
        "\n",
        "You can modify the models in these functions and run the training code again. For example, the given denoising model is quite shallow, maybe using a deeper network can improve results. Or testing new initializations for the weights. Or maybe adding dropout. Or modifying the loss function somehow..."
      ]
    },
    {
      "metadata": {
        "id": "W6QbkHnbuIUD",
        "colab_type": "code",
        "colab": {}
      },
      "cell_type": "code",
      "source": [
        "'''\n",
        "def get_denoise_model(shape):\n",
        "  inputs = Input(shape)\n",
        "  ## Encoder starts\n",
        "  conv1 = Conv2D(16, 3, activation = 'relu', padding = 'same', kernel_initializer = 'he_normal')(inputs)\n",
        "  pool1 = MaxPooling2D(pool_size=(2, 2))(conv1)\n",
        "  conv2 = Conv2D(32, 3, activation = 'relu', padding = 'same', kernel_initializer = 'he_normal')(pool1)\n",
        "\n",
        "  ##improved\n",
        "\n",
        "  pool_i1 = MaxPooling2D(pool_size=(2, 2))(conv2)\n",
        "  conv_i1 = Conv2D(64, 3, activation = 'relu', padding = 'same', kernel_initializer = 'he_normal')(pool_i1)\n",
        "\n",
        "  \n",
        "  pool_i2 = MaxPooling2D(pool_size=(2, 2))(conv_i1)\n",
        "  conv_i2 = Conv2D(128, 3, activation = 'relu', padding = 'same', kernel_initializer = 'he_normal')(pool_i2)\n",
        "  up_i2 = Conv2D(256, 2, activation = 'relu', padding = 'same', kernel_initializer = 'he_normal')(UpSampling2D(size = (2,2))(conv_i2))\n",
        "  merge_i2 = concatenate([conv_i1,up_i2], axis = -1)\n",
        "  conv_i3 = Conv2D(256, 3, activation = 'relu', padding = 'same', kernel_initializer = 'he_normal')(merge_i2)\n",
        "                                                                                                  \n",
        "  up_i1 = Conv2D(128, 2, activation = 'relu', padding = 'same', kernel_initializer = 'he_normal')(UpSampling2D(size = (2,2))(conv_i3))\n",
        "  merge_i1 = concatenate([conv2,up_i1], axis = -1)\n",
        "  conv_i4 = Conv2D(128, 3, activation = 'relu', padding = 'same', kernel_initializer = 'he_normal')(merge_i1)\n",
        "\n",
        "  up3 = Conv2D(128, 2, activation = 'relu', padding = 'same', kernel_initializer = 'he_normal')(UpSampling2D(size = (2,2))(conv_i4))\n",
        "  merge3 = concatenate([conv1,up3], axis = -1)\n",
        "  conv3 = Conv2D(64, 3, activation = 'relu', padding = 'same', kernel_initializer = 'he_normal')(merge3)\n",
        "\n",
        "  conv4 = Conv2D(1, 3,  padding = 'same')(conv3)\n",
        "\n",
        "  shallow_net = Model(inputs = inputs, outputs = conv4)\n",
        "\n",
        "  return shallow_net\n",
        "'''\n",
        "\n",
        "def get_denoise_model(shape):\n",
        "  inputs = Input(shape)\n",
        "\n",
        "  conv1 = Conv2D(16, 3, activation = 'relu', padding = 'same', kernel_initializer = 'he_normal')(inputs)\n",
        "  pool1 = MaxPooling2D(pool_size=(2, 2))(conv1)\n",
        "  conv2 = Conv2D(32, 3, activation = 'relu', padding = 'same', kernel_initializer = 'he_normal')(pool1)\n",
        "  pool_i1 = MaxPooling2D(pool_size=(2, 2))(conv2)\n",
        "\n",
        "  conv_i1 = Conv2D(64, 3, activation = 'relu', padding = 'same', kernel_initializer = 'he_normal')(pool_i1)\n",
        "  #up_i1 = Conv2D(128, 2, activation = 'relu', padding = 'same', kernel_initializer = 'he_normal')(UpSampling2D(size = (2,2))(conv_i1))\n",
        "  up_i1 = Conv2DTranspose(32, 2, strides=(2, 2), activation = 'relu', padding = 'same', kernel_initializer = 'he_normal')(conv_i1)\n",
        "  \n",
        "  \n",
        "  merge_i1 = concatenate([conv2,up_i1], axis = -1)\n",
        "  conv_i2 = Conv2D(32, 3, activation = 'relu', padding = 'same', kernel_initializer = 'he_normal')(merge_i1)\n",
        "  \n",
        "  #up3 = Conv2D(128, 2, activation = 'relu', padding = 'same', kernel_initializer = 'he_normal')(UpSampling2D(size = (2,2))(conv_i2))\n",
        "  up3 = Conv2DTranspose(16, 2, strides=(2, 2), activation = 'relu', padding = 'same', kernel_initializer = 'he_normal')(conv_i2)\n",
        "  \n",
        "  merge3 = concatenate([conv1,up3], axis = -1)\n",
        "  conv3 = Conv2D(16, 3, activation = 'relu', padding = 'same', kernel_initializer = 'he_normal')(merge3)   \n",
        "\n",
        "  conv4 = Conv2D(1, 3,  padding = 'same')(conv3)\n",
        "  shallow_net = Model(inputs = inputs, outputs = conv4)\n",
        "\n",
        "  return shallow_net\n",
        "\n",
        "'''\n",
        "def get_denoise_model(shape):\n",
        "  \n",
        "  inputs = Input(shape)\n",
        "  \n",
        "  ## Encoder starts\n",
        "  conv1 = Conv2D(16, 3, activation = 'relu', padding = 'same', kernel_initializer = 'he_normal')(inputs)\n",
        "  pool1 = MaxPooling2D(pool_size=(2, 2))(conv1)\n",
        "  \n",
        "  ## Bottleneck\n",
        "  conv2 = Conv2D(32, 3, activation = 'relu', padding = 'same', kernel_initializer = 'he_normal')(pool1)\n",
        "\n",
        "  ## Now the decoder starts\n",
        "  up3 = Conv2D(64, 2, activation = 'relu', padding = 'same', kernel_initializer = 'he_normal')(UpSampling2D(size = (2,2))(conv2))\n",
        "  #up3 = Conv2DTranspose(64, 2, strides=(2, 2), activation = 'relu', padding = 'same', kernel_initializer = 'he_normal')(conv2)\n",
        "  merge3 = concatenate([conv1,up3], axis = -1)\n",
        "  conv3 = Conv2D(64, 3, activation = 'relu', padding = 'same', kernel_initializer = 'he_normal')(merge3)\n",
        "  \n",
        "  conv4 = Conv2D(1, 3,  padding = 'same')(conv3)\n",
        "\n",
        "  shallow_net = Model(inputs = inputs, outputs = conv4)\n",
        "  \n",
        "  return shallow_net\n",
        "'''\n",
        "\n",
        "\n",
        "\n",
        "def get_descriptor_model(shape):\n",
        "  \n",
        "  '''Architecture copies HardNet architecture'''\n",
        "  \n",
        "  init_weights = keras.initializers.he_normal()\n",
        "  \n",
        "  descriptor_model = Sequential()\n",
        "  descriptor_model.add(Conv2D(32, 3, padding='same', input_shape=shape, use_bias = True, kernel_initializer=init_weights))\n",
        "  descriptor_model.add(BatchNormalization(axis = -1))\n",
        "  descriptor_model.add(Activation('relu'))\n",
        "\n",
        "  descriptor_model.add(Conv2D(32, 3, padding='same', use_bias = True, kernel_initializer=init_weights))\n",
        "  descriptor_model.add(BatchNormalization(axis = -1))\n",
        "  descriptor_model.add(Activation('relu'))\n",
        "\n",
        "  descriptor_model.add(Conv2D(64, 3, padding='same', strides=2, use_bias = True, kernel_initializer=init_weights))\n",
        "  descriptor_model.add(BatchNormalization(axis = -1))\n",
        "  descriptor_model.add(Activation('relu'))\n",
        "\n",
        "  descriptor_model.add(Conv2D(64, 3, padding='same', use_bias = True, kernel_initializer=init_weights))\n",
        "  descriptor_model.add(BatchNormalization(axis = -1))\n",
        "  descriptor_model.add(Activation('relu'))\n",
        "\n",
        "  descriptor_model.add(Conv2D(128, 3, padding='same', strides=2,  use_bias = True, kernel_initializer=init_weights))\n",
        "  descriptor_model.add(BatchNormalization(axis = -1))\n",
        "  descriptor_model.add(Activation('relu'))\n",
        "\n",
        "  descriptor_model.add(Conv2D(128, 3, padding='same', use_bias = True, kernel_initializer=init_weights))\n",
        "  descriptor_model.add(BatchNormalization(axis = -1))\n",
        "  descriptor_model.add(Activation('relu'))\n",
        "  descriptor_model.add(Dropout(0.3))\n",
        "\n",
        "  descriptor_model.add(Conv2D(128, 8, padding='valid', use_bias = True, kernel_initializer=init_weights))\n",
        "  \n",
        "  # Final descriptor reshape\n",
        "  descriptor_model.add(Reshape((128,)))\n",
        "  \n",
        "  return descriptor_model\n",
        "  \n",
        "  \n",
        "def triplet_loss(x):\n",
        "  \n",
        "  output_dim = 128\n",
        "  a, p, n = x\n",
        "  _alpha = 1.0\n",
        "  positive_distance = K.mean(K.square(a - p), axis=-1)\n",
        "  negative_distance = K.mean(K.square(a - n), axis=-1)\n",
        "  \n",
        "  return K.expand_dims(K.maximum(0.0, positive_distance - negative_distance + _alpha), axis = 1)"
      ],
      "execution_count": 0,
      "outputs": []
    },
    {
      "metadata": {
        "id": "RlS5zcV7EJgp",
        "colab_type": "text"
      },
      "cell_type": "markdown",
      "source": [
        "## Denoising Image Patches\n"
      ]
    },
    {
      "metadata": {
        "id": "wHxHwjUd3-pY",
        "colab_type": "text"
      },
      "cell_type": "markdown",
      "source": [
        "We use the *DenoiseHPatches* class implemented in the read_data.py file, which takes as input the list of sequences to load and the size of batches. \n",
        "\n",
        "*DenoiseHPatches* outputs batches where the input data is the noisy image and the label is the clean image, so we can use a mean absolute error (MAE) metric as loss function. You can try to use different metrics here to see if that improves results. \n",
        "\n",
        "Afterward, we take a subset of training and validation sequences by using *random.sample* (3 sequences for training and 1 for validation data). The purpose of doing so is just to speed-up training when trying different setups, but you should use the whole dataset when training your final model. Remove the random.sample function to give the generator all the training data.\n",
        "\n",
        "In addition, note that we are using the test set as validation. We will provide you with a new test set that will be used to evaluate your final model, and from which you will not have the clean images. \n",
        "\n",
        "**Updated**: Training should be quite faster now (1 epoch around 15 minutes)."
      ]
    },
    {
      "metadata": {
        "id": "m_VPSHmSK0dS",
        "colab_type": "code",
        "outputId": "caac2677-eee9-4a59-cfdd-c179e3b1938d",
        "colab": {
          "base_uri": "https://localhost:8080/",
          "height": 51
        }
      },
      "cell_type": "code",
      "source": [
        "denoise_generator = DenoiseHPatches(random.sample(seqs_train, 3), batch_size=50)\n",
        "denoise_generator_val = DenoiseHPatches(random.sample(seqs_test, 1), batch_size=50)\n",
        "\n",
        "# Uncomment following lines for using all the data to train the denoising model\n",
        "# denoise_generator = DenoiseHPatches(seqs_train, batch_size=50)\n",
        "# denoise_generator_val = DenoiseHPatches(seqs_test, batch_size=50)"
      ],
      "execution_count": 11,
      "outputs": [
        {
          "output_type": "stream",
          "text": [
            "100%|██████████| 3/3 [00:02<00:00,  1.34it/s]\n",
            "100%|██████████| 1/1 [00:01<00:00,  1.38s/it]\n"
          ],
          "name": "stderr"
        }
      ]
    },
    {
      "metadata": {
        "id": "-eUSba93Dttj",
        "colab_type": "code",
        "colab": {}
      },
      "cell_type": "code",
      "source": [
        "shape = (32, 32, 1)\n",
        "denoise_model = get_denoise_model(shape)"
      ],
      "execution_count": 0,
      "outputs": []
    },
    {
      "metadata": {
        "id": "2WqC-cF0Tu7e",
        "colab_type": "code",
        "colab": {}
      },
      "cell_type": "code",
      "source": [
        "plot_model(denoise_model,\n",
        "    to_file='denoise_model.png',\n",
        "    show_shapes=True,\n",
        "    show_layer_names=False,\n",
        "    rankdir='TB')"
      ],
      "execution_count": 0,
      "outputs": []
    },
    {
      "metadata": {
        "id": "H3wkjkpk4bRh",
        "colab_type": "text"
      },
      "cell_type": "markdown",
      "source": [
        "We set number of epochs to 1, tweak it, along with other hyperparameters, to improve the performance of the model."
      ]
    },
    {
      "metadata": {
        "id": "8q8H9oc2_m_W",
        "colab_type": "code",
        "colab": {}
      },
      "cell_type": "code",
      "source": [
        "import matplotlib.pyplot as plt\n",
        "denoise_val_loss1 = np.empty([0,30])\n",
        "denoise_loss1 = np.empty([0,30])"
      ],
      "execution_count": 0,
      "outputs": []
    },
    {
      "metadata": {
        "id": "edwbgE6yKqcD",
        "colab_type": "code",
        "outputId": "f5af6f17-a1b5-4408-cd07-89d69c772875",
        "colab": {
          "base_uri": "https://localhost:8080/",
          "height": 1020
        }
      },
      "cell_type": "code",
      "source": [
        "#Optimizers\n",
        "Adam = keras.optimizers.Adam(lr=0.001, beta_1=0.9, beta_2=0.999, epsilon=None, decay=0.0, amsgrad=False)\n",
        "RMSprop = keras.optimizers.RMSprop(lr=0.001, rho=0.9, epsilon=None, decay=0.0)\n",
        "sgd = keras.optimizers.SGD(lr=0.00001, momentum=0.9, nesterov=True)\n",
        "\n",
        "denoise_model.compile(loss='mean_absolute_error', optimizer=sgd, metrics=['mae'])\n",
        "epochs = 1\n",
        "### Use a loop to save for each epoch the weights in an external website in\n",
        "### case colab stops. Every time you call fit/fit_generator the weigths are NOT\n",
        "### reset, so e.g. calling 5 times fit(epochs=1) behave as fit(epochs=5)\n",
        "for e in range(epochs):\n",
        "  denoise_history = denoise_model.fit_generator(generator=denoise_generator, \n",
        "                                                epochs=30, verbose=1, \n",
        "                                                validation_data=denoise_generator_val)\n",
        "  ### Saves optimizer and weights\n",
        "  denoise_model.save('denoise.h5') \n",
        "  ### Uploads files to external hosting\n",
        "  !curl -F \"file=@denoise.h5\" https://file.io\n"
      ],
      "execution_count": 0,
      "outputs": [
        {
          "output_type": "stream",
          "text": [
            "Epoch 1/30\n",
            "1051/1051 [==============================] - 19s 18ms/step - loss: 8.4788 - mean_absolute_error: 8.4788 - val_loss: 8.9351 - val_mean_absolute_error: 8.9351\n",
            "Epoch 2/30\n",
            "1051/1051 [==============================] - 18s 17ms/step - loss: 6.3336 - mean_absolute_error: 6.3336 - val_loss: 8.6645 - val_mean_absolute_error: 8.6645\n",
            "Epoch 3/30\n",
            "1051/1051 [==============================] - 18s 17ms/step - loss: 6.2332 - mean_absolute_error: 6.2332 - val_loss: 9.1258 - val_mean_absolute_error: 9.1258\n",
            "Epoch 4/30\n",
            "1051/1051 [==============================] - 18s 17ms/step - loss: 6.1714 - mean_absolute_error: 6.1714 - val_loss: 8.4555 - val_mean_absolute_error: 8.4555\n",
            "Epoch 5/30\n",
            "1051/1051 [==============================] - 18s 17ms/step - loss: 6.1363 - mean_absolute_error: 6.1363 - val_loss: 8.4078 - val_mean_absolute_error: 8.4078\n",
            "Epoch 6/30\n",
            "1051/1051 [==============================] - 18s 17ms/step - loss: 6.0536 - mean_absolute_error: 6.0536 - val_loss: 8.4387 - val_mean_absolute_error: 8.4387\n",
            "Epoch 7/30\n",
            "1051/1051 [==============================] - 18s 17ms/step - loss: 6.0338 - mean_absolute_error: 6.0338 - val_loss: 8.8954 - val_mean_absolute_error: 8.8954\n",
            "Epoch 8/30\n",
            "1051/1051 [==============================] - 17s 17ms/step - loss: 5.9922 - mean_absolute_error: 5.9922 - val_loss: 8.9725 - val_mean_absolute_error: 8.9725\n",
            "Epoch 9/30\n",
            "1051/1051 [==============================] - 18s 17ms/step - loss: 5.9406 - mean_absolute_error: 5.9406 - val_loss: 8.6303 - val_mean_absolute_error: 8.6303\n",
            "Epoch 10/30\n",
            "1051/1051 [==============================] - 18s 17ms/step - loss: 5.9306 - mean_absolute_error: 5.9306 - val_loss: 8.6930 - val_mean_absolute_error: 8.6930\n",
            "Epoch 11/30\n",
            "1051/1051 [==============================] - 17s 17ms/step - loss: 5.9106 - mean_absolute_error: 5.9106 - val_loss: 8.6485 - val_mean_absolute_error: 8.6485\n",
            "Epoch 12/30\n",
            "1051/1051 [==============================] - 18s 17ms/step - loss: 5.8734 - mean_absolute_error: 5.8734 - val_loss: 8.3301 - val_mean_absolute_error: 8.3301\n",
            "Epoch 13/30\n",
            "1051/1051 [==============================] - 18s 17ms/step - loss: 5.8749 - mean_absolute_error: 5.8749 - val_loss: 8.9471 - val_mean_absolute_error: 8.9471\n",
            "Epoch 14/30\n",
            "1051/1051 [==============================] - 18s 17ms/step - loss: 5.8169 - mean_absolute_error: 5.8169 - val_loss: 8.3864 - val_mean_absolute_error: 8.3864\n",
            "Epoch 15/30\n",
            "1051/1051 [==============================] - 18s 17ms/step - loss: 5.7875 - mean_absolute_error: 5.7875 - val_loss: 8.2622 - val_mean_absolute_error: 8.2622\n",
            "Epoch 16/30\n",
            "1051/1051 [==============================] - 18s 17ms/step - loss: 5.7829 - mean_absolute_error: 5.7829 - val_loss: 8.9227 - val_mean_absolute_error: 8.9227\n",
            "Epoch 17/30\n",
            "1051/1051 [==============================] - 18s 17ms/step - loss: 5.8081 - mean_absolute_error: 5.8081 - val_loss: 8.2629 - val_mean_absolute_error: 8.2629\n",
            "Epoch 18/30\n",
            "1051/1051 [==============================] - 18s 17ms/step - loss: 5.7834 - mean_absolute_error: 5.7834 - val_loss: 8.2697 - val_mean_absolute_error: 8.2697\n",
            "Epoch 19/30\n",
            "1051/1051 [==============================] - 17s 17ms/step - loss: 5.7589 - mean_absolute_error: 5.7589 - val_loss: 8.2590 - val_mean_absolute_error: 8.2590\n",
            "Epoch 20/30\n",
            "1051/1051 [==============================] - 18s 17ms/step - loss: 5.7352 - mean_absolute_error: 5.7352 - val_loss: 8.4747 - val_mean_absolute_error: 8.4747\n",
            "Epoch 21/30\n",
            "1051/1051 [==============================] - 17s 17ms/step - loss: 5.7473 - mean_absolute_error: 5.7473 - val_loss: 8.2751 - val_mean_absolute_error: 8.2751\n",
            "Epoch 22/30\n",
            "1051/1051 [==============================] - 18s 17ms/step - loss: 5.7278 - mean_absolute_error: 5.7278 - val_loss: 8.4493 - val_mean_absolute_error: 8.4493\n",
            "Epoch 23/30\n",
            "1051/1051 [==============================] - 18s 17ms/step - loss: 5.7287 - mean_absolute_error: 5.7287 - val_loss: 8.4393 - val_mean_absolute_error: 8.4393\n",
            "Epoch 24/30\n",
            "1051/1051 [==============================] - 18s 17ms/step - loss: 5.6984 - mean_absolute_error: 5.6984 - val_loss: 8.5070 - val_mean_absolute_error: 8.5070\n"
          ],
          "name": "stdout"
        }
      ]
    },
    {
      "metadata": {
        "id": "sNCR4JIYnZpM",
        "colab_type": "code",
        "outputId": "ed4e161c-5723-4634-be62-a31a67a4c1d2",
        "colab": {
          "base_uri": "https://localhost:8080/",
          "height": 361
        }
      },
      "cell_type": "code",
      "source": [
        "denoise_val_loss = np.append(denoise_val_loss, denoise_history.history['val_loss'])\n",
        "denoise_loss = np.append(denoise_loss, denoise_history.history['loss'])\n",
        "#denoise_val_loss1 = np.append(denoise_val_loss1, denoise_history.history['val_loss'])\n",
        "#denoise_loss1 = np.append(denoise_loss1, denoise_history.history['loss'])\n",
        "plt.plot(denoise_loss1)\n",
        "plt.plot(denoise_val_loss1)\n",
        "plt.ylabel('Loss')\n",
        "plt.xlabel('Epoch')\n",
        "plt.legend(['Training Loss', 'Validation Loss'])\n",
        "plt.show()"
      ],
      "execution_count": 31,
      "outputs": [
        {
          "output_type": "display_data",
          "data": {
            "image/png": "[encoded data removed]",
            "text/plain": [
              "<Figure size 576x396 with 1 Axes>"
            ]
          },
          "metadata": {
            "tags": []
          }
        }
      ]
    },
    {
      "metadata": {
        "id": "2dKBM4qA8GTw",
        "colab_type": "text"
      },
      "cell_type": "markdown",
      "source": [
        "After every epoch, the code will generate an external link, this link saves your weights in case of colab disconnecting during training. Example of an epoch:\n",
        "\n",
        "**Epoch 1/1**\n",
        "1797/1797 [==============================] - 48s 27ms/step - loss: 11.4135 - \n",
        "mean_absolute_error: 11.4135 - val_loss: 7.6013 - val_mean_absolute_error: 7.6013 \n",
        "{\"success\":true,\"key\":\"fv9vjj\"\n",
        "\n",
        "\"link\":\"https://file.io/fv9vjj\",\"expiry\":\"14 days\"} **Epoch 1/1**"
      ]
    },
    {
      "metadata": {
        "id": "Ohb6Q94z4yya",
        "colab_type": "text"
      },
      "cell_type": "markdown",
      "source": [
        "If colab did not disconnect, and you want to save the weights in your local disk, you also can use:\n"
      ]
    },
    {
      "metadata": {
        "id": "GjAQRnPV47BI",
        "colab_type": "code",
        "colab": {}
      },
      "cell_type": "code",
      "source": [
        "from google.colab import files\n",
        "files.download('denoise.h5')"
      ],
      "execution_count": 0,
      "outputs": []
    },
    {
      "metadata": {
        "id": "vCfE3xnF8Nfc",
        "colab_type": "text"
      },
      "cell_type": "markdown",
      "source": [
        "Moreover, if you have a model saved from a previous training session, you can upload it to colab and initialize the model's weights with it. \n",
        "\n",
        "You either can use `!wget download_link` or upload the weights from your local disk by using the left panel ('Files' section) in colab.\n",
        "\n",
        "Once the weights are uploaded, you can use\n",
        "\n",
        "> ``denoise_model = keras.models.load_model('./denoise.h5')\n",
        "``\n",
        "\n",
        "to load the weights."
      ]
    },
    {
      "metadata": {
        "id": "xMHY9CR16gjD",
        "colab_type": "code",
        "outputId": "8ff0cc08-dd8a-4566-f59a-a822dc5a1451",
        "colab": {
          "base_uri": "https://localhost:8080/",
          "height": 89
        }
      },
      "cell_type": "code",
      "source": [
        "#denoise_model = keras.models.load_model('./denoise.h5')"
      ],
      "execution_count": 0,
      "outputs": [
        {
          "output_type": "stream",
          "text": [
            "WARNING:tensorflow:From /usr/local/lib/python2.7/dist-packages/tensorflow/python/ops/math_ops.py:3066: to_int32 (from tensorflow.python.ops.math_ops) is deprecated and will be removed in a future version.\n",
            "Instructions for updating:\n",
            "Use tf.cast instead.\n"
          ],
          "name": "stdout"
        }
      ]
    },
    {
      "metadata": {
        "id": "e9FzSZzMEcs4",
        "colab_type": "text"
      },
      "cell_type": "markdown",
      "source": [
        "### Visualization of Denoising Results\n",
        "To visualize how the denoised patches look, you can run the following function. It returns the noisy patch, the denoised patch in the middle, and the clean patch in the right side. "
      ]
    },
    {
      "metadata": {
        "id": "XFA_8uN4Eb3B",
        "colab_type": "code",
        "outputId": "3f3267a7-bccc-4de4-ebe1-57c8c7977e1d",
        "colab": {
          "base_uri": "https://localhost:8080/",
          "height": 202
        }
      },
      "cell_type": "code",
      "source": [
        "plot_denoise(denoise_model)"
      ],
      "execution_count": 0,
      "outputs": [
        {
          "output_type": "stream",
          "text": [
            "100%|██████████| 1/1 [00:00<00:00,  1.64it/s]\n"
          ],
          "name": "stderr"
        },
        {
          "output_type": "display_data",
          "data": {
            "image/png": "[encoded data removed]",
            "text/plain": [
              "<Figure size 576x396 with 3 Axes>"
            ]
          },
          "metadata": {
            "tags": []
          }
        }
      ]
    },
    {
      "metadata": {
        "id": "Isx8_SpqFL6m",
        "colab_type": "code",
        "colab": {}
      },
      "cell_type": "code",
      "source": [
        "#delete generators used in the denoising model training\n",
        "del denoise_generator\n",
        "del denoise_generator_val"
      ],
      "execution_count": 0,
      "outputs": []
    },
    {
      "metadata": {
        "id": "SyABaCvkEPDR",
        "colab_type": "text"
      },
      "cell_type": "markdown",
      "source": [
        "## Training a Descriptor Network\n",
        "In the last section we trained a model that given a noisy patch, outputs a denoised version of it. We hoped that by doing so, we will improve the performance of the second part, which is training a network that outputs the descriptor. As we mentioned, a descriptor is a numerical vector that represents the small images we have. The dataset consists of a large number of small images, which are cropped patches from other larger images. Hence, they represent some local part of a scene. That is why there are no objects represented, only corners or textures. Each of these patches is related to a subset of other patches of the dataset by some kind of geometric transformation (e.g. rotation).  For a given patch, we want the network to output a vector that is close to the vectors of the patches that represent the same local part of a scene, while being far from patches do not represent that local part of a scene.\n",
        "\n",
        "To do so, we will build a convolutional neural network that takes the input of $32\\times32$ and outputs a descriptor of size $128$. For the loss, we use the triplet loss, which takes an anchor patch, a negative patch and a positive patch. The idea is to train the network so the descriptors from the anchor and positive patch have a low distance between them, and the negative and anchor patch have a large distance between them. \n",
        "\n",
        "In this cell we generate a triplet network, which is a network formed by three copies of the same network. That means that the descriptor model will compute the descriptor for the input `'a'` (anchor), the same descriptor model (with the same weights) will compute the descriptor for the input `'p'` (positive), and again the same model will compute the descriptor for the input `'n'` (negative). \n",
        "\n",
        "**Updated explanation**: Due to the way Keras handles the compile method, it needs a loss as an argument in that compile method. However, our loss is computed in the lambda layer, so we want to minimize the output of that layer. As we want to minimize the output of the Lambda function (in this case the triplet loss), we output as the label in the training_generator a vector of zeros and we compute the mean absolute error of the triplet loss and this vector of zeros. To give you an intuition, what we aim to minimize is\n",
        "$$  |\\text{triplet_loss} - 0| =  |\\text{triplet_loss}| = \\text{triplet_loss} $$\n",
        "\n"
      ]
    },
    {
      "metadata": {
        "id": "DVmDZIRTHPDa",
        "colab_type": "code",
        "outputId": "6f69e424-c6bc-44ee-9306-93e83cdfa9b5",
        "colab": {
          "base_uri": "https://localhost:8080/",
          "height": 89
        }
      },
      "cell_type": "code",
      "source": [
        "from keras.layers import Lambda\n",
        "shape = (32, 32, 1)\n",
        "xa = Input(shape=shape, name='a')\n",
        "xp = Input(shape=shape, name='p')\n",
        "xn = Input(shape=shape, name='n')\n",
        "descriptor_model = get_descriptor_model(shape)\n",
        "ea = descriptor_model(xa)\n",
        "ep = descriptor_model(xp)\n",
        "en = descriptor_model(xn)\n",
        "\n",
        "loss = Lambda(triplet_loss)([ea, ep, en])\n",
        "\n",
        "descriptor_model_trip = Model(inputs=[xa, xp, xn], outputs=loss)\n",
        "#Optimizer\n",
        "sgd = keras.optimizers.SGD(lr=0.1)\n",
        "#Adam = keras.optimizers.Adam(lr=0.001, beta_1=0.9, beta_2=0.999, epsilon=None, decay=0.0, amsgrad=False)\n",
        "#RMSprop = keras.optimizers.RMSprop(lr=0.001, rho=0.9, epsilon=None, decay=0.0)\n",
        "descriptor_model_trip.compile(loss='mean_absolute_error', optimizer=sgd)"
      ],
      "execution_count": 0,
      "outputs": [
        {
          "output_type": "stream",
          "text": [
            "WARNING:tensorflow:From /usr/local/lib/python2.7/dist-packages/keras/backend/tensorflow_backend.py:3445: calling dropout (from tensorflow.python.ops.nn_ops) with keep_prob is deprecated and will be removed in a future version.\n",
            "Instructions for updating:\n",
            "Please use `rate` instead of `keep_prob`. Rate should be set to `rate = 1 - keep_prob`.\n"
          ],
          "name": "stdout"
        }
      ]
    },
    {
      "metadata": {
        "id": "iVoTfsaOZJl_",
        "colab_type": "code",
        "colab": {}
      },
      "cell_type": "code",
      "source": [
        "plot_model(descriptor_model,\n",
        "    to_file='descriptor_model.png',\n",
        "    show_shapes=True,\n",
        "    show_layer_names=False,\n",
        "    rankdir='TB')"
      ],
      "execution_count": 0,
      "outputs": []
    },
    {
      "metadata": {
        "id": "BllXKocHCwZ7",
        "colab_type": "text"
      },
      "cell_type": "markdown",
      "source": [
        "Here we use the class HPatches, which loads the corresponding files by using the method `read_image_file`. It reads the patches. The output of read_image_file is a tuple of the form (images, labels), which is passed to the class `DataGeneratorDesc`. This class is a generator that creates batches of triplets, and each epoch is defined by the number of triplets in the argument `num_triplets`.\n",
        "\n",
        "**Updated**: In the previous version of the baseline code, we were training the descriptor model with the noisy patches, not with the denoised ones. By adding the argument `denoise_model=denoise_model` to the class HPatches we can use the denoised images instead to train this descriptor model (if `denoise_model=None`, the noisy patches will be used). However, as it has to compute the denoised patch first, the loading of the data will be slower (6/7 extra min).  If you want to train the model with the clean patches instead, you can set the argument `use_clean=True`. In this last case, even if a denoise model is given, it will not be used. When running this piece of code **the type of patches (denoised, noisy or clean) used is printed**."
      ]
    },
    {
      "metadata": {
        "id": "YIR1cH4fDwKj",
        "colab_type": "code",
        "outputId": "01dd168b-3cfb-42f9-e3fa-e493a982cc4f",
        "colab": {
          "base_uri": "https://localhost:8080/",
          "height": 190
        }
      },
      "cell_type": "code",
      "source": [
        "### Descriptor loading and training\n",
        "# Loading images\n",
        "hPatches = HPatches(train_fnames=train_fnames, test_fnames=test_fnames,\n",
        "                    denoise_model=denoise_model, use_clean=False)\n",
        "# Creating training generator\n",
        "training_generator = DataGeneratorDesc(*hPatches.read_image_file(hpatches_dir, train=1), num_triplets=100000)\n",
        "# Creating validation generator\n",
        "val_generator = DataGeneratorDesc(*hPatches.read_image_file(hpatches_dir, train=0), num_triplets=10000)\n"
      ],
      "execution_count": 0,
      "outputs": [
        {
          "output_type": "stream",
          "text": [
            "Using denoised patches\n",
            "100%|██████████| 116/116 [00:34<00:00,  3.39it/s]\n",
            "Denoising patches...\n",
            "100%|██████████| 15589/15589 [04:15<00:00, 61.11it/s]\n"
          ],
          "name": "stdout"
        },
        {
          "output_type": "stream",
          "text": [
            "100%|██████████| 100000/100000 [00:01<00:00, 82094.79it/s]\n"
          ],
          "name": "stderr"
        },
        {
          "output_type": "stream",
          "text": [
            "Using denoised patches\n",
            "100%|██████████| 116/116 [00:20<00:00,  3.64it/s]\n",
            "Denoising patches...\n",
            "100%|██████████| 9525/9525 [02:35<00:00, 62.10it/s]\n"
          ],
          "name": "stdout"
        },
        {
          "output_type": "stream",
          "text": [
            "100%|██████████| 10000/10000 [00:00<00:00, 60036.99it/s]\n"
          ],
          "name": "stderr"
        }
      ]
    },
    {
      "metadata": {
        "id": "GoQYyuD7_4PS",
        "colab_type": "text"
      },
      "cell_type": "markdown",
      "source": [
        "We plot a random triplet in the form of anchor, positive and negative sample. The positive and anchor patches are similar between them (the difference is a geometric transformation, for example rotation), whereas the negative sample should be quite dissimilar to any of the other two."
      ]
    },
    {
      "metadata": {
        "id": "3RQmOMU92csu",
        "colab_type": "code",
        "outputId": "9b2e2959-5204-4a6a-db2c-abc1019337a0",
        "colab": {
          "base_uri": "https://localhost:8080/",
          "height": 184
        }
      },
      "cell_type": "code",
      "source": [
        "plot_triplet(training_generator)"
      ],
      "execution_count": 0,
      "outputs": [
        {
          "output_type": "display_data",
          "data": {
            "image/png": "[encoded data removed]",
            "text/plain": [
              "<Figure size 576x396 with 3 Axes>"
            ]
          },
          "metadata": {
            "tags": []
          }
        }
      ]
    },
    {
      "metadata": {
        "id": "UaE2_6HUCAOw",
        "colab_type": "text"
      },
      "cell_type": "markdown",
      "source": [
        "We now train the descriptor model and save the weights afterward."
      ]
    },
    {
      "metadata": {
        "id": "HvZ0MtPvTex8",
        "colab_type": "code",
        "colab": {}
      },
      "cell_type": "code",
      "source": [
        "descriptor_val_loss = np.empty([0,1])\n",
        "descriptor_loss = np.empty([0,1])"
      ],
      "execution_count": 0,
      "outputs": []
    },
    {
      "metadata": {
        "id": "QPyc8as42WTQ",
        "colab_type": "code",
        "outputId": "eaf1b193-c501-4af8-de43-c190049fe546",
        "colab": {
          "base_uri": "https://localhost:8080/",
          "height": 2127
        }
      },
      "cell_type": "code",
      "source": [
        "epochs = 38\n",
        "### As with the denoising model, we use a loop to save for each epoch \n",
        "## #the weights in an external website in case colab stops. \n",
        "### reset, so e.g. calling 5 times fit(epochs=1) behave as fit(epochs=5)\n",
        "\n",
        "### If you have a model saved from a previous training session\n",
        "### Load it in the next line\n",
        "# descriptor_model_trip.set_weights(keras.models.load_model('./descriptor.h5').get_weights())\n",
        "# descriptor_model_trip.optimizer = keras.models.load_model('./descriptor.h5').optimizer\n",
        "\n",
        "for e in range(epochs):\n",
        "  \n",
        "  descriptor_history = descriptor_model_trip.fit_generator(generator=training_generator, epochs=1, verbose=1, validation_data=val_generator)\n",
        "  \n",
        "  descriptor_val_loss = np.append(descriptor_val_loss, descriptor_history.history['val_loss'])\n",
        "  descriptor_loss = np.append(descriptor_loss, descriptor_history.history['loss'])\n",
        "  \n",
        "  ### Saves optimizer and weights\n",
        "  descriptor_model_trip.save('descriptor.h5') \n",
        "  ### Uploads files to external hosting\n",
        "  !curl -F \"file=@descriptor.h5\" https://file.io\n"
      ],
      "execution_count": 0,
      "outputs": [
        {
          "output_type": "stream",
          "text": [
            "Epoch 1/1\n",
            "1999/2000 [============================>.] - ETA: 0s - loss: 0.1458"
          ],
          "name": "stdout"
        },
        {
          "output_type": "stream",
          "text": [
            "100%|██████████| 100000/100000 [00:03<00:00, 27462.52it/s]\n"
          ],
          "name": "stderr"
        },
        {
          "output_type": "stream",
          "text": [
            "\b\b\b\b\b\b\b\b\b\b\b\b\b\b\b\b\b\b\b\b\b\b\b\b\b\b\b\b\b\b\b\b\b\b\b\b\b\b\b\b\b\b\b\b\b\b\b\b\b\b\b\b\b\b\b\b\b\b\b\b\b\b\b\b\b\b\b\r2000/2000 [==============================] - 160s 80ms/step - loss: 0.1458 - val_loss: 0.1782\n"
          ],
          "name": "stdout"
        },
        {
          "output_type": "stream",
          "text": [
            "100%|██████████| 10000/10000 [00:00<00:00, 59948.77it/s]\n"
          ],
          "name": "stderr"
        },
        {
          "output_type": "stream",
          "text": [
            "{\"success\":true,\"key\":\"a3JfCN\",\"link\":\"https://file.io/a3JfCN\",\"expiry\":\"14 days\"}Epoch 1/1\n",
            "1999/2000 [============================>.] - ETA: 0s - loss: 0.1347"
          ],
          "name": "stdout"
        },
        {
          "output_type": "stream",
          "text": [
            "100%|██████████| 100000/100000 [00:03<00:00, 28682.68it/s]\n"
          ],
          "name": "stderr"
        },
        {
          "output_type": "stream",
          "text": [
            "2000/2000 [==============================] - 160s 80ms/step - loss: 0.1347 - val_loss: 0.1714\n",
            "{\"success\":true,\"key\":\"YINMUJ\",\"link\":\"https://file.io/YINMUJ\",\"expiry\":\"14 days\"}Epoch 1/1\n",
            "1999/2000 [============================>.] - ETA: 0s - loss: 0.1277"
          ],
          "name": "stdout"
        },
        {
          "output_type": "stream",
          "text": [
            " 97%|█████████▋| 97338/100000 [00:03<00:00, 31326.41it/s]"
          ],
          "name": "stderr"
        },
        {
          "output_type": "stream",
          "text": [
            "\b\b\b\b\b\b\b\b\b\b\b\b\b\b\b\b\b\b\b\b\b\b\b\b\b\b\b\b\b\b\b\b\b\b\b\b\b\b\b\b\b\b\b\b\b\b\b\b\b\b\b\b\b\b\b\b\b\b\b\b\b\b\b\b\b\b\b\r2000/2000 [==============================] - 159s 79ms/step - loss: 0.1277 - val_loss: 0.1622\n"
          ],
          "name": "stdout"
        },
        {
          "output_type": "stream",
          "text": [
            "100%|██████████| 100000/100000 [00:03<00:00, 25895.87it/s]\n",
            "100%|██████████| 10000/10000 [00:00<00:00, 60533.48it/s]\n"
          ],
          "name": "stderr"
        },
        {
          "output_type": "stream",
          "text": [
            "{\"success\":true,\"key\":\"YepMe1\",\"link\":\"https://file.io/YepMe1\",\"expiry\":\"14 days\"}Epoch 1/1\n",
            "1999/2000 [============================>.] - ETA: 0s - loss: 0.1231"
          ],
          "name": "stdout"
        },
        {
          "output_type": "stream",
          "text": [
            "100%|█████████▉| 99735/100000 [00:03<00:00, 33005.24it/s]"
          ],
          "name": "stderr"
        },
        {
          "output_type": "stream",
          "text": [
            "\b\b\b\b\b\b\b\b\b\b\b\b\b\b\b\b\b\b\b\b\b\b\b\b\b\b\b\b\b\b\b\b\b\b\b\b\b\b\b\b\b\b\b\b\b\b\b\b\b\b\b\b\b\b\b\b\b\b\b\b\b\b\b\b\b\b\b\r2000/2000 [==============================] - 159s 79ms/step - loss: 0.1230 - val_loss: 0.1593\n"
          ],
          "name": "stdout"
        },
        {
          "output_type": "stream",
          "text": [
            "100%|██████████| 100000/100000 [00:03<00:00, 26907.43it/s]\n",
            "100%|██████████| 10000/10000 [00:00<00:00, 59915.72it/s]\n"
          ],
          "name": "stderr"
        },
        {
          "output_type": "stream",
          "text": [
            "{\"success\":true,\"key\":\"nyTobl\",\"link\":\"https://file.io/nyTobl\",\"expiry\":\"14 days\"}Epoch 1/1\n",
            "1999/2000 [============================>.] - ETA: 0s - loss: 0.1199"
          ],
          "name": "stdout"
        },
        {
          "output_type": "stream",
          "text": [
            "100%|██████████| 100000/100000 [00:03<00:00, 27183.36it/s]\n"
          ],
          "name": "stderr"
        },
        {
          "output_type": "stream",
          "text": [
            "2000/2000 [==============================] - 160s 80ms/step - loss: 0.1198 - val_loss: 0.1598\n",
            "{\"success\":true,\"key\":\"uN5fCs\",\"link\":\"https://file.io/uN5fCs\",\"expiry\":\"14 days\"}Epoch 1/1\n",
            "1999/2000 [============================>.] - ETA: 0s - loss: 0.1183"
          ],
          "name": "stdout"
        },
        {
          "output_type": "stream",
          "text": [
            "100%|██████████| 100000/100000 [00:03<00:00, 26918.76it/s]\n"
          ],
          "name": "stderr"
        },
        {
          "output_type": "stream",
          "text": [
            "2000/2000 [==============================] - 159s 79ms/step - loss: 0.1183 - val_loss: 0.1817\n",
            "{\"success\":true,\"key\":\"Z97wo4\",\"link\":\"https://file.io/Z97wo4\",\"expiry\":\"14 days\"}Epoch 1/1\n",
            "1999/2000 [============================>.] - ETA: 0s - loss: 0.1132"
          ],
          "name": "stdout"
        },
        {
          "output_type": "stream",
          "text": [
            " 96%|█████████▌| 95986/100000 [00:03<00:00, 33640.72it/s]"
          ],
          "name": "stderr"
        },
        {
          "output_type": "stream",
          "text": [
            "\b\b\b\b\b\b\b\b\b\b\b\b\b\b\b\b\b\b\b\b\b\b\b\b\b\b\b\b\b\b\b\b\b\b\b\b\b\b\b\b\b\b\b\b\b\b\b\b\b\b\b\b\b\b\b\b\b\b\b\b\b\b\b\b\b\b\b\r2000/2000 [==============================] - 158s 79ms/step - loss: 0.1132 - val_loss: 0.1474\n"
          ],
          "name": "stdout"
        },
        {
          "output_type": "stream",
          "text": [
            "100%|██████████| 100000/100000 [00:03<00:00, 26091.96it/s]\n",
            "100%|██████████| 10000/10000 [00:00<00:00, 60540.38it/s]\n"
          ],
          "name": "stderr"
        },
        {
          "output_type": "stream",
          "text": [
            "{\"success\":true,\"key\":\"i2j1xi\",\"link\":\"https://file.io/i2j1xi\",\"expiry\":\"14 days\"}Epoch 1/1\n",
            "1999/2000 [============================>.] - ETA: 0s - loss: 0.1104"
          ],
          "name": "stdout"
        },
        {
          "output_type": "stream",
          "text": [
            " 94%|█████████▍| 94480/100000 [00:03<00:00, 31466.16it/s]"
          ],
          "name": "stderr"
        },
        {
          "output_type": "stream",
          "text": [
            "\b\b\b\b\b\b\b\b\b\b\b\b\b\b\b\b\b\b\b\b\b\b\b\b\b\b\b\b\b\b\b\b\b\b\b\b\b\b\b\b\b\b\b\b\b\b\b\b\b\b\b\b\b\b\b\b\b\b\b\b\b\b\b\b\b\b\b\r2000/2000 [==============================] - 159s 80ms/step - loss: 0.1104 - val_loss: 0.2492\n"
          ],
          "name": "stdout"
        },
        {
          "output_type": "stream",
          "text": [
            "100%|██████████| 100000/100000 [00:04<00:00, 22716.19it/s]\n",
            "100%|██████████| 10000/10000 [00:00<00:00, 60405.41it/s]\n"
          ],
          "name": "stderr"
        },
        {
          "output_type": "stream",
          "text": [
            "{\"success\":true,\"key\":\"k2SYEk\",\"link\":\"https://file.io/k2SYEk\",\"expiry\":\"14 days\"}Epoch 1/1\n",
            "1999/2000 [============================>.] - ETA: 0s - loss: 0.1073"
          ],
          "name": "stdout"
        },
        {
          "output_type": "stream",
          "text": [
            "100%|██████████| 100000/100000 [00:03<00:00, 27475.07it/s]\n"
          ],
          "name": "stderr"
        },
        {
          "output_type": "stream",
          "text": [
            "2000/2000 [==============================] - 159s 79ms/step - loss: 0.1073 - val_loss: 0.1269\n",
            "{\"success\":true,\"key\":\"4ywv6J\",\"link\":\"https://file.io/4ywv6J\",\"expiry\":\"14 days\"}Epoch 1/1\n",
            "1999/2000 [============================>.] - ETA: 0s - loss: 0.1073"
          ],
          "name": "stdout"
        },
        {
          "output_type": "stream",
          "text": [
            "100%|██████████| 100000/100000 [00:03<00:00, 27652.70it/s]\n"
          ],
          "name": "stderr"
        },
        {
          "output_type": "stream",
          "text": [
            "2000/2000 [==============================] - 158s 79ms/step - loss: 0.1074 - val_loss: 0.1409\n",
            "{\"success\":true,\"key\":\"ABfERR\",\"link\":\"https://file.io/ABfERR\",\"expiry\":\"14 days\"}Epoch 1/1\n",
            "1999/2000 [============================>.] - ETA: 0s - loss: 0.1023"
          ],
          "name": "stdout"
        },
        {
          "output_type": "stream",
          "text": [
            "100%|██████████| 100000/100000 [00:03<00:00, 30005.27it/s]\n"
          ],
          "name": "stderr"
        },
        {
          "output_type": "stream",
          "text": [
            "2000/2000 [==============================] - 158s 79ms/step - loss: 0.1023 - val_loss: 0.1533\n",
            "{\"success\":true,\"key\":\"lnfxq1\",\"link\":\"https://file.io/lnfxq1\",\"expiry\":\"14 days\"}Epoch 1/1\n",
            "1999/2000 [============================>.] - ETA: 0s - loss: 0.1004"
          ],
          "name": "stdout"
        },
        {
          "output_type": "stream",
          "text": [
            " 99%|█████████▉| 99205/100000 [00:03<00:00, 29644.30it/s]"
          ],
          "name": "stderr"
        },
        {
          "output_type": "stream",
          "text": [
            "\b\b\b\b\b\b\b\b\b\b\b\b\b\b\b\b\b\b\b\b\b\b\b\b\b\b\b\b\b\b\b\b\b\b\b\b\b\b\b\b\b\b\b\b\b\b\b\b\b\b\b\b\b\b\b\b\b\b\b\b\b\b\b\b\b\b\b\r2000/2000 [==============================] - 158s 79ms/step - loss: 0.1004 - val_loss: 0.1421\n"
          ],
          "name": "stdout"
        },
        {
          "output_type": "stream",
          "text": [
            "100%|██████████| 100000/100000 [00:03<00:00, 27145.65it/s]\n",
            "100%|██████████| 10000/10000 [00:00<00:00, 60648.67it/s]\n"
          ],
          "name": "stderr"
        },
        {
          "output_type": "stream",
          "text": [
            "{\"success\":true,\"key\":\"9zh2JE\",\"link\":\"https://file.io/9zh2JE\",\"expiry\":\"14 days\"}Epoch 1/1\n",
            "1999/2000 [============================>.] - ETA: 0s - loss: 0.0981"
          ],
          "name": "stdout"
        },
        {
          "output_type": "stream",
          "text": [
            " 98%|█████████▊| 98042/100000 [00:03<00:00, 32219.60it/s]"
          ],
          "name": "stderr"
        },
        {
          "output_type": "stream",
          "text": [
            "\b\b\b\b\b\b\b\b\b\b\b\b\b\b\b\b\b\b\b\b\b\b\b\b\b\b\b\b\b\b\b\b\b\b\b\b\b\b\b\b\b\b\b\b\b\b\b\b\b\b\b\b\b\b\b\b\b\b\b\b\b\b\b\b\b\b\b\r2000/2000 [==============================] - 158s 79ms/step - loss: 0.0980 - val_loss: 0.1338\n"
          ],
          "name": "stdout"
        },
        {
          "output_type": "stream",
          "text": [
            "100%|██████████| 100000/100000 [00:03<00:00, 29636.15it/s]\n",
            "100%|██████████| 10000/10000 [00:00<00:00, 60343.45it/s]\n"
          ],
          "name": "stderr"
        },
        {
          "output_type": "stream",
          "text": [
            "{\"success\":true,\"key\":\"LWqzH5\",\"link\":\"https://file.io/LWqzH5\",\"expiry\":\"14 days\"}Epoch 1/1\n",
            "1999/2000 [============================>.] - ETA: 0s - loss: 0.0996"
          ],
          "name": "stdout"
        },
        {
          "output_type": "stream",
          "text": [
            " 98%|█████████▊| 97900/100000 [00:03<00:00, 30941.58it/s]"
          ],
          "name": "stderr"
        },
        {
          "output_type": "stream",
          "text": [
            "\b\b\b\b\b\b\b\b\b\b\b\b\b\b\b\b\b\b\b\b\b\b\b\b\b\b\b\b\b\b\b\b\b\b\b\b\b\b\b\b\b\b\b\b\b\b\b\b\b\b\b\b\b\b\b\b\b\b\b\b\b\b\b\b\b\b\b\r2000/2000 [==============================] - 158s 79ms/step - loss: 0.0996 - val_loss: 0.1578\n"
          ],
          "name": "stdout"
        },
        {
          "output_type": "stream",
          "text": [
            "100%|██████████| 100000/100000 [00:03<00:00, 28870.85it/s]\n",
            "100%|██████████| 10000/10000 [00:00<00:00, 60350.74it/s]\n"
          ],
          "name": "stderr"
        },
        {
          "output_type": "stream",
          "text": [
            "{\"success\":true,\"key\":\"4Tga80\",\"link\":\"https://file.io/4Tga80\",\"expiry\":\"14 days\"}Epoch 1/1\n",
            "1999/2000 [============================>.] - ETA: 0s - loss: 0.0980"
          ],
          "name": "stdout"
        },
        {
          "output_type": "stream",
          "text": [
            "100%|██████████| 100000/100000 [00:03<00:00, 28029.22it/s]\n"
          ],
          "name": "stderr"
        },
        {
          "output_type": "stream",
          "text": [
            "\b\b\b\b\b\b\b\b\b\b\b\b\b\b\b\b\b\b\b\b\b\b\b\b\b\b\b\b\b\b\b\b\b\b\b\b\b\b\b\b\b\b\b\b\b\b\b\b\b\b\b\b\b\b\b\b\b\b\b\b\b\b\b\b\b\b\b\r2000/2000 [==============================] - 158s 79ms/step - loss: 0.0980 - val_loss: 0.1653\n"
          ],
          "name": "stdout"
        },
        {
          "output_type": "stream",
          "text": [
            "100%|██████████| 10000/10000 [00:00<00:00, 23276.67it/s]\n"
          ],
          "name": "stderr"
        },
        {
          "output_type": "stream",
          "text": [
            "{\"success\":true,\"key\":\"Z6EPro\",\"link\":\"https://file.io/Z6EPro\",\"expiry\":\"14 days\"}Epoch 1/1\n",
            "1999/2000 [============================>.] - ETA: 0s - loss: 0.0943"
          ],
          "name": "stdout"
        },
        {
          "output_type": "stream",
          "text": [
            " 99%|█████████▉| 98964/100000 [00:03<00:00, 35652.40it/s]"
          ],
          "name": "stderr"
        },
        {
          "output_type": "stream",
          "text": [
            "\b\b\b\b\b\b\b\b\b\b\b\b\b\b\b\b\b\b\b\b\b\b\b\b\b\b\b\b\b\b\b\b\b\b\b\b\b\b\b\b\b\b\b\b\b\b\b\b\b\b\b\b\b\b\b\b\b\b\b\b\b\b\b\b\b\b\b\r2000/2000 [==============================] - 158s 79ms/step - loss: 0.0943 - val_loss: 0.1504\n"
          ],
          "name": "stdout"
        },
        {
          "output_type": "stream",
          "text": [
            "100%|██████████| 100000/100000 [00:03<00:00, 27093.72it/s]\n",
            "100%|██████████| 10000/10000 [00:00<00:00, 59566.67it/s]\n"
          ],
          "name": "stderr"
        },
        {
          "output_type": "stream",
          "text": [
            "{\"success\":true,\"key\":\"s1ag2B\",\"link\":\"https://file.io/s1ag2B\",\"expiry\":\"14 days\"}Epoch 1/1\n",
            "1999/2000 [============================>.] - ETA: 0s - loss: 0.0943"
          ],
          "name": "stdout"
        },
        {
          "output_type": "stream",
          "text": [
            "100%|██████████| 100000/100000 [00:03<00:00, 27001.91it/s]\n"
          ],
          "name": "stderr"
        },
        {
          "output_type": "stream",
          "text": [
            "\b\b\b\b\b\b\b\b\b\b\b\b\b\b\b\b\b\b\b\b\b\b\b\b\b\b\b\b\b\b\b\b\b\b\b\b\b\b\b\b\b\b\b\b\b\b\b\b\b\b\b\b\b\b\b\b\b\b\b\b\b\b\b\b\b\b\b\r2000/2000 [==============================] - 165s 82ms/step - loss: 0.0944 - val_loss: 0.1512\n"
          ],
          "name": "stdout"
        },
        {
          "output_type": "stream",
          "text": [
            "100%|██████████| 10000/10000 [00:00<00:00, 61236.26it/s]\n"
          ],
          "name": "stderr"
        },
        {
          "output_type": "stream",
          "text": [
            "{\"success\":true,\"key\":\"0zGmwI\",\"link\":\"https://file.io/0zGmwI\",\"expiry\":\"14 days\"}Epoch 1/1\n",
            "1999/2000 [============================>.] - ETA: 0s - loss: 0.0926"
          ],
          "name": "stdout"
        },
        {
          "output_type": "stream",
          "text": [
            " 94%|█████████▍| 94468/100000 [00:03<00:00, 18775.53it/s]"
          ],
          "name": "stderr"
        },
        {
          "output_type": "stream",
          "text": [
            "\b\b\b\b\b\b\b\b\b\b\b\b\b\b\b\b\b\b\b\b\b\b\b\b\b\b\b\b\b\b\b\b\b\b\b\b\b\b\b\b\b\b\b\b\b\b\b\b\b\b\b\b\b\b\b\b\b\b\b\b\b\b\b\b\b\b\b\r2000/2000 [==============================] - 162s 81ms/step - loss: 0.0926 - val_loss: 0.1425\n"
          ],
          "name": "stdout"
        },
        {
          "output_type": "stream",
          "text": [
            "100%|██████████| 100000/100000 [00:04<00:00, 21212.98it/s]\n",
            "100%|██████████| 10000/10000 [00:00<00:00, 35082.92it/s]\n"
          ],
          "name": "stderr"
        },
        {
          "output_type": "stream",
          "text": [
            "{\"success\":true,\"key\":\"U4GaKD\",\"link\":\"https://file.io/U4GaKD\",\"expiry\":\"14 days\"}Epoch 1/1\n",
            "1999/2000 [============================>.] - ETA: 0s - loss: 0.0930"
          ],
          "name": "stdout"
        },
        {
          "output_type": "stream",
          "text": [
            " 96%|█████████▋| 96413/100000 [00:03<00:00, 31563.03it/s]"
          ],
          "name": "stderr"
        },
        {
          "output_type": "stream",
          "text": [
            "\b\b\b\b\b\b\b\b\b\b\b\b\b\b\b\b\b\b\b\b\b\b\b\b\b\b\b\b\b\b\b\b\b\b\b\b\b\b\b\b\b\b\b\b\b\b\b\b\b\b\b\b\b\b\b\b\b\b\b\b\b\b\b\b\b\b\b\r2000/2000 [==============================] - 161s 80ms/step - loss: 0.0929 - val_loss: 0.1381\n"
          ],
          "name": "stdout"
        },
        {
          "output_type": "stream",
          "text": [
            "100%|██████████| 100000/100000 [00:03<00:00, 28819.44it/s]\n",
            "100%|██████████| 10000/10000 [00:00<00:00, 58260.13it/s]\n"
          ],
          "name": "stderr"
        },
        {
          "output_type": "stream",
          "text": [
            "{\"success\":true,\"key\":\"CUViBd\",\"link\":\"https://file.io/CUViBd\",\"expiry\":\"14 days\"}Epoch 1/1\n",
            "1999/2000 [============================>.] - ETA: 0s - loss: 0.0918"
          ],
          "name": "stdout"
        },
        {
          "output_type": "stream",
          "text": [
            " 92%|█████████▏| 91836/100000 [00:03<00:00, 36026.88it/s]"
          ],
          "name": "stderr"
        },
        {
          "output_type": "stream",
          "text": [
            "\b\b\b\b\b\b\b\b\b\b\b\b\b\b\b\b\b\b\b\b\b\b\b\b\b\b\b\b\b\b\b\b\b\b\b\b\b\b\b\b\b\b\b\b\b\b\b\b\b\b\b\b\b\b\b\b\b\b\b\b\b\b\b\b\b\b\b\r2000/2000 [==============================] - 161s 81ms/step - loss: 0.0918 - val_loss: 0.1270\n"
          ],
          "name": "stdout"
        },
        {
          "output_type": "stream",
          "text": [
            " 96%|█████████▌| 95606/100000 [00:04<00:00, 9454.26it/s] \n",
            " 98%|█████████▊| 98350/100000 [00:04<00:00, 9697.02it/s]\n",
            "  8%|▊         | 806/10000 [00:00<00:01, 8055.24it/s]\u001b[A\n",
            "100%|██████████| 100000/100000 [00:04<00:00, 20381.50it/s]\n",
            "100%|██████████| 10000/10000 [00:00<00:00, 18871.59it/s]\n"
          ],
          "name": "stderr"
        },
        {
          "output_type": "stream",
          "text": [
            "{\"success\":true,\"key\":\"xBvXsw\",\"link\":\"https://file.io/xBvXsw\",\"expiry\":\"14 days\"}Epoch 1/1\n",
            "1999/2000 [============================>.] - ETA: 0s - loss: 0.0889"
          ],
          "name": "stdout"
        },
        {
          "output_type": "stream",
          "text": [
            " 90%|█████████ | 90484/100000 [00:03<00:00, 29311.34it/s]"
          ],
          "name": "stderr"
        },
        {
          "output_type": "stream",
          "text": [
            "\b\b\b\b\b\b\b\b\b\b\b\b\b\b\b\b\b\b\b\b\b\b\b\b\b\b\b\b\b\b\b\b\b\b\b\b\b\b\b\b\b\b\b\b\b\b\b\b\b\b\b\b\b\b\b\b\b\b\b\b\b\b\b\b\b\b\b\r2000/2000 [==============================] - 161s 80ms/step - loss: 0.0889 - val_loss: 0.1353\n"
          ],
          "name": "stdout"
        },
        {
          "output_type": "stream",
          "text": [
            "100%|██████████| 100000/100000 [00:04<00:00, 21038.94it/s]\n",
            "100%|██████████| 10000/10000 [00:00<00:00, 35443.51it/s]\n"
          ],
          "name": "stderr"
        },
        {
          "output_type": "stream",
          "text": [
            "{\"success\":true,\"key\":\"Ou498j\",\"link\":\"https://file.io/Ou498j\",\"expiry\":\"14 days\"}Epoch 1/1\n",
            "1999/2000 [============================>.] - ETA: 0s - loss: 0.0863"
          ],
          "name": "stdout"
        },
        {
          "output_type": "stream",
          "text": [
            " 98%|█████████▊| 98334/100000 [00:03<00:00, 23302.16it/s]"
          ],
          "name": "stderr"
        },
        {
          "output_type": "stream",
          "text": [
            "\b\b\b\b\b\b\b\b\b\b\b\b\b\b\b\b\b\b\b\b\b\b\b\b\b\b\b\b\b\b\b\b\b\b\b\b\b\b\b\b\b\b\b\b\b\b\b\b\b\b\b\b\b\b\b\b\b\b\b\b\b\b\b\b\b\b\b\r2000/2000 [==============================] - 161s 80ms/step - loss: 0.0862 - val_loss: 0.1644\n"
          ],
          "name": "stdout"
        },
        {
          "output_type": "stream",
          "text": [
            "100%|██████████| 100000/100000 [00:03<00:00, 26773.43it/s]\n",
            "100%|██████████| 10000/10000 [00:00<00:00, 60603.45it/s]\n"
          ],
          "name": "stderr"
        },
        {
          "output_type": "stream",
          "text": [
            "{\"success\":true,\"key\":\"805HGT\",\"link\":\"https://file.io/805HGT\",\"expiry\":\"14 days\"}Epoch 1/1\n",
            "1999/2000 [============================>.] - ETA: 0s - loss: 0.0819"
          ],
          "name": "stdout"
        },
        {
          "output_type": "stream",
          "text": [
            " 91%|█████████ | 90930/100000 [00:03<00:00, 31571.06it/s]"
          ],
          "name": "stderr"
        },
        {
          "output_type": "stream",
          "text": [
            "\b\b\b\b\b\b\b\b\b\b\b\b\b\b\b\b\b\b\b\b\b\b\b\b\b\b\b\b\b\b\b\b\b\b\b\b\b\b\b\b\b\b\b\b\b\b\b\b\b\b\b\b\b\b\b\b\b\b\b\b\b\b\b\b\b\b\b\r2000/2000 [==============================] - 161s 80ms/step - loss: 0.0819 - val_loss: 0.1570\n"
          ],
          "name": "stdout"
        },
        {
          "output_type": "stream",
          "text": [
            "100%|██████████| 100000/100000 [00:04<00:00, 21536.93it/s]\n",
            "100%|██████████| 10000/10000 [00:00<00:00, 34267.69it/s]\n"
          ],
          "name": "stderr"
        },
        {
          "output_type": "stream",
          "text": [
            "{\"success\":true,\"key\":\"AYdxr8\",\"link\":\"https://file.io/AYdxr8\",\"expiry\":\"14 days\"}Epoch 1/1\n",
            "1999/2000 [============================>.] - ETA: 0s - loss: 0.0788"
          ],
          "name": "stdout"
        },
        {
          "output_type": "stream",
          "text": [
            " 95%|█████████▌| 95194/100000 [00:03<00:00, 31135.17it/s]"
          ],
          "name": "stderr"
        },
        {
          "output_type": "stream",
          "text": [
            "\b\b\b\b\b\b\b\b\b\b\b\b\b\b\b\b\b\b\b\b\b\b\b\b\b\b\b\b\b\b\b\b\b\b\b\b\b\b\b\b\b\b\b\b\b\b\b\b\b\b\b\b\b\b\b\b\b\b\b\b\b\b\b\b\b\b\b\r2000/2000 [==============================] - 161s 81ms/step - loss: 0.0788 - val_loss: 0.1337\n"
          ],
          "name": "stdout"
        },
        {
          "output_type": "stream",
          "text": [
            "100%|██████████| 100000/100000 [00:04<00:00, 24787.99it/s]\n",
            "100%|██████████| 10000/10000 [00:00<00:00, 60880.19it/s]\n"
          ],
          "name": "stderr"
        },
        {
          "output_type": "stream",
          "text": [
            "{\"success\":true,\"key\":\"U7xVWV\",\"link\":\"https://file.io/U7xVWV\",\"expiry\":\"14 days\"}Epoch 1/1\n",
            "1999/2000 [============================>.] - ETA: 0s - loss: 0.0793"
          ],
          "name": "stdout"
        },
        {
          "output_type": "stream",
          "text": [
            "100%|██████████| 100000/100000 [00:03<00:00, 26969.99it/s]\n"
          ],
          "name": "stderr"
        },
        {
          "output_type": "stream",
          "text": [
            "2000/2000 [==============================] - 163s 81ms/step - loss: 0.0794 - val_loss: 0.1213\n",
            "{\"success\":true,\"key\":\"oxS2cG\",\"link\":\"https://file.io/oxS2cG\",\"expiry\":\"14 days\"}Epoch 1/1\n",
            "1999/2000 [============================>.] - ETA: 0s - loss: 0.0749"
          ],
          "name": "stdout"
        },
        {
          "output_type": "stream",
          "text": [
            " 91%|█████████▏| 91345/100000 [00:03<00:00, 29655.79it/s]"
          ],
          "name": "stderr"
        },
        {
          "output_type": "stream",
          "text": [
            "\b\b\b\b\b\b\b\b\b\b\b\b\b\b\b\b\b\b\b\b\b\b\b\b\b\b\b\b\b\b\b\b\b\b\b\b\b\b\b\b\b\b\b\b\b\b\b\b\b\b\b\b\b\b\b\b\b\b\b\b\b\b\b\b\b\b\b\r2000/2000 [==============================] - 161s 80ms/step - loss: 0.0749 - val_loss: 0.1256\n"
          ],
          "name": "stdout"
        },
        {
          "output_type": "stream",
          "text": [
            "100%|██████████| 100000/100000 [00:04<00:00, 20795.23it/s]\n",
            "100%|██████████| 10000/10000 [00:00<00:00, 32563.51it/s]\n"
          ],
          "name": "stderr"
        },
        {
          "output_type": "stream",
          "text": [
            "{\"success\":true,\"key\":\"3Ryi32\",\"link\":\"https://file.io/3Ryi32\",\"expiry\":\"14 days\"}Epoch 1/1\n",
            "1999/2000 [============================>.] - ETA: 0s - loss: 0.0753"
          ],
          "name": "stdout"
        },
        {
          "output_type": "stream",
          "text": [
            " 94%|█████████▍| 93791/100000 [00:03<00:00, 29846.44it/s]"
          ],
          "name": "stderr"
        },
        {
          "output_type": "stream",
          "text": [
            "\b\b\b\b\b\b\b\b\b\b\b\b\b\b\b\b\b\b\b\b\b\b\b\b\b\b\b\b\b\b\b\b\b\b\b\b\b\b\b\b\b\b\b\b\b\b\b\b\b\b\b\b\b\b\b\b\b\b\b\b\b\b\b\b\b\b\b\r2000/2000 [==============================] - 163s 82ms/step - loss: 0.0753 - val_loss: 0.1349\n"
          ],
          "name": "stdout"
        },
        {
          "output_type": "stream",
          "text": [
            "100%|██████████| 100000/100000 [00:04<00:00, 24032.30it/s]\n",
            "100%|██████████| 10000/10000 [00:00<00:00, 58620.03it/s]\n"
          ],
          "name": "stderr"
        },
        {
          "output_type": "stream",
          "text": [
            "{\"success\":true,\"key\":\"CjGyNM\",\"link\":\"https://file.io/CjGyNM\",\"expiry\":\"14 days\"}Epoch 1/1\n",
            "1999/2000 [============================>.] - ETA: 0s - loss: 0.0725"
          ],
          "name": "stdout"
        },
        {
          "output_type": "stream",
          "text": [
            " 91%|█████████ | 90720/100000 [00:03<00:00, 28817.27it/s]"
          ],
          "name": "stderr"
        },
        {
          "output_type": "stream",
          "text": [
            "\b\b\b\b\b\b\b\b\b\b\b\b\b\b\b\b\b\b\b\b\b\b\b\b\b\b\b\b\b\b\b\b\b\b\b\b\b\b\b\b\b\b\b\b\b\b\b\b\b\b\b\b\b\b\b\b\b\b\b\b\b\b\b\b\b\b\b\r2000/2000 [==============================] - 161s 80ms/step - loss: 0.0726 - val_loss: 0.1405\n"
          ],
          "name": "stdout"
        },
        {
          "output_type": "stream",
          "text": [
            " 97%|█████████▋| 96634/100000 [00:04<00:00, 6913.35it/s] \n",
            "  0%|          | 0/10000 [00:00<?, ?it/s]\u001b[A\n",
            " 99%|█████████▉| 98756/100000 [00:04<00:00, 8033.28it/s]\n",
            "100%|██████████| 100000/100000 [00:04<00:00, 20241.89it/s]\n",
            "100%|██████████| 10000/10000 [00:00<00:00, 18712.26it/s]\n"
          ],
          "name": "stderr"
        },
        {
          "output_type": "stream",
          "text": [
            "{\"success\":true,\"key\":\"S0blJQ\",\"link\":\"https://file.io/S0blJQ\",\"expiry\":\"14 days\"}Epoch 1/1\n",
            "1999/2000 [============================>.] - ETA: 0s - loss: 0.0694"
          ],
          "name": "stdout"
        },
        {
          "output_type": "stream",
          "text": [
            " 97%|█████████▋| 96912/100000 [00:03<00:00, 33125.90it/s]"
          ],
          "name": "stderr"
        },
        {
          "output_type": "stream",
          "text": [
            "\b\b\b\b\b\b\b\b\b\b\b\b\b\b\b\b\b\b\b\b\b\b\b\b\b\b\b\b\b\b\b\b\b\b\b\b\b\b\b\b\b\b\b\b\b\b\b\b\b\b\b\b\b\b\b\b\b\b\b\b\b\b\b\b\b\b\b\r2000/2000 [==============================] - 161s 81ms/step - loss: 0.0695 - val_loss: 0.1407\n"
          ],
          "name": "stdout"
        },
        {
          "output_type": "stream",
          "text": [
            "100%|██████████| 100000/100000 [00:03<00:00, 26524.36it/s]\n",
            "100%|██████████| 10000/10000 [00:00<00:00, 58636.25it/s]\n"
          ],
          "name": "stderr"
        },
        {
          "output_type": "stream",
          "text": [
            "{\"success\":true,\"key\":\"Ah2LdC\",\"link\":\"https://file.io/Ah2LdC\",\"expiry\":\"14 days\"}Epoch 1/1\n",
            "1999/2000 [============================>.] - ETA: 0s - loss: 0.0680"
          ],
          "name": "stdout"
        },
        {
          "output_type": "stream",
          "text": [
            "100%|██████████| 100000/100000 [00:03<00:00, 25892.24it/s]\n"
          ],
          "name": "stderr"
        },
        {
          "output_type": "stream",
          "text": [
            "\b\b\b\b\b\b\b\b\b\b\b\b\b\b\b\b\b\b\b\b\b\b\b\b\b\b\b\b\b\b\b\b\b\b\b\b\b\b\b\b\b\b\b\b\b\b\b\b\b\b\b\b\b\b\b\b\b\b\b\b\b\b\b\b\b\b\b\r2000/2000 [==============================] - 162s 81ms/step - loss: 0.0680 - val_loss: 0.1336\n"
          ],
          "name": "stdout"
        },
        {
          "output_type": "stream",
          "text": [
            "100%|██████████| 10000/10000 [00:00<00:00, 58528.82it/s]\n"
          ],
          "name": "stderr"
        },
        {
          "output_type": "stream",
          "text": [
            "{\"success\":true,\"key\":\"h5NmmV\",\"link\":\"https://file.io/h5NmmV\",\"expiry\":\"14 days\"}Epoch 1/1\n",
            "1057/2000 [==============>...............] - ETA: 1:13 - loss: 0.0713Buffered data was truncated after reaching the output size limit."
          ],
          "name": "stdout"
        }
      ]
    },
    {
      "metadata": {
        "id": "Gz12Z6-bs7h5",
        "colab_type": "code",
        "outputId": "db14586a-286e-47bd-a1d5-26d9cab49354",
        "colab": {
          "base_uri": "https://localhost:8080/",
          "height": 361
        }
      },
      "cell_type": "code",
      "source": [
        "import matplotlib.pyplot as plt\n",
        "plt.plot(descriptor_loss)\n",
        "plt.plot(descriptor_val_loss)\n",
        "plt.ylabel('Loss')\n",
        "plt.xlabel('Epoch')\n",
        "plt.legend(['Training Loss', 'Validation Loss'])\n",
        "plt.show()"
      ],
      "execution_count": 0,
      "outputs": [
        {
          "output_type": "display_data",
          "data": {
            "image/png": "[encoded data removed]",
            "text/plain": [
              "<Figure size 576x396 with 1 Axes>"
            ]
          },
          "metadata": {
            "tags": []
          }
        }
      ]
    },
    {
      "metadata": {
        "id": "NJ-r9D4hDxij",
        "colab_type": "text"
      },
      "cell_type": "markdown",
      "source": [
        "## Generating descriptors files for test data \n",
        "\n",
        "To evaluate the performance of out model we will use an existing evaluation code, which is called HPatches benchmark. HPatches benchmark takes as input the descriptors for the test data in a CSV form. So the whole pipeline is represented in the following image.\n",
        "\n",
        "![](https://i.ibb.co/WcDDf3q/Screenshot-from-2019-02-15-11-17-24.png)\n",
        "\n",
        "This function generates those files by passing it a descriptor model and a denoising model. It performs a first step of denoising the patches, and a second one of computing the descriptor of the denoised patch. If no denoising model is given (variable set to `None`), the descriptor is computed directly in the noisy patch.\n",
        "\n",
        "Similarly to the loading data part, you have the denoise_model variable and `use_clean` variable. If `use_clean` is set to True, the CSV generated will be those of the clean patches, even if a denoising model is given. If set to False, then depends on the variable `denoise_model`. If there is no denoise model (`denoise_model=None`), then it will use the noisy patches. If you give a denoising model, then it will compute the CSV for the denoised patches. This can be useful to explore different scenarios (for example, the Upper Bound can be training the descriptor network with clean patches, and testing with clean patches), however you should always report the score when using noisy patches (depending on the approach you develop, you may want to denoise them or not). The official baseline uses the denoised patches. "
      ]
    },
    {
      "metadata": {
        "id": "kiJb2XDG9bsJ",
        "colab_type": "code",
        "outputId": "99b015c6-48eb-44ff-8eb4-f8b51da05d3a",
        "colab": {
          "base_uri": "https://localhost:8080/",
          "height": 35
        }
      },
      "cell_type": "code",
      "source": [
        "generate_desc_csv(descriptor_model, seqs_test, denoise_model=denoise_model, use_clean=False)"
      ],
      "execution_count": 0,
      "outputs": [
        {
          "output_type": "stream",
          "text": [
            "100%|██████████| 40/40 [06:29<00:00, 10.40s/it]\n"
          ],
          "name": "stderr"
        }
      ]
    },
    {
      "metadata": {
        "id": "s0jFr05rE1oI",
        "colab_type": "text"
      },
      "cell_type": "markdown",
      "source": [
        "## Evaluating descriptors in HPatches Benchmark\n",
        "We use HPatches benchmark code to compute the results for our model. \n",
        "\n",
        "**Updated**: The necessary code is included in the repository we cloned at the beginning of the code, so we do not need to download any extra data. Also, we simplified the results, so now they only return one value for each of the three tasks."
      ]
    },
    {
      "metadata": {
        "id": "YvOGRh3sc9Wo",
        "colab_type": "text"
      },
      "cell_type": "markdown",
      "source": [
        "Now we will perform the evaluation of three different tasks (Verification, Matching and Evaluation) using the CSV files we generated as input and the `hpatches_eval.py` script. We also print the results using the `hpatches_results.py` script. The scripts will return a score for each of the tasks. The metric used is called mean Average Precision, which it uses the Precision of the model. The Precision is defined, for a given number of retrieved elements, as the ratio of correct retrieved elements / number of retrieved elements. [Link to Wikipedia with Precision explanation](https://en.wikipedia.org/wiki/Precision_and_recall). The definition of the three different tasks is taken from the [HPatches paper](https://arxiv.org/pdf/1704.05939.pdf).\n",
        "\n",
        "In all of the tasks if you use the optional argument `--more_info` in `hpatches_results.py` you can see extra mAP information. However, the important score is the mAP score reported without this flag.\n",
        "\n",
        "### Verification\n",
        "\n",
        "Patch verification measures the ability of a descriptor to classify whether two patches are extracted from the same measurement. Now we compute the score of our architecture in this task.\n",
        "\n",
        "\n"
      ]
    },
    {
      "metadata": {
        "id": "Awnyv4xTYSFH",
        "colab_type": "code",
        "outputId": "daaee851-ec83-4900-c72e-21721cf6f5d9",
        "colab": {
          "base_uri": "https://localhost:8080/",
          "height": 242
        }
      },
      "cell_type": "code",
      "source": [
        "!python ./hpatches-benchmark/hpatches_eval.py --descr-name=custom --descr-dir=/content/keras_triplet_descriptor/out/ --task=verification --delimiter=\";\"\n",
        "!python ./hpatches-benchmark/hpatches_results.py --descr=custom --results-dir=./hpatches-benchmark/results/ --task=verification\n"
      ],
      "execution_count": 0,
      "outputs": [
        {
          "output_type": "stream",
          "text": [
            "\n",
            ">> Running HPatch evaluation for \u001b[34mcustom\u001b[0m\n",
            ">> Please wait, loading the descriptor files...\n",
            ">> Descriptor files loaded.\n",
            ">> Evaluating \u001b[32mverification\u001b[0m task\n",
            "Processing verification task 1/3 : 100% 1000000/1000000 [01:26<00:00, 11594.56it/s]\n",
            "Processing verification task 2/3 : 100% 1000000/1000000 [01:25<00:00, 11682.71it/s]\n",
            "Processing verification task 3/3 : 100% 1000000/1000000 [01:26<00:00, 11606.60it/s]\n",
            ">> \u001b[32mVerification\u001b[0m task finished in 266 secs  \n",
            "\u001b[32mVerification\u001b[0m task results:\n",
            "Mean Average Precision is 0.825057\n",
            "\n",
            "\n"
          ],
          "name": "stdout"
        }
      ]
    },
    {
      "metadata": {
        "id": "5290Bw-udJdr",
        "colab_type": "text"
      },
      "cell_type": "markdown",
      "source": [
        "### Matching\n",
        "Image matching, tests to what extent a descriptor can correctly identify correspondences in two images."
      ]
    },
    {
      "metadata": {
        "id": "EUqpwi87ckJv",
        "colab_type": "code",
        "outputId": "7c3566be-ae21-43ad-bafa-0d2d4d166a81",
        "colab": {
          "base_uri": "https://localhost:8080/",
          "height": 242
        }
      },
      "cell_type": "code",
      "source": [
        "!python ./hpatches-benchmark/hpatches_eval.py --descr-name=custom --descr-dir=/content/keras_triplet_descriptor/out/ --task=matching --delimiter=\";\"\n",
        "!python ./hpatches-benchmark/hpatches_results.py --descr=custom --results-dir=./hpatches-benchmark/results/ --task=matching\n"
      ],
      "execution_count": 0,
      "outputs": [
        {
          "output_type": "stream",
          "text": [
            "\n",
            ">> Running HPatch evaluation for \u001b[34mcustom\u001b[0m\n",
            ">> Please wait, loading the descriptor files...\n",
            ">> Descriptor files loaded.\n",
            ">> Evaluating \u001b[32mmatching\u001b[0m task\n",
            "100% 40/40 [02:10<00:00,  4.37s/it]\n",
            ">> \u001b[32mMatching\u001b[0m task finished in 131 secs  \n",
            "\u001b[32mMatching\u001b[0m task results:\n",
            "Mean Average Precision is 0.239560\n",
            "\n",
            "\n",
            "\n",
            "\n"
          ],
          "name": "stdout"
        }
      ]
    },
    {
      "metadata": {
        "id": "RXXgbN7DdMnx",
        "colab_type": "text"
      },
      "cell_type": "markdown",
      "source": [
        "### Retrieval\n",
        "Retrieval tests how well a descriptor can match a query patch to a pool of patches extracted from many images."
      ]
    },
    {
      "metadata": {
        "id": "ZNmKIat1cn_M",
        "colab_type": "code",
        "outputId": "f8e688a4-ac30-413f-ae93-e5c214dcf38a",
        "colab": {
          "base_uri": "https://localhost:8080/",
          "height": 279
        }
      },
      "cell_type": "code",
      "source": [
        "!python ./hpatches-benchmark/hpatches_eval.py --descr-name=custom --descr-dir=/content/keras_triplet_descriptor/out/ --task=retrieval --delimiter=\";\"\n",
        "!python ./hpatches-benchmark/hpatches_results.py --descr=custom --results-dir=./hpatches-benchmark/results/ --task=retrieval"
      ],
      "execution_count": 0,
      "outputs": [
        {
          "output_type": "stream",
          "text": [
            "\n",
            ">> Running HPatch evaluation for \u001b[34mcustom\u001b[0m\n",
            ">> Please wait, loading the descriptor files...\n",
            ">> Descriptor files loaded.\n",
            ">> Evaluating \u001b[32mretrieval\u001b[0m task\n",
            ">> Please wait, computing distance matrix...\n",
            "tcmalloc: large alloc 1600004096 bytes == 0x559f21d54000 @  0x7fe7496c01e7 0x7fe73f2c1cf1 0x7fe73f3243a2 0x7fe73f3260de 0x7fe73f3bd0e8 0x559ef6a21fe5 0x559ef6a17d0a 0x559ef6a1f5fe 0x559ef6a1f232 0x559ef6a17d0a 0x559ef6a1fc38 0x559ef6a17d0a 0x559ef6a17629 0x559ef6a4861f 0x559ef6a43322 0x559ef6a4267d 0x559ef69f11ab 0x7fe7492bdb97 0x559ef69f0a2a\n",
            ">> Distance matrix done.\n",
            "Processing retrieval task: 100% 10000/10000 [03:53<00:00, 42.76it/s]\n",
            ">> \u001b[32mRetrieval\u001b[0m task finished in 252 secs  \n",
            "\u001b[32mRetrieval\u001b[0m task results:\n",
            "Mean Average Precision is 0.550200\n",
            "\n",
            "\n"
          ],
          "name": "stdout"
        }
      ]
    },
    {
      "metadata": {
        "id": "8_2fBzUB5RF2",
        "colab_type": "text"
      },
      "cell_type": "markdown",
      "source": [
        "## Compressing and saving the CSV files \n",
        "\n",
        "This is not necessary for the analysis of the baseline code included in the report. However, we will be hosting a competition in an external website to see who can achieve the highest score. In that case, you will need to submit the CSV files, as the scoring script will be performed in an external server. With that aim, we include here a way to save the files either in your local disc or in your google drive account.\n",
        "\n",
        "We first compress the directory with all the CSV by using the following command. Remove the `q` option if you want it to output the progress."
      ]
    },
    {
      "metadata": {
        "id": "Lh_svT3p5Ww-",
        "colab_type": "code",
        "colab": {}
      },
      "cell_type": "code",
      "source": [
        "!zip -rq descriptors.zip ./out/custom"
      ],
      "execution_count": 0,
      "outputs": []
    },
    {
      "metadata": {
        "id": "svoL779J8AJK",
        "colab_type": "text"
      },
      "cell_type": "markdown",
      "source": [
        "The generated .zip is quite large, the method we used for the weights does not work. We have two other methods. First, in the file explorer in the left column we can right-click in the file and then click download. Then, we will see a circle next to the file showing the download progress.\n",
        "\n",
        "The second way does not require for you to download the files, it save the zip file in your Google Drive account, and you can download it later to your machine if you want. To do so, follow this method (found [here](https://stackoverflow.com/questions/49428332/how-to-download-large-files-like-weights-of-a-model-from-colaboratory)). First run the next cell, and the output will be a link for authentication purposes, and just follow the instructions"
      ]
    },
    {
      "metadata": {
        "id": "RjOmPv5z7Opx",
        "colab_type": "code",
        "outputId": "d689014b-b7d9-4256-a3cf-40394d3ce48d",
        "colab": {
          "base_uri": "https://localhost:8080/",
          "height": 738
        }
      },
      "cell_type": "code",
      "source": [
        "from google.colab import auth\n",
        "from googleapiclient.http import MediaFileUpload\n",
        "from googleapiclient.discovery import build\n",
        "\n",
        "auth.authenticate_user()\n",
        "drive_service = build('drive', 'v3')\n",
        "\n",
        "def save_file_to_drive(name, path):\n",
        "  file_metadata = {\n",
        "    'name': name,\n",
        "    'mimeType': 'application/octet-stream'\n",
        "  }\n",
        "\n",
        "  media = MediaFileUpload(path, \n",
        "                          mimetype='application/octet-stream',\n",
        "                          resumable=True)\n",
        "\n",
        "  created = drive_service.files().create(body=file_metadata,\n",
        "                                  media_body=media,\n",
        "                                  fields='id').execute()\n",
        "\n",
        "  print('File ID: {}'.format(created.get('id')))\n",
        "\n",
        "  return created\n"
      ],
      "execution_count": 0,
      "outputs": [
        {
          "output_type": "error",
          "ename": "KeyboardInterrupt",
          "evalue": "ignored",
          "traceback": [
            "\u001b[0;31m\u001b[0m",
            "\u001b[0;31mKeyboardInterrupt\u001b[0mTraceback (most recent call last)",
            "\u001b[0;32m<ipython-input-54-151b1e258c5f>\u001b[0m in \u001b[0;36m<module>\u001b[0;34m()\u001b[0m\n\u001b[1;32m      3\u001b[0m \u001b[0;32mfrom\u001b[0m \u001b[0mgoogleapiclient\u001b[0m\u001b[0;34m.\u001b[0m\u001b[0mdiscovery\u001b[0m \u001b[0;32mimport\u001b[0m \u001b[0mbuild\u001b[0m\u001b[0;34m\u001b[0m\u001b[0m\n\u001b[1;32m      4\u001b[0m \u001b[0;34m\u001b[0m\u001b[0m\n\u001b[0;32m----> 5\u001b[0;31m \u001b[0mauth\u001b[0m\u001b[0;34m.\u001b[0m\u001b[0mauthenticate_user\u001b[0m\u001b[0;34m(\u001b[0m\u001b[0;34m)\u001b[0m\u001b[0;34m\u001b[0m\u001b[0m\n\u001b[0m\u001b[1;32m      6\u001b[0m \u001b[0mdrive_service\u001b[0m \u001b[0;34m=\u001b[0m \u001b[0mbuild\u001b[0m\u001b[0;34m(\u001b[0m\u001b[0;34m'drive'\u001b[0m\u001b[0;34m,\u001b[0m \u001b[0;34m'v3'\u001b[0m\u001b[0;34m)\u001b[0m\u001b[0;34m\u001b[0m\u001b[0m\n\u001b[1;32m      7\u001b[0m \u001b[0;34m\u001b[0m\u001b[0m\n",
            "\u001b[0;32m/usr/local/lib/python2.7/dist-packages/google/colab/auth.pyc\u001b[0m in \u001b[0;36mauthenticate_user\u001b[0;34m(clear_output)\u001b[0m\n\u001b[1;32m    145\u001b[0m     \u001b[0mcontext_manager\u001b[0m \u001b[0;34m=\u001b[0m \u001b[0m_output\u001b[0m\u001b[0;34m.\u001b[0m\u001b[0mtemporary\u001b[0m \u001b[0;32mif\u001b[0m \u001b[0mclear_output\u001b[0m \u001b[0;32melse\u001b[0m \u001b[0m_noop\u001b[0m\u001b[0;34m\u001b[0m\u001b[0m\n\u001b[1;32m    146\u001b[0m     \u001b[0;32mwith\u001b[0m \u001b[0mcontext_manager\u001b[0m\u001b[0;34m(\u001b[0m\u001b[0;34m)\u001b[0m\u001b[0;34m:\u001b[0m\u001b[0;34m\u001b[0m\u001b[0m\n\u001b[0;32m--> 147\u001b[0;31m       \u001b[0m_gcloud_login\u001b[0m\u001b[0;34m(\u001b[0m\u001b[0;34m)\u001b[0m\u001b[0;34m\u001b[0m\u001b[0m\n\u001b[0m\u001b[1;32m    148\u001b[0m     \u001b[0m_install_adc\u001b[0m\u001b[0;34m(\u001b[0m\u001b[0;34m)\u001b[0m\u001b[0;34m\u001b[0m\u001b[0m\n\u001b[1;32m    149\u001b[0m     \u001b[0mcolab_tpu_addr\u001b[0m \u001b[0;34m=\u001b[0m \u001b[0m_os\u001b[0m\u001b[0;34m.\u001b[0m\u001b[0menviron\u001b[0m\u001b[0;34m.\u001b[0m\u001b[0mget\u001b[0m\u001b[0;34m(\u001b[0m\u001b[0;34m'COLAB_TPU_ADDR'\u001b[0m\u001b[0;34m,\u001b[0m \u001b[0;34m''\u001b[0m\u001b[0;34m)\u001b[0m\u001b[0;34m\u001b[0m\u001b[0m\n",
            "\u001b[0;32m/usr/local/lib/python2.7/dist-packages/google/colab/auth.pyc\u001b[0m in \u001b[0;36m_gcloud_login\u001b[0;34m()\u001b[0m\n\u001b[1;32m     89\u001b[0m     \u001b[0;31m# https://github.com/jupyter/notebook/issues/3159\u001b[0m\u001b[0;34m\u001b[0m\u001b[0;34m\u001b[0m\u001b[0m\n\u001b[1;32m     90\u001b[0m     \u001b[0mprompt\u001b[0m \u001b[0;34m=\u001b[0m \u001b[0mprompt\u001b[0m\u001b[0;34m.\u001b[0m\u001b[0mrstrip\u001b[0m\u001b[0;34m(\u001b[0m\u001b[0;34m)\u001b[0m\u001b[0;34m\u001b[0m\u001b[0m\n\u001b[0;32m---> 91\u001b[0;31m     \u001b[0mcode\u001b[0m \u001b[0;34m=\u001b[0m \u001b[0m_getpass\u001b[0m\u001b[0;34m.\u001b[0m\u001b[0mgetpass\u001b[0m\u001b[0;34m(\u001b[0m\u001b[0mprompt\u001b[0m \u001b[0;34m+\u001b[0m \u001b[0;34m'\\n\\nEnter verification code: '\u001b[0m\u001b[0;34m)\u001b[0m\u001b[0;34m\u001b[0m\u001b[0m\n\u001b[0m\u001b[1;32m     92\u001b[0m     \u001b[0mgcloud_process\u001b[0m\u001b[0;34m.\u001b[0m\u001b[0mcommunicate\u001b[0m\u001b[0;34m(\u001b[0m\u001b[0mcode\u001b[0m\u001b[0;34m.\u001b[0m\u001b[0mstrip\u001b[0m\u001b[0;34m(\u001b[0m\u001b[0;34m)\u001b[0m\u001b[0;34m)\u001b[0m\u001b[0;34m\u001b[0m\u001b[0m\n\u001b[1;32m     93\u001b[0m   \u001b[0;32mfinally\u001b[0m\u001b[0;34m:\u001b[0m\u001b[0;34m\u001b[0m\u001b[0m\n",
            "\u001b[0;32m/usr/local/lib/python2.7/dist-packages/ipykernel/kernelbase.pyc\u001b[0m in \u001b[0;36mgetpass\u001b[0;34m(self, prompt, stream)\u001b[0m\n\u001b[1;32m    686\u001b[0m             \u001b[0mself\u001b[0m\u001b[0;34m.\u001b[0m\u001b[0m_parent_ident\u001b[0m\u001b[0;34m,\u001b[0m\u001b[0;34m\u001b[0m\u001b[0m\n\u001b[1;32m    687\u001b[0m             \u001b[0mself\u001b[0m\u001b[0;34m.\u001b[0m\u001b[0m_parent_header\u001b[0m\u001b[0;34m,\u001b[0m\u001b[0;34m\u001b[0m\u001b[0m\n\u001b[0;32m--> 688\u001b[0;31m             \u001b[0mpassword\u001b[0m\u001b[0;34m=\u001b[0m\u001b[0mTrue\u001b[0m\u001b[0;34m,\u001b[0m\u001b[0;34m\u001b[0m\u001b[0m\n\u001b[0m\u001b[1;32m    689\u001b[0m         )\n\u001b[1;32m    690\u001b[0m \u001b[0;34m\u001b[0m\u001b[0m\n",
            "\u001b[0;32m/usr/local/lib/python2.7/dist-packages/ipykernel/kernelbase.pyc\u001b[0m in \u001b[0;36m_input_request\u001b[0;34m(self, prompt, ident, parent, password)\u001b[0m\n\u001b[1;32m    733\u001b[0m             \u001b[0;32mexcept\u001b[0m \u001b[0mKeyboardInterrupt\u001b[0m\u001b[0;34m:\u001b[0m\u001b[0;34m\u001b[0m\u001b[0m\n\u001b[1;32m    734\u001b[0m                 \u001b[0;31m# re-raise KeyboardInterrupt, to truncate traceback\u001b[0m\u001b[0;34m\u001b[0m\u001b[0;34m\u001b[0m\u001b[0m\n\u001b[0;32m--> 735\u001b[0;31m                 \u001b[0;32mraise\u001b[0m \u001b[0mKeyboardInterrupt\u001b[0m\u001b[0;34m\u001b[0m\u001b[0m\n\u001b[0m\u001b[1;32m    736\u001b[0m             \u001b[0;32melse\u001b[0m\u001b[0;34m:\u001b[0m\u001b[0;34m\u001b[0m\u001b[0m\n\u001b[1;32m    737\u001b[0m                 \u001b[0;32mbreak\u001b[0m\u001b[0;34m\u001b[0m\u001b[0m\n",
            "\u001b[0;31mKeyboardInterrupt\u001b[0m: "
          ]
        }
      ]
    },
    {
      "metadata": {
        "id": "YfzjfMc59NKm",
        "colab_type": "text"
      },
      "cell_type": "markdown",
      "source": [
        "Now we can use the following function to save the file to your drive account. The second argument is the name of the file we want to save, and the first argument the name that will have in your Drive."
      ]
    },
    {
      "metadata": {
        "id": "UwrqWr_c7pAi",
        "colab_type": "code",
        "colab": {}
      },
      "cell_type": "code",
      "source": [
        "save_file_to_drive('descriptors_save.zip', 'descriptors.zip')"
      ],
      "execution_count": 0,
      "outputs": []
    }
  ]
}