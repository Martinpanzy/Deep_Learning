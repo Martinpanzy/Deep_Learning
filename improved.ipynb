{
  "nbformat": 4,
  "nbformat_minor": 0,
  "metadata": {
    "colab": {
      "name": "improved.ipynb",
      "version": "0.3.2",
      "provenance": [],
      "collapsed_sections": [],
      "toc_visible": true,
      "include_colab_link": true
    },
    "kernelspec": {
      "name": "python2",
      "display_name": "Python 2"
    },
    "accelerator": "GPU"
  },
  "cells": [
    {
      "cell_type": "markdown",
      "metadata": {
        "id": "view-in-github",
        "colab_type": "text"
      },
      "source": [
        "<a href=\"https://colab.research.google.com/github/Martinpanzy/Deep_Learning/blob/master/improved.ipynb\" target=\"_parent\"><img src=\"https://colab.research.google.com/assets/colab-badge.svg\" alt=\"Open In Colab\"/></a>"
      ]
    },
    {
      "metadata": {
        "id": "scylC1qNuBY0",
        "colab_type": "text"
      },
      "cell_type": "markdown",
      "source": [
        "# Baseline Code\n",
        "\n",
        "This code introduces a two-step training for the N-HPatches problem. In N-HPatches problem, we aim to generate a patch descriptor that is able to perform successfully tasks such as matching, retrieval or verification. \n",
        "\n",
        "Contrary to classical HPatches dataset, in N-HPatches, images contain random non-smooth perturbations produced by a synthetic noise. This noise could be critical when training the descriptor, therefore, we introduce a denoising model that could help us to deal with those perturbations. Denoising models have been already introduced in the course [tutorials](https://github.com/MatchLab-Imperial/deep-learning-course) and lectures, their objective is to generate a clean/denoised version of the input image.  We will refer in this code to the images with noise as `noisy`, to the images after applying the denoise model as `denoised` and the original patches from HPatches (so no extra noise added) which are used as ground-truth for the denoising step as `clean`. \n",
        "\n",
        "\n",
        "Thus, we aim to minimize the noise in images before the second step, which is computing a feature vector, also called descriptor. Those descriptions must be a powerful representation of the input patches. The idea behind is that if two descriptors belong two similar patches, they should be close to each other, i.e. have a low Euclidean distance. See figure below:\n",
        "\n",
        "![](https://i.ibb.co/4tvm3Vh/descriptorspace.png)\n",
        "\n",
        "This baseline code gives a method you can use to compare to whatever another approach you develop.  There are several other approaches you can test to see if there is any improvement, e.g. train the descriptor directly with noisy patches, without the denoising model. However, this code provides some guidance about how to implement the different blocks, how to stack them if desired, how to read the data and how to evaluate the method.\n",
        "\n",
        "The values given can be improved without changing the core method, only by tuning correctly the hyperparameters or giving it more training time, among others.\n",
        "\n",
        "As a first step of the project, you should get familiar with the problem and the provided code, so you can develop more complex and robust algorithms afterward. "
      ]
    },
    {
      "metadata": {
        "id": "iamuRgeiNLjW",
        "colab_type": "text"
      },
      "cell_type": "markdown",
      "source": [
        "## Safety Check\n",
        "\n",
        "As Google Colab is an external platform, we cannot guarantee that everytime you connect to a remote server, you will have the same amount of RAM or video RAM. For that reason, we will first check the amount of memory we have in the notebook. RAM should be around 12.9 GB, which is enough to load the datasets in memory. Also, usually, we have available 11.4 GB of GPU memory, which is more than enough to run this code. However, some users reported having only 500 MB of GPU memory. If you have that amount, restart the environment to see if you get the corresponding 11.4 GB."
      ]
    },
    {
      "metadata": {
        "id": "ZZG4BqkENEyd",
        "colab_type": "code",
        "outputId": "c74422e0-e31c-4f1b-b936-aec0748d5383",
        "colab": {
          "base_uri": "https://localhost:8080/",
          "height": 210
        }
      },
      "cell_type": "code",
      "source": [
        "# Taken from\n",
        "# https://stackoverflow.com/questions/48750199/google-colaboratory-misleading-information-about-its-gpu-only-5-ram-available\n",
        "# memory footprint support libraries/code\n",
        "!ln -sf /opt/bin/nvidia-smi /usr/bin/nvidia-smi\n",
        "!pip install gputil\n",
        "!pip install psutil\n",
        "!pip install humanize\n",
        "import psutil\n",
        "import humanize\n",
        "import os\n",
        "import GPUtil as GPU\n",
        "GPUs = GPU.getGPUs()\n",
        "# Colab only provides one GPU and it is not always guaranteed\n",
        "gpu = GPUs[0]\n",
        "def printm():\n",
        "  process = psutil.Process(os.getpid())\n",
        "  print(\"RAM Free: \" + humanize.naturalsize( psutil.virtual_memory().available ), \" | Proc size: \" + humanize.naturalsize( process.memory_info().rss))\n",
        "  print(\"GPU RAM Free: {0:.0f}MB | Used: {1:.0f}MB | Util {2:3.0f}% | Total {3:.0f}MB\".format(gpu.memoryFree, gpu.memoryUsed, gpu.memoryUtil*100, gpu.memoryTotal))"
      ],
      "execution_count": 0,
      "outputs": [
        {
          "output_type": "stream",
          "text": [
            "Collecting gputil\n",
            "  Downloading https://files.pythonhosted.org/packages/ed/0e/5c61eedde9f6c87713e89d794f01e378cfd9565847d4576fa627d758c554/GPUtil-1.4.0.tar.gz\n",
            "Building wheels for collected packages: gputil\n",
            "  Building wheel for gputil (setup.py) ... \u001b[?25ldone\n",
            "\u001b[?25h  Stored in directory: /root/.cache/pip/wheels/3d/77/07/80562de4bb0786e5ea186911a2c831fdd0018bda69beab71fd\n",
            "Successfully built gputil\n",
            "Installing collected packages: gputil\n",
            "Successfully installed gputil-1.4.0\n",
            "Requirement already satisfied: psutil in /usr/local/lib/python2.7/dist-packages (5.4.8)\n",
            "Requirement already satisfied: humanize in /usr/local/lib/python2.7/dist-packages (0.5.1)\n"
          ],
          "name": "stdout"
        }
      ]
    },
    {
      "metadata": {
        "id": "BBvIvBoyg68g",
        "colab_type": "code",
        "outputId": "7014fde1-801c-4128-aebf-c6dc9d1ecd9e",
        "colab": {
          "base_uri": "https://localhost:8080/",
          "height": 52
        }
      },
      "cell_type": "code",
      "source": [
        "printm()"
      ],
      "execution_count": 0,
      "outputs": [
        {
          "output_type": "stream",
          "text": [
            "('RAM Free: 12.9 GB', ' | Proc size: 152.0 MB')\n",
            "GPU RAM Free: 11441MB | Used: 0MB | Util   0% | Total 11441MB\n"
          ],
          "name": "stdout"
        }
      ]
    },
    {
      "metadata": {
        "id": "OMiynJ7p-zI8",
        "colab_type": "text"
      },
      "cell_type": "markdown",
      "source": [
        "## Downloading Functions and Data\n",
        "\n",
        "The first step is to clone the GitHub repository of the course, which contains already implemented functions. You can use your own function and import them here doing the same. In addition, we are going to download and extract the N-HPatches data. \n",
        "\n",
        "As a note, in colab, we can run terminal commands by using ```!```. Also, by using ```%``` we have access to the [built-in IPython magic commands](https://ipython.readthedocs.io/en/stable/interactive/magics.html#magic-cd), which we will use to move through directories (`cd` command). It takes around 5 minutes to download and unzip the dataset. \n"
      ]
    },
    {
      "metadata": {
        "id": "yV1m-9ZGuKGj",
        "colab_type": "code",
        "outputId": "6297fbde-5e9e-46df-e038-bd25fe227b67",
        "colab": {
          "base_uri": "https://localhost:8080/",
          "height": 155
        }
      },
      "cell_type": "code",
      "source": [
        "# Clone repo\n",
        "!git clone https://github.com/MatchLab-Imperial/keras_triplet_descriptor"
      ],
      "execution_count": 0,
      "outputs": [
        {
          "output_type": "stream",
          "text": [
            "Cloning into 'keras_triplet_descriptor'...\n",
            "remote: Enumerating objects: 3, done.\u001b[K\n",
            "remote: Counting objects: 100% (3/3), done.\u001b[K\n",
            "remote: Compressing objects: 100% (3/3), done.\u001b[K\n",
            "remote: Total 181 (delta 0), reused 1 (delta 0), pack-reused 178\u001b[K\n",
            "Receiving objects: 100% (181/181), 149.87 MiB | 21.14 MiB/s, done.\n",
            "Resolving deltas: 100% (65/65), done.\n",
            "Checking out files: 100% (69/69), done.\n"
          ],
          "name": "stdout"
        }
      ]
    },
    {
      "metadata": {
        "id": "pyZSqhZ5LACT",
        "colab_type": "code",
        "outputId": "2ca89e97-2cac-4513-8e9e-fec8bb111088",
        "colab": {
          "base_uri": "https://localhost:8080/",
          "height": 35
        }
      },
      "cell_type": "code",
      "source": [
        "# Change directory\n",
        "%cd /content/keras_triplet_descriptor    \n"
      ],
      "execution_count": 0,
      "outputs": [
        {
          "output_type": "stream",
          "text": [
            "/content/keras_triplet_descriptor\n"
          ],
          "name": "stdout"
        }
      ]
    },
    {
      "metadata": {
        "id": "307CBCL-FjX4",
        "colab_type": "code",
        "outputId": "1dcea820-eb8e-4651-f755-5185f604f6f4",
        "colab": {
          "base_uri": "https://localhost:8080/",
          "height": 469
        }
      },
      "cell_type": "code",
      "source": [
        "# Download data\n",
        "!wget -O hpatches_data.zip https://imperialcollegelondon.box.com/shared/static/ah40eq7cxpwq4a6l4f62efzdyt8rm3ha.zip\n"
      ],
      "execution_count": 0,
      "outputs": [
        {
          "output_type": "stream",
          "text": [
            "--2019-03-22 07:37:14--  https://imperialcollegelondon.box.com/shared/static/ah40eq7cxpwq4a6l4f62efzdyt8rm3ha.zip\n",
            "Resolving imperialcollegelondon.box.com (imperialcollegelondon.box.com)... 107.152.27.197\n",
            "Connecting to imperialcollegelondon.box.com (imperialcollegelondon.box.com)|107.152.27.197|:443... connected.\n",
            "HTTP request sent, awaiting response... 301 Moved Permanently\n",
            "Location: /public/static/ah40eq7cxpwq4a6l4f62efzdyt8rm3ha.zip [following]\n",
            "--2019-03-22 07:37:14--  https://imperialcollegelondon.box.com/public/static/ah40eq7cxpwq4a6l4f62efzdyt8rm3ha.zip\n",
            "Reusing existing connection to imperialcollegelondon.box.com:443.\n",
            "HTTP request sent, awaiting response... 301 Moved Permanently\n",
            "Location: https://imperialcollegelondon.app.box.com/public/static/ah40eq7cxpwq4a6l4f62efzdyt8rm3ha.zip [following]\n",
            "--2019-03-22 07:37:15--  https://imperialcollegelondon.app.box.com/public/static/ah40eq7cxpwq4a6l4f62efzdyt8rm3ha.zip\n",
            "Resolving imperialcollegelondon.app.box.com (imperialcollegelondon.app.box.com)... 107.152.27.199\n",
            "Connecting to imperialcollegelondon.app.box.com (imperialcollegelondon.app.box.com)|107.152.27.199|:443... connected.\n",
            "HTTP request sent, awaiting response... 302 Found\n",
            "Location: https://public.boxcloud.com/d/1/b1!PS8oeU_vSN_uOekug4_qYKfZeX_i4V-39FQWu54WKxtZryy0NApceD6H36svV0k5crZHSKYgZuK03NNq1o3j2fnF3Z3YKwzXyir75P8BkKjJtWqBFza5cNxQvzzNXki3xnJ6Y3VH9lMxbSIrp5Zkya66O2O6re9tV-5jxuzWzyblWuZ8_dSi7rBEYglersbLJhCB1_5vC8vWFx6-2aDGF-Uq_qVqKet5yZV06uPRqo7HiM59-mbX4QB0HXbHwTn80uN82Nu9ZtDySRQYHkqEILcaGxZh3m3YbOPB_Z9CO9lPQLXooRtP1MyJ3l8x7x0ozHHWixjihAo23ObFHBLKa5O96eY5_m6b1qDW-fbc9DzROkWOOH3pDq3WIDmCmmQcTNdy_AoWNlnWJN-rmY90tOnS-RKYVRMOCdh26wFTuOZmR0TZdnGnepUK-rrCoUinfHctsdhcfeI11CGPIyVtB00hKJrki6jF6XeFuVGG9qn_HTFlne4haqfJi12fUxyW5f85NBuzYa4WATQzBHU-auXkV1GpfAUwdn8do47mSqoncrde8gp65tnBYBFHWCztPQ0LMx5FSfVAowGQzS37EW0Zufo3mC_xjnNyt7ebu3pXuvSIe4W_nrJNT0CfYdYeoHDuIZmPHi0lhtMluj0xY5PgteGaE2FqBpwhBZq-eKBZFbwrlmxJAj9my-Ewp3WhZFANOUlxRGRnnZaLHA6wmjcqPN0uFPXb0iAlp1dgDwu6x6skNtbsYlt_yjZxk_XIJWfe2Fx--lUW-CvHOuBL_w767xQCuE1MwKsyWQ1KKWlvngK9i4VsocHSIsIaNH_c8qu_d-xwb8kGiRK0jWGBwE6XEvZjvEf0v09nXiHeYquI0VWiUArv3cZ7WWnEF9MWQnU3qkVDEFw5PM5QTPUyrIm8P3zLZGEAaTxto3JHFBH3OVmrKhc7h9vYJodv8veLLwS7QbMQh3f2g91zbuiArqUC-C2fNNBqQuJt-Hb0pIhv5EJ7fh-dYpD6dsBKiq5VxIoFhLDYYhxL2JRRKQjtmzF55oJWd6xtmveV0e4DRUd3Z-7jyk1LOTgM9kJ8DjyZ8ZwaOoMiaAM7Wn87tb_yPAJAgKWy1RcqWiiv4gW3c8Xftts_UOxlP9ym-8V-tUTK-P3qPQNTBokfRD9sEuz5L9B0VLIDNrGyLnvk8llNG9KUW2ImUToiMPqucV1LioBKBAZ3hQqSqAo7awy88xYNE3q529f05EvGQco4OnZcHtIxhBslbs12FCjskRxdK2rs-JdEGfGe3SgxqxIMh6CykDVZ3NNShyfoaN0D1eTctRc2oN2oAGJ0PjEwuyG-fbtCA_s_3-dNBwJk_88TNuNBCCh79rLORe1fHzSpE8jp1htLDZL9Y8ZLhpzqMpeubjbhj-wD9NG6jtNHFuGn-uc4Vl0qnEVlz4vmBsXa8MCnMadRT6f3iHl-6H6hmKJ-krOhtd0M8zeKot_uRwBalLnCrVAlw79Uc85fkvyx-A../download [following]\n",
            "--2019-03-22 07:37:15--  https://public.boxcloud.com/d/1/b1!PS8oeU_vSN_uOekug4_qYKfZeX_i4V-39FQWu54WKxtZryy0NApceD6H36svV0k5crZHSKYgZuK03NNq1o3j2fnF3Z3YKwzXyir75P8BkKjJtWqBFza5cNxQvzzNXki3xnJ6Y3VH9lMxbSIrp5Zkya66O2O6re9tV-5jxuzWzyblWuZ8_dSi7rBEYglersbLJhCB1_5vC8vWFx6-2aDGF-Uq_qVqKet5yZV06uPRqo7HiM59-mbX4QB0HXbHwTn80uN82Nu9ZtDySRQYHkqEILcaGxZh3m3YbOPB_Z9CO9lPQLXooRtP1MyJ3l8x7x0ozHHWixjihAo23ObFHBLKa5O96eY5_m6b1qDW-fbc9DzROkWOOH3pDq3WIDmCmmQcTNdy_AoWNlnWJN-rmY90tOnS-RKYVRMOCdh26wFTuOZmR0TZdnGnepUK-rrCoUinfHctsdhcfeI11CGPIyVtB00hKJrki6jF6XeFuVGG9qn_HTFlne4haqfJi12fUxyW5f85NBuzYa4WATQzBHU-auXkV1GpfAUwdn8do47mSqoncrde8gp65tnBYBFHWCztPQ0LMx5FSfVAowGQzS37EW0Zufo3mC_xjnNyt7ebu3pXuvSIe4W_nrJNT0CfYdYeoHDuIZmPHi0lhtMluj0xY5PgteGaE2FqBpwhBZq-eKBZFbwrlmxJAj9my-Ewp3WhZFANOUlxRGRnnZaLHA6wmjcqPN0uFPXb0iAlp1dgDwu6x6skNtbsYlt_yjZxk_XIJWfe2Fx--lUW-CvHOuBL_w767xQCuE1MwKsyWQ1KKWlvngK9i4VsocHSIsIaNH_c8qu_d-xwb8kGiRK0jWGBwE6XEvZjvEf0v09nXiHeYquI0VWiUArv3cZ7WWnEF9MWQnU3qkVDEFw5PM5QTPUyrIm8P3zLZGEAaTxto3JHFBH3OVmrKhc7h9vYJodv8veLLwS7QbMQh3f2g91zbuiArqUC-C2fNNBqQuJt-Hb0pIhv5EJ7fh-dYpD6dsBKiq5VxIoFhLDYYhxL2JRRKQjtmzF55oJWd6xtmveV0e4DRUd3Z-7jyk1LOTgM9kJ8DjyZ8ZwaOoMiaAM7Wn87tb_yPAJAgKWy1RcqWiiv4gW3c8Xftts_UOxlP9ym-8V-tUTK-P3qPQNTBokfRD9sEuz5L9B0VLIDNrGyLnvk8llNG9KUW2ImUToiMPqucV1LioBKBAZ3hQqSqAo7awy88xYNE3q529f05EvGQco4OnZcHtIxhBslbs12FCjskRxdK2rs-JdEGfGe3SgxqxIMh6CykDVZ3NNShyfoaN0D1eTctRc2oN2oAGJ0PjEwuyG-fbtCA_s_3-dNBwJk_88TNuNBCCh79rLORe1fHzSpE8jp1htLDZL9Y8ZLhpzqMpeubjbhj-wD9NG6jtNHFuGn-uc4Vl0qnEVlz4vmBsXa8MCnMadRT6f3iHl-6H6hmKJ-krOhtd0M8zeKot_uRwBalLnCrVAlw79Uc85fkvyx-A../download\n",
            "Resolving public.boxcloud.com (public.boxcloud.com)... 107.152.27.200\n",
            "Connecting to public.boxcloud.com (public.boxcloud.com)|107.152.27.200|:443... connected.\n",
            "HTTP request sent, awaiting response... 200 OK\n",
            "Length: 4088106554 (3.8G) [application/zip]\n",
            "Saving to: ‘hpatches_data.zip’\n",
            "\n",
            "hpatches_data.zip   100%[===================>]   3.81G  21.9MB/s    in 2m 56s  \n",
            "\n",
            "2019-03-22 07:40:12 (22.1 MB/s) - ‘hpatches_data.zip’ saved [4088106554/4088106554]\n",
            "\n"
          ],
          "name": "stdout"
        }
      ]
    },
    {
      "metadata": {
        "id": "36mBTFvPCxY9",
        "colab_type": "code",
        "colab": {}
      },
      "cell_type": "code",
      "source": [
        "# Extract data\n",
        "!unzip -q ./hpatches_data.zip\n",
        "!rm ./hpatches_data.zip"
      ],
      "execution_count": 0,
      "outputs": []
    },
    {
      "metadata": {
        "id": "Rjyr96hR_4wS",
        "colab_type": "text"
      },
      "cell_type": "markdown",
      "source": [
        "## Importing Necessary Modules\n",
        "\n",
        "We now import the modules we will use in this baseline code. "
      ]
    },
    {
      "metadata": {
        "id": "o0KYfe-at9KN",
        "colab_type": "code",
        "outputId": "439ea321-d89c-4e2b-d3a0-6a389307dc46",
        "colab": {
          "base_uri": "https://localhost:8080/",
          "height": 35
        }
      },
      "cell_type": "code",
      "source": [
        "import sys\n",
        "import json\n",
        "import os\n",
        "import glob\n",
        "import time\n",
        "import tensorflow as tf\n",
        "import numpy as np\n",
        "import cv2\n",
        "import random\n",
        "import matplotlib.pyplot as plt\n",
        "\n",
        "import keras\n",
        "from keras import backend as K\n",
        "from keras.models import Sequential, Model\n",
        "from keras.layers import Dense, Dropout, Activation, Flatten, Input, Lambda, Reshape\n",
        "from keras.layers import Conv2D, MaxPooling2D, BatchNormalization, Conv2DTranspose\n",
        "from keras.layers import Input, UpSampling2D, concatenate  \n",
        "\n",
        "from read_data import HPatches, DataGeneratorDesc, hpatches_sequence_folder, DenoiseHPatches, tps\n",
        "from utils import generate_desc_csv, plot_denoise, plot_triplet\n",
        "from keras.utils import plot_model"
      ],
      "execution_count": 0,
      "outputs": [
        {
          "output_type": "stream",
          "text": [
            "Using TensorFlow backend.\n"
          ],
          "name": "stderr"
        }
      ]
    },
    {
      "metadata": {
        "id": "AFG0LyAct_-l",
        "colab_type": "text"
      },
      "cell_type": "markdown",
      "source": [
        "The `read_data` and `utils` imports are functions provided in the repository we just cloned. You can navigate through the *File tab* and check what those functions do for a better understanding.\n",
        "\n",
        "![texto del enlace](https://i.ibb.co/HnfSvfT/filetab.png)\n",
        "\n",
        "\n",
        "\n"
      ]
    },
    {
      "metadata": {
        "id": "2Y61ZKWZ7o5k",
        "colab_type": "text"
      },
      "cell_type": "markdown",
      "source": [
        "We also fix the seeds of the pseudo-random number generators to have reproducible results. The idea of fixing the seed is having the same results every time the algorithm is run if there are no changes in the code."
      ]
    },
    {
      "metadata": {
        "id": "NXL31ez-AT5h",
        "colab_type": "code",
        "colab": {}
      },
      "cell_type": "code",
      "source": [
        "random.seed(1234)\n",
        "np.random.seed(1234)\n",
        "tf.set_random_seed(1234)"
      ],
      "execution_count": 0,
      "outputs": []
    },
    {
      "metadata": {
        "id": "_OqFkNujBGzf",
        "colab_type": "text"
      },
      "cell_type": "markdown",
      "source": [
        "Now we load the data. The original HPatches dataset has several splits, which are used to separate the available sequences in train sequences and test sequences. For our experiments in N-HPatches we use the same splits as in HPatches. Specifically, we load (and report results) using the split `'a'`:\n"
      ]
    },
    {
      "metadata": {
        "id": "ABKDHB9RApZk",
        "colab_type": "code",
        "colab": {}
      },
      "cell_type": "code",
      "source": [
        "hpatches_dir = './hpatches'\n",
        "splits_path = './splits.json'\n",
        "\n",
        "splits_json = json.load(open(splits_path, 'rb'))\n",
        "split = splits_json['a']\n",
        "\n",
        "train_fnames = split['train']\n",
        "test_fnames = split['test']\n",
        "\n",
        "seqs = glob.glob(hpatches_dir+'/*')\n",
        "seqs = [os.path.abspath(p) for p in seqs]   \n",
        "seqs_train = list(filter(lambda x: x.split('/')[-1] in train_fnames, seqs)) \n",
        "seqs_test = list(filter(lambda x: x.split('/')[-1] in split['test'], seqs)) \n"
      ],
      "execution_count": 0,
      "outputs": []
    },
    {
      "metadata": {
        "id": "qeWik0vMEtuC",
        "colab_type": "text"
      },
      "cell_type": "markdown",
      "source": [
        "## Models and loss"
      ]
    },
    {
      "metadata": {
        "id": "LYJz8BDzBkIx",
        "colab_type": "text"
      },
      "cell_type": "markdown",
      "source": [
        "We now define three functions that define the main modules of our baseline. \n",
        "\n",
        "*   **get_denoise_model(..)** returns the denoising model. The input for the function is the size of the patch, which will be *1x32x32*, and it outputs a keras denoising model. \n",
        "*   **get_descriptor_model(..)** builts the descriptor model. The input for the function is the size of the patch, which will be *1x32x32*, and it outputs a keras descriptor model. The model we use as baseline returns a descriptor of dimension *128x1*.\n",
        "*   **triplet_loss(..)** defines the loss function which is used to train the descriptor model. \n",
        "\n",
        "You can modify the models in these functions and run the training code again. For example, the given denoising model is quite shallow, maybe using a deeper network can improve results. Or testing new initializations for the weights. Or maybe adding dropout. Or modifying the loss function somehow..."
      ]
    },
    {
      "metadata": {
        "id": "W6QbkHnbuIUD",
        "colab_type": "code",
        "colab": {}
      },
      "cell_type": "code",
      "source": [
        "def get_denoise_model_add2(shape):\n",
        "  inputs = Input(shape)\n",
        "  ## Encoder starts\n",
        "  conv1 = Conv2D(16, 3, activation = 'relu', padding = 'same', kernel_initializer = 'he_normal')(inputs)\n",
        "  pool1 = MaxPooling2D(pool_size=(2, 2))(conv1)\n",
        "  conv2 = Conv2D(32, 3, activation = 'relu', padding = 'same', kernel_initializer = 'he_normal')(pool1)\n",
        "  pool2 = MaxPooling2D(pool_size=(2, 2))(conv2)\n",
        "  conv3 = Conv2D(64, 3, activation = 'relu', padding = 'same', kernel_initializer = 'he_normal')(pool2)  \n",
        "  pool3 = MaxPooling2D(pool_size=(2, 2))(conv3)\n",
        "  \n",
        "  conv4 = Conv2D(128, 3, activation = 'relu', padding = 'same', kernel_initializer = 'he_normal')(pool3)\n",
        "  up1 = Conv2D(256, 2, activation = 'relu', padding = 'same', kernel_initializer = 'he_normal')(UpSampling2D(size = (2,2))(conv4))\n",
        "  merge1 = concatenate([conv3,up1], axis = -1)\n",
        "  conv5 = Conv2D(256, 3, activation = 'relu', padding = 'same', kernel_initializer = 'he_normal')(merge1)\n",
        "                                                                                                  \n",
        "  up2 = Conv2D(128, 2, activation = 'relu', padding = 'same', kernel_initializer = 'he_normal')(UpSampling2D(size = (2,2))(conv5))\n",
        "  merge2 = concatenate([conv2,up2], axis = -1)\n",
        "  conv6 = Conv2D(128, 3, activation = 'relu', padding = 'same', kernel_initializer = 'he_normal')(merge2)\n",
        "\n",
        "  up3 = Conv2D(64, 2, activation = 'relu', padding = 'same', kernel_initializer = 'he_normal')(UpSampling2D(size = (2,2))(conv6))\n",
        "  merge3 = concatenate([conv1,up3], axis = -1)\n",
        "  conv7 = Conv2D(64, 3, activation = 'relu', padding = 'same', kernel_initializer = 'he_normal')(merge3)\n",
        "\n",
        "  conv8 = Conv2D(1, 3,  padding = 'same')(conv7)\n",
        "\n",
        "  shallow_net = Model(inputs = inputs, outputs = conv8)\n",
        "\n",
        "  return shallow_net\n",
        "\n",
        "def get_denoise_model_add1(shape):\n",
        "  inputs = Input(shape)\n",
        "\n",
        "  conv1 = Conv2D(16, 3, activation = 'relu', padding = 'same', kernel_initializer = 'he_normal')(inputs)\n",
        "  pool1 = MaxPooling2D(pool_size=(2, 2))(conv1)\n",
        "  conv2 = Conv2D(32, 3, activation = 'relu', padding = 'same', kernel_initializer = 'he_normal')(pool1)\n",
        "  pool2 = MaxPooling2D(pool_size=(2, 2))(conv2)\n",
        "\n",
        "  conv3 = Conv2D(64, 3, activation = 'relu', padding = 'same', kernel_initializer = 'he_normal')(pool2)\n",
        "  up1 = Conv2D(128, 2, activation = 'relu', padding = 'same', kernel_initializer = 'he_normal')(UpSampling2D(size = (2,2))(conv3))\n",
        "  merge1 = concatenate([conv2,up1], axis = -1)\n",
        "  conv4 = Conv2D(128, 3, activation = 'relu', padding = 'same', kernel_initializer = 'he_normal')(merge1)\n",
        "  \n",
        "  up2 = Conv2D(64, 2, activation = 'relu', padding = 'same', kernel_initializer = 'he_normal')(UpSampling2D(size = (2,2))(conv4))\n",
        " \n",
        "  merge2 = concatenate([conv1,up2], axis = -1)\n",
        "  conv5 = Conv2D(64, 3, activation = 'relu', padding = 'same', kernel_initializer = 'he_normal')(merge2)   \n",
        "\n",
        "  conv6 = Conv2D(1, 3,  padding = 'same')(conv5)\n",
        "  shallow_net = Model(inputs = inputs, outputs = conv6)\n",
        "\n",
        "  return shallow_net\n",
        "\n",
        "def get_denoise_model(shape):\n",
        "  inputs = Input(shape)\n",
        "  \n",
        "  ## Encoder starts\n",
        "  conv1 = Conv2D(16, 3, activation = 'relu', padding = 'same', kernel_initializer = 'he_normal')(inputs)\n",
        "  pool1 = MaxPooling2D(pool_size=(2, 2))(conv1)\n",
        "  \n",
        "  ## Bottleneck\n",
        "  conv2 = Conv2D(32, 3, activation = 'relu', padding = 'same', kernel_initializer = 'he_normal')(pool1)\n",
        "\n",
        "  ## Now the decoder starts\n",
        "  up3 = Conv2D(64, 2, activation = 'relu', padding = 'same', kernel_initializer = 'he_normal')(UpSampling2D(size = (2,2))(conv2))\n",
        "  #up3 = Conv2DTranspose(64, 2, strides=(2, 2), activation = 'relu', padding = 'same', kernel_initializer = 'he_normal')(conv2)\n",
        "  merge3 = concatenate([conv1,up3], axis = -1)\n",
        "  conv3 = Conv2D(64, 3, activation = 'relu', padding = 'same', kernel_initializer = 'he_normal')(merge3)\n",
        "  \n",
        "  conv4 = Conv2D(1, 3,  padding = 'same')(conv3)\n",
        "\n",
        "  shallow_net = Model(inputs = inputs, outputs = conv4)\n",
        "  \n",
        "  return shallow_net\n",
        "\n",
        "#------------------------------------------------------------------------\n",
        "\n",
        "def get_descriptor_model(shape):\n",
        "  \n",
        "  '''Architecture copies HardNet architecture'''\n",
        "  \n",
        "  init_weights = keras.initializers.he_normal()\n",
        "  \n",
        "  descriptor_model = Sequential()\n",
        "  descriptor_model.add(Conv2D(32, 3, padding='same', input_shape=shape, use_bias = True, kernel_initializer=init_weights))\n",
        "  descriptor_model.add(BatchNormalization(axis = -1))\n",
        "  descriptor_model.add(Activation('relu'))\n",
        "\n",
        "  descriptor_model.add(Conv2D(32, 3, padding='same', use_bias = True, kernel_initializer=init_weights))\n",
        "  descriptor_model.add(BatchNormalization(axis = -1))\n",
        "  descriptor_model.add(Activation('relu'))\n",
        "\n",
        "  descriptor_model.add(Conv2D(64, 3, padding='same', strides=2, use_bias = True, kernel_initializer=init_weights))\n",
        "  descriptor_model.add(BatchNormalization(axis = -1))\n",
        "  descriptor_model.add(Activation('relu'))\n",
        "\n",
        "  descriptor_model.add(Conv2D(64, 3, padding='same', use_bias = True, kernel_initializer=init_weights))\n",
        "  descriptor_model.add(BatchNormalization(axis = -1))\n",
        "  descriptor_model.add(Activation('relu'))\n",
        "\n",
        "  descriptor_model.add(Conv2D(128, 3, padding='same', strides=2,  use_bias = True, kernel_initializer=init_weights))\n",
        "  descriptor_model.add(BatchNormalization(axis = -1))\n",
        "  descriptor_model.add(Activation('relu'))\n",
        "\n",
        "  descriptor_model.add(Conv2D(128, 3, padding='same', use_bias = True, kernel_initializer=init_weights))\n",
        "  descriptor_model.add(BatchNormalization(axis = -1))\n",
        "  descriptor_model.add(Activation('relu'))\n",
        "  descriptor_model.add(Dropout(0.3))\n",
        "\n",
        "  descriptor_model.add(Conv2D(128, 8, padding='valid', use_bias = True, kernel_initializer=init_weights))\n",
        "  \n",
        "  # Final descriptor reshape\n",
        "  descriptor_model.add(Reshape((128,)))\n",
        "  \n",
        "  return descriptor_model\n",
        "  \n",
        "  \n",
        "def triplet_loss(x):\n",
        "  \n",
        "  output_dim = 128\n",
        "  a, p, n = x\n",
        "  _alpha = 1.0\n",
        "  positive_distance = K.mean(K.square(a - p), axis=-1)\n",
        "  negative_distance = K.mean(K.square(a - n), axis=-1)\n",
        "  \n",
        "  return K.expand_dims(K.maximum(0.0, positive_distance - negative_distance + _alpha), axis = 1)"
      ],
      "execution_count": 0,
      "outputs": []
    },
    {
      "metadata": {
        "id": "RlS5zcV7EJgp",
        "colab_type": "text"
      },
      "cell_type": "markdown",
      "source": [
        "## Denoising Image Patches\n"
      ]
    },
    {
      "metadata": {
        "id": "wHxHwjUd3-pY",
        "colab_type": "text"
      },
      "cell_type": "markdown",
      "source": [
        "We use the *DenoiseHPatches* class implemented in the read_data.py file, which takes as input the list of sequences to load and the size of batches. \n",
        "\n",
        "*DenoiseHPatches* outputs batches where the input data is the noisy image and the label is the clean image, so we can use a mean absolute error (MAE) metric as loss function. You can try to use different metrics here to see if that improves results. \n",
        "\n",
        "Afterward, we take a subset of training and validation sequences by using *random.sample* (3 sequences for training and 1 for validation data). The purpose of doing so is just to speed-up training when trying different setups, but you should use the whole dataset when training your final model. Remove the random.sample function to give the generator all the training data.\n",
        "\n",
        "In addition, note that we are using the test set as validation. We will provide you with a new test set that will be used to evaluate your final model, and from which you will not have the clean images. \n",
        "\n",
        "**Updated**: Training should be quite faster now (1 epoch around 15 minutes)."
      ]
    },
    {
      "metadata": {
        "id": "m_VPSHmSK0dS",
        "colab_type": "code",
        "colab": {}
      },
      "cell_type": "code",
      "source": [
        "random.seed(5)\n",
        "denoise_generator = DenoiseHPatches(random.sample(seqs_train, 3), batch_size=50)\n",
        "denoise_generator_val = DenoiseHPatches(random.sample(seqs_test, 1), batch_size=50)\n",
        "\n",
        "# Uncomment following lines for using all the data to train the denoising model\n",
        "# denoise_generator = DenoiseHPatches(seqs_train, batch_size=50)\n",
        "# denoise_generator_val = DenoiseHPatches(seqs_test, batch_size=50)"
      ],
      "execution_count": 0,
      "outputs": []
    },
    {
      "metadata": {
        "id": "-eUSba93Dttj",
        "colab_type": "code",
        "colab": {}
      },
      "cell_type": "code",
      "source": [
        "shape = (32, 32, 1)\n",
        "denoise_model = get_denoise_model(shape)\n",
        "#denoise_model = get_denoise_model_add1(shape)\n",
        "#denoise_model = get_denoise_model_add2(shape)\n",
        "plot_model(denoise_model,\n",
        "    to_file='denoise_model.png',\n",
        "    show_shapes=True,\n",
        "    show_layer_names=False,\n",
        "    rankdir='TB')"
      ],
      "execution_count": 0,
      "outputs": []
    },
    {
      "metadata": {
        "id": "H3wkjkpk4bRh",
        "colab_type": "text"
      },
      "cell_type": "markdown",
      "source": [
        "We set number of epochs to 1, tweak it, along with other hyperparameters, to improve the performance of the model."
      ]
    },
    {
      "metadata": {
        "id": "8q8H9oc2_m_W",
        "colab_type": "code",
        "colab": {}
      },
      "cell_type": "code",
      "source": [
        "#denoise_loss_sgd = np.empty([0,30])\n",
        "#denoise_val_loss_sgd = np.empty([0,30])\n",
        "#denoise_loss_RMSprop = np.empty([0,30])\n",
        "#denoise_val_loss_RMSprop = np.empty([0,30])\n",
        "denoise_loss_Adam = np.empty([0,30])\n",
        "denoise_val_loss_Adam = np.empty([0,30])"
      ],
      "execution_count": 0,
      "outputs": []
    },
    {
      "metadata": {
        "id": "edwbgE6yKqcD",
        "colab_type": "code",
        "colab": {}
      },
      "cell_type": "code",
      "source": [
        "#Optimizers\n",
        "Adam = keras.optimizers.Adam(lr=0.001, beta_1=0.9, beta_2=0.999, epsilon=None, decay=0.0, amsgrad=False)\n",
        "RMSprop = keras.optimizers.RMSprop(lr=0.001, rho=0.9, epsilon=None, decay=0.0)\n",
        "sgd = keras.optimizers.SGD(lr=0.00001, momentum=0.9, nesterov=True)\n",
        "\n",
        "denoise_model.compile(loss='mean_absolute_error', optimizer=Adam, metrics=['mae'])\n",
        "epochs = 1\n",
        "### Use a loop to save for each epoch the weights in an external website in\n",
        "### case colab stops. Every time you call fit/fit_generator the weigths are NOT\n",
        "### reset, so e.g. calling 5 times fit(epochs=1) behave as fit(epochs=5)\n",
        "for e in range(epochs):\n",
        "  denoise_history = denoise_model.fit_generator(generator=denoise_generator, \n",
        "                                                epochs=30, verbose=1, \n",
        "                                                validation_data=denoise_generator_val)\n",
        "  ### Saves optimizer and weights\n",
        "  denoise_model.save('denoise.h5') \n",
        "  ### Uploads files to external hosting\n",
        "  !curl -F \"file=@denoise.h5\" https://file.io\n"
      ],
      "execution_count": 0,
      "outputs": []
    },
    {
      "metadata": {
        "id": "sNCR4JIYnZpM",
        "colab_type": "code",
        "colab": {}
      },
      "cell_type": "code",
      "source": [
        "#denoise_loss_sgd = np.append(denoise_loss_sgd, denoise_history.history['loss'])\n",
        "#denoise_val_loss_sgd = np.append(denoise_val_loss_sgd, denoise_history.history['val_loss'])\n",
        "\n",
        "#denoise_loss_RMSprop = np.append(denoise_loss_RMSprop, denoise_history.history['loss'])\n",
        "#denoise_val_loss_RMSprop = np.append(denoise_val_loss_RMSprop, denoise_history.history['val_loss'])\n",
        "\n",
        "denoise_loss_Adam = np.append(denoise_loss_Adam, denoise_history.history['loss'])\n",
        "denoise_val_loss_Adam = np.append(denoise_val_loss_Adam, denoise_history.history['val_loss'])\n",
        "\n",
        "plt.plot(denoise_loss_RMSprop,'b-', label=\"training loss with RMSprop\")\n",
        "plt.plot(denoise_val_loss_RMSprop,'b--', label=\"validation loss with RMSprop\")\n",
        "plt.plot(denoise_loss_Adam,'r-', label=\"training loss with Adam\")\n",
        "plt.plot(denoise_val_loss_Adam,'r--', label=\"validation loss with Adam\")\n",
        "plt.plot(denoise_loss_sgd,'g-', label=\"training loss with SGD\")\n",
        "plt.plot(denoise_val_loss_sgd,'g--', label=\"validation loss with SGD\")\n",
        "#plt.ylim(top=12)\n",
        "plt.ylabel('Loss')\n",
        "plt.xlabel('Epoch')\n",
        "plt.legend()\n",
        "plt.show()"
      ],
      "execution_count": 0,
      "outputs": []
    },
    {
      "metadata": {
        "id": "2dKBM4qA8GTw",
        "colab_type": "text"
      },
      "cell_type": "markdown",
      "source": [
        "After every epoch, the code will generate an external link, this link saves your weights in case of colab disconnecting during training. Example of an epoch:\n",
        "\n",
        "**Epoch 1/1**\n",
        "1797/1797 [==============================] - 48s 27ms/step - loss: 11.4135 - \n",
        "mean_absolute_error: 11.4135 - val_loss: 7.6013 - val_mean_absolute_error: 7.6013 \n",
        "{\"success\":true,\"key\":\"fv9vjj\"\n",
        "\n",
        "\"link\":\"https://file.io/fv9vjj\",\"expiry\":\"14 days\"} **Epoch 1/1**"
      ]
    },
    {
      "metadata": {
        "id": "Ohb6Q94z4yya",
        "colab_type": "text"
      },
      "cell_type": "markdown",
      "source": [
        "If colab did not disconnect, and you want to save the weights in your local disk, you also can use:\n"
      ]
    },
    {
      "metadata": {
        "id": "GjAQRnPV47BI",
        "colab_type": "code",
        "colab": {}
      },
      "cell_type": "code",
      "source": [
        "from google.colab import files\n",
        "files.download('denoise.h5')"
      ],
      "execution_count": 0,
      "outputs": []
    },
    {
      "metadata": {
        "id": "vCfE3xnF8Nfc",
        "colab_type": "text"
      },
      "cell_type": "markdown",
      "source": [
        "Moreover, if you have a model saved from a previous training session, you can upload it to colab and initialize the model's weights with it. \n",
        "\n",
        "You either can use `!wget download_link` or upload the weights from your local disk by using the left panel ('Files' section) in colab.\n",
        "\n",
        "Once the weights are uploaded, you can use\n",
        "\n",
        "> ``denoise_model = keras.models.load_model('./denoise.h5')\n",
        "``\n",
        "\n",
        "to load the weights."
      ]
    },
    {
      "metadata": {
        "id": "xMHY9CR16gjD",
        "colab_type": "code",
        "colab": {}
      },
      "cell_type": "code",
      "source": [
        "denoise_model = keras.models.load_model('./denoise.h5')"
      ],
      "execution_count": 0,
      "outputs": []
    },
    {
      "metadata": {
        "id": "e9FzSZzMEcs4",
        "colab_type": "text"
      },
      "cell_type": "markdown",
      "source": [
        "### Visualization of Denoising Results\n",
        "To visualize how the denoised patches look, you can run the following function. It returns the noisy patch, the denoised patch in the middle, and the clean patch in the right side. "
      ]
    },
    {
      "metadata": {
        "id": "XFA_8uN4Eb3B",
        "colab_type": "code",
        "colab": {}
      },
      "cell_type": "code",
      "source": [
        "plot_denoise(denoise_model)"
      ],
      "execution_count": 0,
      "outputs": []
    },
    {
      "metadata": {
        "id": "Isx8_SpqFL6m",
        "colab_type": "code",
        "colab": {}
      },
      "cell_type": "code",
      "source": [
        "#delete generators used in the denoising model training\n",
        "del denoise_generator\n",
        "del denoise_generator_val"
      ],
      "execution_count": 0,
      "outputs": []
    },
    {
      "metadata": {
        "id": "SyABaCvkEPDR",
        "colab_type": "text"
      },
      "cell_type": "markdown",
      "source": [
        "## Training a Descriptor Network\n",
        "In the last section we trained a model that given a noisy patch, outputs a denoised version of it. We hoped that by doing so, we will improve the performance of the second part, which is training a network that outputs the descriptor. As we mentioned, a descriptor is a numerical vector that represents the small images we have. The dataset consists of a large number of small images, which are cropped patches from other larger images. Hence, they represent some local part of a scene. That is why there are no objects represented, only corners or textures. Each of these patches is related to a subset of other patches of the dataset by some kind of geometric transformation (e.g. rotation).  For a given patch, we want the network to output a vector that is close to the vectors of the patches that represent the same local part of a scene, while being far from patches do not represent that local part of a scene.\n",
        "\n",
        "To do so, we will build a convolutional neural network that takes the input of $32\\times32$ and outputs a descriptor of size $128$. For the loss, we use the triplet loss, which takes an anchor patch, a negative patch and a positive patch. The idea is to train the network so the descriptors from the anchor and positive patch have a low distance between them, and the negative and anchor patch have a large distance between them. \n",
        "\n",
        "In this cell we generate a triplet network, which is a network formed by three copies of the same network. That means that the descriptor model will compute the descriptor for the input `'a'` (anchor), the same descriptor model (with the same weights) will compute the descriptor for the input `'p'` (positive), and again the same model will compute the descriptor for the input `'n'` (negative). \n",
        "\n",
        "**Updated explanation**: Due to the way Keras handles the compile method, it needs a loss as an argument in that compile method. However, our loss is computed in the lambda layer, so we want to minimize the output of that layer. As we want to minimize the output of the Lambda function (in this case the triplet loss), we output as the label in the training_generator a vector of zeros and we compute the mean absolute error of the triplet loss and this vector of zeros. To give you an intuition, what we aim to minimize is\n",
        "$$  |\\text{triplet_loss} - 0| =  |\\text{triplet_loss}| = \\text{triplet_loss} $$\n",
        "\n"
      ]
    },
    {
      "metadata": {
        "id": "DX2HsY87WI0T",
        "colab_type": "code",
        "outputId": "e2b655f8-2e24-457a-e566-2ee60acc90db",
        "colab": {
          "base_uri": "https://localhost:8080/",
          "height": 141
        }
      },
      "cell_type": "code",
      "source": [
        "denoise_model = keras.models.load_model('./denoise.h5')"
      ],
      "execution_count": 0,
      "outputs": [
        {
          "output_type": "stream",
          "text": [
            "WARNING:tensorflow:From /usr/local/lib/python2.7/dist-packages/tensorflow/python/framework/op_def_library.py:263: colocate_with (from tensorflow.python.framework.ops) is deprecated and will be removed in a future version.\n",
            "Instructions for updating:\n",
            "Colocations handled automatically by placer.\n",
            "WARNING:tensorflow:From /usr/local/lib/python2.7/dist-packages/tensorflow/python/ops/math_ops.py:3066: to_int32 (from tensorflow.python.ops.math_ops) is deprecated and will be removed in a future version.\n",
            "Instructions for updating:\n",
            "Use tf.cast instead.\n"
          ],
          "name": "stdout"
        }
      ]
    },
    {
      "metadata": {
        "id": "fz-ZkcoCSGnh",
        "colab_type": "code",
        "colab": {}
      },
      "cell_type": "code",
      "source": [
        "from keras import layers, models\n",
        "img_height = 32\n",
        "img_width = 32\n",
        "img_channels = 1\n",
        "cardinality = 1\n",
        "\n",
        "\n",
        "def residual_network(x):\n",
        "    \"\"\"\n",
        "    ResNeXt by default. For ResNet set `cardinality` = 1 above.\n",
        "    \n",
        "    \"\"\"\n",
        "    def add_common_layers(y):\n",
        "        y = layers.BatchNormalization()(y)\n",
        "        y = layers.LeakyReLU()(y)\n",
        "\n",
        "        return y\n",
        "\n",
        "    def grouped_convolution(y, nb_channels, _strides):\n",
        "        # when `cardinality` == 1 this is just a standard convolution\n",
        "        if cardinality == 1:\n",
        "            return layers.Conv2D(nb_channels, kernel_size=(3, 3), strides=_strides, padding='same')(y)\n",
        "        \n",
        "        assert not nb_channels % cardinality\n",
        "        _d = nb_channels // cardinality\n",
        "\n",
        "        # in a grouped convolution layer, input and output channels are divided into `cardinality` groups,\n",
        "        # and convolutions are separately performed within each group\n",
        "        groups = []\n",
        "        for j in range(cardinality):\n",
        "            group = layers.Lambda(lambda z: z[:, :, :, j * _d:j * _d + _d])(y)\n",
        "            groups.append(layers.Conv2D(_d, kernel_size=(3, 3), strides=_strides, padding='same')(group))\n",
        "            \n",
        "        # the grouped convolutional layer concatenates them as the outputs of the layer\n",
        "        y = layers.concatenate(groups)\n",
        "\n",
        "        return y\n",
        "\n",
        "    def residual_block(y, nb_channels_in, nb_channels_out, _strides=(1, 1), _project_shortcut=False):\n",
        "        \"\"\"\n",
        "        Our network consists of a stack of residual blocks. These blocks have the same topology,\n",
        "        and are subject to two simple rules:\n",
        "\n",
        "        - If producing spatial maps of the same size, the blocks share the same hyper-parameters (width and filter sizes).\n",
        "        - Each time the spatial map is down-sampled by a factor of 2, the width of the blocks is multiplied by a factor of 2.\n",
        "        \"\"\"\n",
        "        shortcut = y\n",
        "\n",
        "        # we modify the residual building block as a bottleneck design to make the network more economical\n",
        "        y = layers.Conv2D(nb_channels_in, kernel_size=(1, 1), strides=(1, 1), padding='same')(y)\n",
        "        y = add_common_layers(y)\n",
        "\n",
        "        # ResNeXt (identical to ResNet when `cardinality` == 1)\n",
        "        y = grouped_convolution(y, nb_channels_in, _strides=_strides)\n",
        "        y = add_common_layers(y)\n",
        "\n",
        "        y = layers.Conv2D(nb_channels_out, kernel_size=(1, 1), strides=(1, 1), padding='same')(y)\n",
        "        # batch normalization is employed after aggregating the transformations and before adding to the shortcut\n",
        "        y = layers.BatchNormalization()(y)\n",
        "\n",
        "        # identity shortcuts used directly when the input and output are of the same dimensions\n",
        "        if _project_shortcut or _strides != (1, 1):\n",
        "            # when the dimensions increase projection shortcut is used to match dimensions (done by 1×1 convolutions)\n",
        "            # when the shortcuts go across feature maps of two sizes, they are performed with a stride of 2\n",
        "            shortcut = layers.Conv2D(nb_channels_out, kernel_size=(1, 1), strides=_strides, padding='same')(shortcut)\n",
        "            shortcut = layers.BatchNormalization()(shortcut)\n",
        "\n",
        "        y = layers.add([shortcut, y])\n",
        "\n",
        "        # relu is performed right after each batch normalization,\n",
        "        # expect for the output of the block where relu is performed after the adding to the shortcut\n",
        "        y = layers.LeakyReLU()(y)\n",
        "\n",
        "        return y\n",
        "\n",
        "    # conv1\n",
        "    x = layers.Conv2D(32, kernel_size=(3, 3), strides=(1, 1), padding='same')(x)\n",
        "    x = add_common_layers(x)\n",
        "\n",
        "    # conv2\n",
        "    x = layers.MaxPool2D(pool_size=(3, 3), strides=(2, 2), padding='same')(x)\n",
        "    for i in range(1):\n",
        "        project_shortcut = True if i == 0 else False\n",
        "        x = residual_block(x, 32, 64, _project_shortcut=project_shortcut)\n",
        "\n",
        "    # conv3\n",
        "    for i in range(1):\n",
        "        # down-sampling is performed by conv3_1, conv4_1, and conv5_1 with a stride of 2\n",
        "        strides = (2, 2) if i == 0 else (1, 1)\n",
        "        x = residual_block(x, 64, 128, _strides=strides)\n",
        "        \n",
        "    # conv4\n",
        "    for i in range(1):\n",
        "        # down-sampling is performed by conv3_1, conv4_1, and conv5_1 with a stride of 2\n",
        "        strides = (2, 2) if i == 0 else (1, 1)\n",
        "        x = residual_block(x, 128, 256, _strides=strides)\n",
        "\n",
        "    x = layers.GlobalAveragePooling2D()(x)\n",
        "    #x = layers.Conv2D(128, kernel_size=(3, 3), strides=(8, 8), padding='same')(x)\n",
        "    \n",
        "    x = layers.Dense(128)(x)\n",
        "\n",
        "    return x\n",
        "\n",
        "\n",
        "image_tensor = layers.Input(shape=(img_height, img_width, img_channels))\n",
        "network_output = residual_network(image_tensor)\n",
        "  \n",
        "model_res = models.Model(inputs=[image_tensor], outputs=[network_output])"
      ],
      "execution_count": 0,
      "outputs": []
    },
    {
      "metadata": {
        "id": "DVmDZIRTHPDa",
        "colab_type": "code",
        "colab": {}
      },
      "cell_type": "code",
      "source": [
        "from keras.layers import Lambda\n",
        "shape = (32, 32, 1)\n",
        "xa = Input(shape=shape, name='a')\n",
        "xp = Input(shape=shape, name='p')\n",
        "xn = Input(shape=shape, name='n')\n",
        "#descriptor_model = get_descriptor_model(shape)\n",
        "descriptor_model = model_res\n",
        "ea = descriptor_model(xa)\n",
        "ep = descriptor_model(xp)\n",
        "en = descriptor_model(xn)\n",
        "\n",
        "loss = Lambda(triplet_loss)([ea, ep, en])\n",
        "\n",
        "descriptor_model_trip = Model(inputs=[xa, xp, xn], outputs=loss)\n",
        "#Optimizer\n",
        "sgd = keras.optimizers.SGD(lr=0.1)\n",
        "#Adam = keras.optimizers.Adam(lr=0.001, beta_1=0.9, beta_2=0.999, epsilon=None, decay=0.0, amsgrad=False)\n",
        "#RMSprop = keras.optimizers.RMSprop(lr=0.001, rho=0.9, epsilon=None, decay=0.0)\n",
        "descriptor_model_trip.compile(loss='mean_absolute_error', optimizer=sgd)\n",
        "\n",
        "plot_model(descriptor_model,\n",
        "    to_file='descriptor_model.png',\n",
        "    show_shapes=True,\n",
        "    show_layer_names=False,\n",
        "    rankdir='TB')"
      ],
      "execution_count": 0,
      "outputs": []
    },
    {
      "metadata": {
        "id": "BllXKocHCwZ7",
        "colab_type": "text"
      },
      "cell_type": "markdown",
      "source": [
        "Here we use the class HPatches, which loads the corresponding files by using the method `read_image_file`. It reads the patches. The output of read_image_file is a tuple of the form (images, labels), which is passed to the class `DataGeneratorDesc`. This class is a generator that creates batches of triplets, and each epoch is defined by the number of triplets in the argument `num_triplets`.\n",
        "\n",
        "**Updated**: In the previous version of the baseline code, we were training the descriptor model with the noisy patches, not with the denoised ones. By adding the argument `denoise_model=denoise_model` to the class HPatches we can use the denoised images instead to train this descriptor model (if `denoise_model=None`, the noisy patches will be used). However, as it has to compute the denoised patch first, the loading of the data will be slower (6/7 extra min).  If you want to train the model with the clean patches instead, you can set the argument `use_clean=True`. In this last case, even if a denoise model is given, it will not be used. When running this piece of code **the type of patches (denoised, noisy or clean) used is printed**."
      ]
    },
    {
      "metadata": {
        "id": "YIR1cH4fDwKj",
        "colab_type": "code",
        "outputId": "9875452b-d3ba-4399-a7c8-59bf18401ff9",
        "colab": {
          "base_uri": "https://localhost:8080/",
          "height": 190
        }
      },
      "cell_type": "code",
      "source": [
        "### Descriptor loading and training\n",
        "# Loading images\n",
        "hPatches = HPatches(train_fnames=train_fnames, test_fnames=test_fnames,\n",
        "                    denoise_model=denoise_model, use_clean=False)\n",
        "\n",
        "# Creating training generator\n",
        "training_generator = DataGeneratorDesc(*hPatches.read_image_file(hpatches_dir, train=1), num_triplets=20000)\n",
        "# Creating validation generator\n",
        "val_generator = DataGeneratorDesc(*hPatches.read_image_file(hpatches_dir, train=0), num_triplets=2000)\n",
        "\n",
        "#training_generator = DataGeneratorDesc(*hPatches.read_image_file(hpatches_dir, train=1), num_triplets=100000)\n",
        "#val_generator = DataGeneratorDesc(*hPatches.read_image_file(hpatches_dir, train=0), num_triplets=10000)\n"
      ],
      "execution_count": 0,
      "outputs": [
        {
          "output_type": "stream",
          "text": [
            "Using denoised patches\n",
            "100%|██████████| 116/116 [00:33<00:00,  3.69it/s]\n",
            "Denoising patches...\n",
            "100%|██████████| 15589/15589 [11:12<00:00, 23.19it/s]\n"
          ],
          "name": "stdout"
        },
        {
          "output_type": "stream",
          "text": [
            "100%|██████████| 20000/20000 [00:00<00:00, 75201.58it/s]\n"
          ],
          "name": "stderr"
        },
        {
          "output_type": "stream",
          "text": [
            "Using denoised patches\n",
            "100%|██████████| 116/116 [00:20<00:00,  5.71it/s]\n",
            "Denoising patches...\n",
            "100%|██████████| 9525/9525 [06:45<00:00, 23.49it/s]\n"
          ],
          "name": "stdout"
        },
        {
          "output_type": "stream",
          "text": [
            "100%|██████████| 2000/2000 [00:00<00:00, 62804.02it/s]\n"
          ],
          "name": "stderr"
        }
      ]
    },
    {
      "metadata": {
        "id": "GoQYyuD7_4PS",
        "colab_type": "text"
      },
      "cell_type": "markdown",
      "source": [
        "We plot a random triplet in the form of anchor, positive and negative sample. The positive and anchor patches are similar between them (the difference is a geometric transformation, for example rotation), whereas the negative sample should be quite dissimilar to any of the other two."
      ]
    },
    {
      "metadata": {
        "id": "3RQmOMU92csu",
        "colab_type": "code",
        "outputId": "3a5d6961-a22e-45f4-e876-2d741790d9e2",
        "colab": {
          "base_uri": "https://localhost:8080/",
          "height": 183
        }
      },
      "cell_type": "code",
      "source": [
        "plot_triplet(training_generator)"
      ],
      "execution_count": 0,
      "outputs": [
        {
          "output_type": "display_data",
          "data": {
            "image/png": "[encoded data removed]",
            "text/plain": [
              "<Figure size 576x396 with 3 Axes>"
            ]
          },
          "metadata": {
            "tags": []
          }
        }
      ]
    },
    {
      "metadata": {
        "id": "UaE2_6HUCAOw",
        "colab_type": "text"
      },
      "cell_type": "markdown",
      "source": [
        "We now train the descriptor model and save the weights afterward."
      ]
    },
    {
      "metadata": {
        "id": "HvZ0MtPvTex8",
        "colab_type": "code",
        "colab": {}
      },
      "cell_type": "code",
      "source": [
        "#descriptor_loss_sgd = np.empty([0,1])\n",
        "#descriptor_val_loss_sgd = np.empty([0,1])\n",
        "#descriptor_loss_RMSprop = np.empty([0,1])\n",
        "#descriptor_val_loss_RMSprop = np.empty([0,1])\n",
        "#descriptor_loss_Adam = np.empty([0,1])\n",
        "#descriptor_val_loss_Adam = np.empty([0,1])\n",
        "\n",
        "descriptor_loss_res = np.empty([0,1])\n",
        "descriptor_val_loss_res = np.empty([0,1])"
      ],
      "execution_count": 0,
      "outputs": []
    },
    {
      "metadata": {
        "id": "QPyc8as42WTQ",
        "colab_type": "code",
        "outputId": "9842b84b-468f-4ed2-96d6-ade0b9112319",
        "colab": {
          "base_uri": "https://localhost:8080/",
          "height": 3461
        }
      },
      "cell_type": "code",
      "source": [
        "epochs = 30\n",
        "### As with the denoising model, we use a loop to save for each epoch \n",
        "## #the weights in an external website in case colab stops. \n",
        "### reset, so e.g. calling 5 times fit(epochs=1) behave as fit(epochs=5)\n",
        "\n",
        "### If you have a model saved from a previous training session\n",
        "### Load it in the next line\n",
        "# descriptor_model_trip.set_weights(keras.models.load_model('./descriptor.h5').get_weights())\n",
        "# descriptor_model_trip.optimizer = keras.models.load_model('./descriptor.h5').optimizer\n",
        "\n",
        "for e in range(epochs):\n",
        "  \n",
        "  descriptor_history = descriptor_model_trip.fit_generator(generator=training_generator, epochs=1, verbose=1, validation_data=val_generator)\n",
        "  \n",
        "  #descriptor_val_loss_sgd = np.append(descriptor_val_loss_sgd, descriptor_history.history['val_loss'])\n",
        "  #descriptor_loss_sgd = np.append(descriptor_loss_sgd, descriptor_history.history['loss'])\n",
        "  #descriptor_val_loss_RMSprop = np.append(descriptor_val_loss_RMSprop, descriptor_history.history['val_loss'])\n",
        "  #descriptor_loss_RMSprop = np.append(descriptor_loss_RMSprop, descriptor_history.history['loss'])\n",
        "  #descriptor_val_loss_Adam = np.append(descriptor_val_loss_Adam, descriptor_history.history['val_loss'])\n",
        "  #descriptor_loss_Adam = np.append(descriptor_loss_Adam, descriptor_history.history['loss'])\n",
        "  descriptor_val_loss_res = np.append(descriptor_val_loss_res, descriptor_history.history['val_loss'])\n",
        "  descriptor_loss_res = np.append(descriptor_loss_res, descriptor_history.history['loss'])\n",
        "  \n",
        "  ### Saves optimizer and weights\n",
        "  descriptor_model_trip.save('descriptor.h5') \n",
        "  ### Uploads files to external hosting\n",
        "  !curl -F \"file=@descriptor.h5\" https://file.io\n"
      ],
      "execution_count": 120,
      "outputs": [
        {
          "output_type": "stream",
          "text": [
            "Epoch 1/1\n",
            "399/400 [============================>.] - ETA: 0s - loss: 0.3325"
          ],
          "name": "stdout"
        },
        {
          "output_type": "stream",
          "text": [
            "100%|██████████| 20000/20000 [00:00<00:00, 42125.49it/s]\n"
          ],
          "name": "stderr"
        },
        {
          "output_type": "stream",
          "text": [
            "400/400 [==============================] - 47s 117ms/step - loss: 0.3325 - val_loss: 0.4353\n",
            "{\"success\":true,\"key\":\"ij45nD\",\"link\":\"https://file.io/ij45nD\",\"expiry\":\"14 days\"}Epoch 1/1\n",
            "400/400 [==============================] - 31s 76ms/step - loss: 0.2664 - val_loss: 0.4491\n"
          ],
          "name": "stdout"
        },
        {
          "output_type": "stream",
          "text": [
            "  8%|▊         | 1661/20000 [00:00<00:07, 2506.49it/s]\n",
            " 18%|█▊        | 3599/20000 [00:00<00:04, 3392.62it/s]\n",
            " 22%|██▏       | 4464/20000 [00:00<00:03, 4149.09it/s]\n",
            " 92%|█████████▏| 1834/2000 [00:00<00:00, 9531.07it/s] \u001b[A\n",
            "100%|██████████| 20000/20000 [00:01<00:00, 16185.42it/s]\n"
          ],
          "name": "stderr"
        },
        {
          "output_type": "stream",
          "text": [
            "{\"success\":true,\"key\":\"sHijxg\",\"link\":\"https://file.io/sHijxg\",\"expiry\":\"14 days\"}Epoch 1/1\n",
            "400/400 [==============================] - 31s 76ms/step - loss: 0.2457 - val_loss: 0.3328\n"
          ],
          "name": "stdout"
        },
        {
          "output_type": "stream",
          "text": [
            " 10%|▉         | 1990/20000 [00:00<00:08, 2209.37it/s]\n",
            " 20%|█▉        | 3946/20000 [00:00<00:05, 3010.41it/s]\n",
            " 78%|███████▊  | 1570/2000 [00:00<00:00, 15694.22it/s]\u001b[A\n",
            "100%|██████████| 20000/20000 [00:01<00:00, 18061.91it/s]\n"
          ],
          "name": "stderr"
        },
        {
          "output_type": "stream",
          "text": [
            "{\"success\":true,\"key\":\"49duJC\",\"link\":\"https://file.io/49duJC\",\"expiry\":\"14 days\"}Epoch 1/1\n",
            "400/400 [==============================] - 31s 76ms/step - loss: 0.2369 - val_loss: 0.3067\n"
          ],
          "name": "stdout"
        },
        {
          "output_type": "stream",
          "text": [
            " 14%|█▍        | 2786/20000 [00:00<00:05, 3134.73it/s]\n",
            " 24%|██▍       | 4771/20000 [00:00<00:03, 4194.02it/s]\n",
            " 29%|██▉       | 5833/20000 [00:00<00:02, 5123.88it/s]\n",
            " 86%|████████▋ | 1725/2000 [00:00<00:00, 8988.35it/s] \u001b[A\n",
            "100%|██████████| 20000/20000 [00:01<00:00, 15883.19it/s]\n"
          ],
          "name": "stderr"
        },
        {
          "output_type": "stream",
          "text": [
            "{\"success\":true,\"key\":\"P2Mgan\",\"link\":\"https://file.io/P2Mgan\",\"expiry\":\"14 days\"}Epoch 1/1\n",
            "400/400 [==============================] - 31s 77ms/step - loss: 0.2219 - val_loss: 0.3196\n"
          ],
          "name": "stdout"
        },
        {
          "output_type": "stream",
          "text": [
            "  5%|▍         | 978/20000 [00:02<00:28, 659.71it/s]\n",
            " 16%|█▋        | 3254/20000 [00:02<00:17, 930.88it/s]\n",
            " 22%|██▏       | 4358/20000 [00:02<00:12, 1283.40it/s]\n",
            " 99%|█████████▉| 1981/2000 [00:00<00:00, 10317.42it/s]\u001b[A\n",
            "100%|██████████| 20000/20000 [00:02<00:00, 6915.32it/s]\n"
          ],
          "name": "stderr"
        },
        {
          "output_type": "stream",
          "text": [
            "{\"success\":true,\"key\":\"It0q3A\",\"link\":\"https://file.io/It0q3A\",\"expiry\":\"14 days\"}Epoch 1/1\n",
            "400/400 [==============================] - 31s 77ms/step - loss: 0.2124 - val_loss: 0.4135\n"
          ],
          "name": "stdout"
        },
        {
          "output_type": "stream",
          "text": [
            " 10%|█         | 2000/20000 [00:00<00:05, 3237.06it/s]\n",
            " 19%|█▊        | 3712/20000 [00:00<00:03, 4236.10it/s]\n",
            " 24%|██▎       | 4734/20000 [00:00<00:02, 5138.59it/s]\n",
            "100%|██████████| 20000/20000 [00:01<00:00, 16919.16it/s]\n"
          ],
          "name": "stderr"
        },
        {
          "output_type": "stream",
          "text": [
            "{\"success\":true,\"key\":\"UDYvyl\",\"link\":\"https://file.io/UDYvyl\",\"expiry\":\"14 days\"}Epoch 1/1\n",
            "400/400 [==============================] - 31s 77ms/step - loss: 0.2113 - val_loss: 0.3629\n"
          ],
          "name": "stdout"
        },
        {
          "output_type": "stream",
          "text": [
            "  3%|▎         | 612/20000 [00:00<00:17, 1085.50it/s]\n",
            " 16%|█▌        | 3245/20000 [00:00<00:10, 1523.76it/s]\n",
            " 21%|██        | 4211/20000 [00:00<00:07, 2038.83it/s]\n",
            " 26%|██▋       | 5300/20000 [00:00<00:05, 2696.03it/s]\n",
            "100%|██████████| 20000/20000 [00:01<00:00, 17916.80it/s]\n"
          ],
          "name": "stderr"
        },
        {
          "output_type": "stream",
          "text": [
            "{\"success\":true,\"key\":\"8VlPit\",\"link\":\"https://file.io/8VlPit\",\"expiry\":\"14 days\"}Epoch 1/1\n",
            "400/400 [==============================] - 31s 77ms/step - loss: 0.1961 - val_loss: 0.2971\n"
          ],
          "name": "stdout"
        },
        {
          "output_type": "stream",
          "text": [
            "  8%|▊         | 1685/20000 [00:00<00:08, 2064.18it/s]\n",
            " 19%|█▉        | 3766/20000 [00:00<00:05, 2828.57it/s]\n",
            " 23%|██▎       | 4684/20000 [00:00<00:04, 3568.68it/s]\n",
            " 28%|██▊       | 5609/20000 [00:00<00:03, 4374.03it/s]\n",
            "100%|██████████| 20000/20000 [00:01<00:00, 14675.96it/s]\n"
          ],
          "name": "stderr"
        },
        {
          "output_type": "stream",
          "text": [
            "{\"success\":true,\"key\":\"NDRPDy\",\"link\":\"https://file.io/NDRPDy\",\"expiry\":\"14 days\"}Epoch 1/1\n",
            "400/400 [==============================] - 31s 77ms/step - loss: 0.1950 - val_loss: 0.2547\n"
          ],
          "name": "stdout"
        },
        {
          "output_type": "stream",
          "text": [
            "  6%|▋         | 1268/20000 [00:00<00:08, 2101.64it/s]\n",
            " 17%|█▋        | 3470/20000 [00:00<00:05, 2883.67it/s]\n",
            " 22%|██▏       | 4342/20000 [00:00<00:04, 3607.79it/s]\n",
            " 99%|█████████▉| 1975/2000 [00:00<00:00, 9325.05it/s]\u001b[A\n",
            "100%|██████████| 20000/20000 [00:01<00:00, 17478.53it/s]\n"
          ],
          "name": "stderr"
        },
        {
          "output_type": "stream",
          "text": [
            "{\"success\":true,\"key\":\"yLTSjm\",\"link\":\"https://file.io/yLTSjm\",\"expiry\":\"14 days\"}Epoch 1/1\n",
            "400/400 [==============================] - 31s 77ms/step - loss: 0.1959 - val_loss: 0.3384\n"
          ],
          "name": "stdout"
        },
        {
          "output_type": "stream",
          "text": [
            "  5%|▍         | 988/20000 [00:00<00:16, 1149.29it/s]\n",
            " 16%|█▌        | 3247/20000 [00:00<00:10, 1606.77it/s]\n",
            " 21%|██        | 4125/20000 [00:00<00:07, 2128.32it/s]\n",
            " 91%|█████████▏| 1827/2000 [00:00<00:00, 9288.45it/s]\u001b[A\n",
            "100%|██████████| 20000/20000 [00:01<00:00, 14370.88it/s]\n"
          ],
          "name": "stderr"
        },
        {
          "output_type": "stream",
          "text": [
            "{\"success\":true,\"key\":\"MLJ705\",\"link\":\"https://file.io/MLJ705\",\"expiry\":\"14 days\"}Epoch 1/1\n",
            "400/400 [==============================] - 31s 77ms/step - loss: 0.1858 - val_loss: 0.2692\n"
          ],
          "name": "stdout"
        },
        {
          "output_type": "stream",
          "text": [
            "  8%|▊         | 1682/20000 [00:00<00:09, 2026.38it/s]\n",
            " 18%|█▊        | 3563/20000 [00:00<00:05, 2767.01it/s]\n",
            " 22%|██▏       | 4374/20000 [00:00<00:04, 3448.43it/s]\n",
            " 93%|█████████▎| 1858/2000 [00:00<00:00, 9691.86it/s] \u001b[A\n",
            "100%|██████████| 20000/20000 [00:01<00:00, 15698.70it/s]\n"
          ],
          "name": "stderr"
        },
        {
          "output_type": "stream",
          "text": [
            "{\"success\":true,\"key\":\"MUQRsO\",\"link\":\"https://file.io/MUQRsO\",\"expiry\":\"14 days\"}Epoch 1/1\n",
            "400/400 [==============================] - 31s 78ms/step - loss: 0.1835 - val_loss: 0.2787\n"
          ],
          "name": "stdout"
        },
        {
          "output_type": "stream",
          "text": [
            " 10%|▉         | 1970/20000 [00:00<00:09, 1948.59it/s]\n",
            " 15%|█▌        | 3045/20000 [00:00<00:06, 2582.53it/s]\n",
            " 19%|█▉        | 3867/20000 [00:00<00:04, 3250.02it/s]\n",
            " 84%|████████▍ | 1684/2000 [00:00<00:00, 8531.82it/s]\u001b[A\n",
            "100%|██████████| 20000/20000 [00:01<00:00, 16989.06it/s]\n"
          ],
          "name": "stderr"
        },
        {
          "output_type": "stream",
          "text": [
            "{\"success\":true,\"key\":\"LUm4x8\",\"link\":\"https://file.io/LUm4x8\",\"expiry\":\"14 days\"}Epoch 1/1\n",
            "400/400 [==============================] - 31s 77ms/step - loss: 0.1717 - val_loss: 0.2639\n"
          ],
          "name": "stdout"
        },
        {
          "output_type": "stream",
          "text": [
            "  7%|▋         | 1314/20000 [00:00<00:11, 1667.55it/s]\n",
            " 13%|█▎        | 2682/20000 [00:00<00:07, 2263.88it/s]\n",
            " 17%|█▋        | 3415/20000 [00:00<00:05, 2855.88it/s]\n",
            " 22%|██▏       | 4360/20000 [00:00<00:04, 3611.68it/s]\n",
            "100%|██████████| 20000/20000 [00:01<00:00, 17495.56it/s]\n"
          ],
          "name": "stderr"
        },
        {
          "output_type": "stream",
          "text": [
            "{\"success\":true,\"key\":\"uJsY47\",\"link\":\"https://file.io/uJsY47\",\"expiry\":\"14 days\"}Epoch 1/1\n",
            "400/400 [==============================] - 31s 77ms/step - loss: 0.1776 - val_loss: 0.3927\n"
          ],
          "name": "stdout"
        },
        {
          "output_type": "stream",
          "text": [
            "  2%|▏         | 466/20000 [00:00<00:14, 1358.73it/s]\n",
            " 12%|█▏        | 2332/20000 [00:00<00:09, 1882.25it/s]\n",
            " 16%|█▌        | 3197/20000 [00:00<00:06, 2458.94it/s]\n",
            " 19%|█▉        | 3893/20000 [00:00<00:05, 3037.63it/s]\n",
            "100%|██████████| 20000/20000 [00:00<00:00, 20338.51it/s]\n"
          ],
          "name": "stderr"
        },
        {
          "output_type": "stream",
          "text": [
            "{\"success\":true,\"key\":\"aUVlI0\",\"link\":\"https://file.io/aUVlI0\",\"expiry\":\"14 days\"}Epoch 1/1\n",
            "400/400 [==============================] - 31s 77ms/step - loss: 0.1786 - val_loss: 0.2370\n"
          ],
          "name": "stdout"
        },
        {
          "output_type": "stream",
          "text": [
            "  5%|▌         | 1033/20000 [00:00<00:21, 877.93it/s]\n",
            " 13%|█▎        | 2577/20000 [00:00<00:14, 1224.34it/s]\n",
            " 18%|█▊        | 3606/20000 [00:00<00:09, 1663.78it/s]\n",
            " 80%|███████▉  | 1597/2000 [00:00<00:00, 8227.08it/s]\u001b[A\n",
            "100%|██████████| 20000/20000 [00:01<00:00, 16974.34it/s]\n"
          ],
          "name": "stderr"
        },
        {
          "output_type": "stream",
          "text": [
            "{\"success\":true,\"key\":\"WnoFJH\",\"link\":\"https://file.io/WnoFJH\",\"expiry\":\"14 days\"}Epoch 1/1\n",
            "400/400 [==============================] - 31s 77ms/step - loss: 0.1710 - val_loss: 0.2572\n"
          ],
          "name": "stdout"
        },
        {
          "output_type": "stream",
          "text": [
            "  6%|▌         | 1124/20000 [00:00<00:11, 1709.34it/s]\n",
            " 16%|█▌        | 3247/20000 [00:00<00:07, 2360.41it/s]\n",
            " 20%|█▉        | 3996/20000 [00:00<00:05, 2941.35it/s]\n",
            " 87%|████████▋ | 1738/2000 [00:00<00:00, 8759.83it/s]\u001b[A\n",
            "100%|██████████| 20000/20000 [00:01<00:00, 16634.38it/s]\n"
          ],
          "name": "stderr"
        },
        {
          "output_type": "stream",
          "text": [
            "{\"success\":true,\"key\":\"cyxPsI\",\"link\":\"https://file.io/cyxPsI\",\"expiry\":\"14 days\"}Epoch 1/1\n",
            "400/400 [==============================] - 33s 82ms/step - loss: 0.1625 - val_loss: 0.6396\n"
          ],
          "name": "stdout"
        },
        {
          "output_type": "stream",
          "text": [
            " 16%|█▌        | 3249/20000 [00:00<00:04, 3928.65it/s]\n",
            " 21%|██        | 4135/20000 [00:00<00:03, 4715.72it/s]\n",
            " 26%|██▌       | 5158/20000 [00:00<00:02, 5624.36it/s]\n",
            " 77%|███████▋  | 1533/2000 [00:00<00:00, 7973.87it/s]\u001b[A\n",
            "100%|██████████| 20000/20000 [00:01<00:00, 18721.82it/s]\n"
          ],
          "name": "stderr"
        },
        {
          "output_type": "stream",
          "text": [
            "{\"success\":true,\"key\":\"COV34B\",\"link\":\"https://file.io/COV34B\",\"expiry\":\"14 days\"}Epoch 1/1\n",
            "400/400 [==============================] - 31s 78ms/step - loss: 0.1700 - val_loss: 0.2753\n"
          ],
          "name": "stdout"
        },
        {
          "output_type": "stream",
          "text": [
            "  3%|▎         | 554/20000 [00:00<00:18, 1036.51it/s]\n",
            " 15%|█▍        | 2924/20000 [00:00<00:11, 1453.49it/s]\n",
            " 19%|█▊        | 3717/20000 [00:00<00:08, 1899.47it/s]\n",
            " 84%|████████▍ | 1676/2000 [00:00<00:00, 8528.71it/s]\u001b[A\n",
            "100%|██████████| 20000/20000 [00:00<00:00, 20583.50it/s]\n"
          ],
          "name": "stderr"
        },
        {
          "output_type": "stream",
          "text": [
            "{\"success\":true,\"key\":\"hMSZCk\",\"link\":\"https://file.io/hMSZCk\",\"expiry\":\"14 days\"}Epoch 1/1\n",
            "400/400 [==============================] - 31s 78ms/step - loss: 0.1715 - val_loss: 0.2438\n"
          ],
          "name": "stdout"
        },
        {
          "output_type": "stream",
          "text": [
            "  5%|▌         | 1034/20000 [00:00<00:08, 2331.74it/s]\n",
            " 14%|█▍        | 2779/20000 [00:00<00:05, 3150.29it/s]\n",
            " 19%|█▉        | 3834/20000 [00:00<00:04, 3989.73it/s]\n",
            " 93%|█████████▎| 1862/2000 [00:00<00:00, 9679.11it/s] \u001b[A\n",
            "100%|██████████| 20000/20000 [00:00<00:00, 21160.13it/s]\n"
          ],
          "name": "stderr"
        },
        {
          "output_type": "stream",
          "text": [
            "{\"success\":true,\"key\":\"0KjBco\",\"link\":\"https://file.io/0KjBco\",\"expiry\":\"14 days\"}Epoch 1/1\n",
            "400/400 [==============================] - 31s 78ms/step - loss: 0.1658 - val_loss: 0.2162\n"
          ],
          "name": "stdout"
        },
        {
          "output_type": "stream",
          "text": [
            "  5%|▌         | 1087/20000 [00:00<00:12, 1503.04it/s]\n",
            " 16%|█▌        | 3204/20000 [00:00<00:08, 2083.76it/s]\n",
            " 21%|██        | 4210/20000 [00:00<00:05, 2734.06it/s]\n",
            " 26%|██▌       | 5161/20000 [00:00<00:04, 3477.01it/s]\n",
            "100%|██████████| 20000/20000 [00:01<00:00, 15536.33it/s]\n"
          ],
          "name": "stderr"
        },
        {
          "output_type": "stream",
          "text": [
            "{\"success\":true,\"key\":\"Mb9bvH\",\"link\":\"https://file.io/Mb9bvH\",\"expiry\":\"14 days\"}Epoch 1/1\n",
            "400/400 [==============================] - 31s 78ms/step - loss: 0.1616 - val_loss: 0.2020\n"
          ],
          "name": "stdout"
        },
        {
          "output_type": "stream",
          "text": [
            "  6%|▋         | 1268/20000 [00:00<00:11, 1603.22it/s]\n",
            " 18%|█▊        | 3574/20000 [00:00<00:07, 2224.00it/s]\n",
            " 23%|██▎       | 4587/20000 [00:00<00:05, 2903.88it/s]\n",
            " 78%|███████▊  | 1562/2000 [00:00<00:00, 7676.68it/s]\u001b[A\n",
            "100%|██████████| 20000/20000 [00:01<00:00, 15077.47it/s]\n"
          ],
          "name": "stderr"
        },
        {
          "output_type": "stream",
          "text": [
            "{\"success\":true,\"key\":\"oBuBZ0\",\"link\":\"https://file.io/oBuBZ0\",\"expiry\":\"14 days\"}Epoch 1/1\n",
            "400/400 [==============================] - 31s 77ms/step - loss: 0.1591 - val_loss: 0.2227\n"
          ],
          "name": "stdout"
        },
        {
          "output_type": "stream",
          "text": [
            "  5%|▍         | 906/20000 [00:00<00:21, 904.01it/s]\n",
            " 12%|█▏        | 2422/20000 [00:00<00:13, 1259.23it/s]\n",
            " 17%|█▋        | 3301/20000 [00:00<00:09, 1694.80it/s]\n",
            " 21%|██        | 4113/20000 [00:00<00:07, 2221.00it/s]\n",
            "100%|██████████| 20000/20000 [00:01<00:00, 16842.36it/s]\n"
          ],
          "name": "stderr"
        },
        {
          "output_type": "stream",
          "text": [
            "{\"success\":true,\"key\":\"UieYSV\",\"link\":\"https://file.io/UieYSV\",\"expiry\":\"14 days\"}Epoch 1/1\n",
            "400/400 [==============================] - 32s 81ms/step - loss: 0.1504 - val_loss: 0.2612\n"
          ],
          "name": "stdout"
        },
        {
          "output_type": "stream",
          "text": [
            " 10%|▉         | 1974/20000 [00:00<00:07, 2426.14it/s]\n",
            " 21%|██        | 4157/20000 [00:00<00:04, 3308.13it/s]\n",
            " 26%|██▌       | 5123/20000 [00:00<00:03, 4120.87it/s]\n",
            " 86%|████████▌ | 1712/2000 [00:00<00:00, 8914.54it/s] \u001b[A\n",
            "100%|██████████| 20000/20000 [00:01<00:00, 14471.69it/s]\n"
          ],
          "name": "stderr"
        },
        {
          "output_type": "stream",
          "text": [
            "{\"success\":true,\"key\":\"7oEfGd\",\"link\":\"https://file.io/7oEfGd\",\"expiry\":\"14 days\"}Epoch 1/1\n",
            "400/400 [==============================] - 31s 77ms/step - loss: 0.1557 - val_loss: 0.3082\n"
          ],
          "name": "stdout"
        },
        {
          "output_type": "stream",
          "text": [
            " 11%|█         | 2192/20000 [00:00<00:07, 2452.37it/s]\n",
            " 23%|██▎       | 4695/20000 [00:00<00:04, 3362.19it/s]\n",
            " 29%|██▉       | 5835/20000 [00:00<00:03, 4263.20it/s]\n",
            " 86%|████████▌ | 1713/2000 [00:00<00:00, 8336.31it/s]\u001b[A\n",
            "100%|██████████| 20000/20000 [00:01<00:00, 16322.47it/s]\n"
          ],
          "name": "stderr"
        },
        {
          "output_type": "stream",
          "text": [
            "{\"success\":true,\"key\":\"8aZ6TA\",\"link\":\"https://file.io/8aZ6TA\",\"expiry\":\"14 days\"}Epoch 1/1\n",
            "400/400 [==============================] - 31s 78ms/step - loss: 0.1544 - val_loss: 0.2060\n"
          ],
          "name": "stdout"
        },
        {
          "output_type": "stream",
          "text": [
            "  9%|▉         | 1857/20000 [00:00<00:09, 1972.61it/s]\n",
            " 15%|█▍        | 2977/20000 [00:00<00:06, 2620.12it/s]\n",
            " 19%|█▉        | 3781/20000 [00:00<00:04, 3284.21it/s]\n",
            " 82%|████████▏ | 1640/2000 [00:00<00:00, 8316.56it/s]\u001b[A\n",
            "100%|██████████| 20000/20000 [00:01<00:00, 14930.10it/s]\n"
          ],
          "name": "stderr"
        },
        {
          "output_type": "stream",
          "text": [
            "{\"success\":true,\"key\":\"I8cG2y\",\"link\":\"https://file.io/I8cG2y\",\"expiry\":\"14 days\"}Epoch 1/1\n",
            "400/400 [==============================] - 31s 78ms/step - loss: 0.1610 - val_loss: 0.6047\n"
          ],
          "name": "stdout"
        },
        {
          "output_type": "stream",
          "text": [
            "  5%|▌         | 1095/20000 [00:00<00:10, 1865.43it/s]\n",
            " 15%|█▌        | 3044/20000 [00:00<00:06, 2558.42it/s]\n",
            " 20%|██        | 4093/20000 [00:00<00:04, 3308.98it/s]\n",
            " 98%|█████████▊| 1968/2000 [00:00<00:00, 10257.68it/s]\u001b[A\n",
            "100%|██████████| 20000/20000 [00:01<00:00, 17891.33it/s]\n"
          ],
          "name": "stderr"
        },
        {
          "output_type": "stream",
          "text": [
            "{\"success\":true,\"key\":\"3GH3Kt\",\"link\":\"https://file.io/3GH3Kt\",\"expiry\":\"14 days\"}Epoch 1/1\n",
            "400/400 [==============================] - 31s 78ms/step - loss: 0.1558 - val_loss: 0.6087\n"
          ],
          "name": "stdout"
        },
        {
          "output_type": "stream",
          "text": [
            "  3%|▎         | 622/20000 [00:00<00:14, 1325.40it/s]\n",
            " 13%|█▎        | 2651/20000 [00:00<00:09, 1841.72it/s]\n",
            " 17%|█▋        | 3418/20000 [00:00<00:06, 2385.05it/s]\n",
            " 22%|██▏       | 4372/20000 [00:00<00:05, 3074.97it/s]\n",
            "100%|██████████| 20000/20000 [00:01<00:00, 18954.09it/s]\n"
          ],
          "name": "stderr"
        },
        {
          "output_type": "stream",
          "text": [
            "{\"success\":true,\"key\":\"QDmbwe\",\"link\":\"https://file.io/QDmbwe\",\"expiry\":\"14 days\"}Epoch 1/1\n",
            "400/400 [==============================] - 31s 78ms/step - loss: 0.1533 - val_loss: 0.6061\n"
          ],
          "name": "stdout"
        },
        {
          "output_type": "stream",
          "text": [
            "  0%|          | 99/20000 [00:00<00:24, 798.39it/s]\n",
            " 11%|█▏        | 2268/20000 [00:00<00:15, 1122.84it/s]\n",
            " 16%|█▌        | 3163/20000 [00:00<00:11, 1522.19it/s]\n",
            " 76%|███████▌  | 1524/2000 [00:00<00:00, 7944.94it/s]\u001b[A\n",
            "100%|██████████| 20000/20000 [00:00<00:00, 25919.16it/s]\n"
          ],
          "name": "stderr"
        },
        {
          "output_type": "stream",
          "text": [
            "{\"success\":true,\"key\":\"HmFKun\",\"link\":\"https://file.io/HmFKun\",\"expiry\":\"14 days\"}Epoch 1/1\n",
            "400/400 [==============================] - 31s 78ms/step - loss: 0.1507 - val_loss: 0.2175\n"
          ],
          "name": "stdout"
        },
        {
          "output_type": "stream",
          "text": [
            "  5%|▌         | 1077/20000 [00:00<00:11, 1661.92it/s]\n",
            " 16%|█▌        | 3225/20000 [00:00<00:07, 2297.95it/s]\n",
            " 21%|██▏       | 4256/20000 [00:00<00:05, 2996.40it/s]\n",
            " 26%|██▌       | 5169/20000 [00:00<00:03, 3751.15it/s]\n",
            "100%|██████████| 20000/20000 [00:01<00:00, 16858.07it/s]\n"
          ],
          "name": "stderr"
        },
        {
          "output_type": "stream",
          "text": [
            "{\"success\":true,\"key\":\"y7CbAE\",\"link\":\"https://file.io/y7CbAE\",\"expiry\":\"14 days\"}Epoch 1/1\n",
            "400/400 [==============================] - 31s 78ms/step - loss: 0.1481 - val_loss: 0.2639\n"
          ],
          "name": "stdout"
        },
        {
          "output_type": "stream",
          "text": [
            "  2%|▏         | 405/20000 [00:00<00:19, 1030.57it/s]\n",
            " 13%|█▎        | 2651/20000 [00:00<00:12, 1443.81it/s]\n",
            " 18%|█▊        | 3618/20000 [00:00<00:08, 1937.54it/s]\n",
            " 22%|██▏       | 4423/20000 [00:00<00:06, 2508.96it/s]\n",
            "100%|██████████| 20000/20000 [00:00<00:00, 20435.88it/s]\n"
          ],
          "name": "stderr"
        },
        {
          "output_type": "stream",
          "text": [
            "{\"success\":true,\"key\":\"fW2a0k\",\"link\":\"https://file.io/fW2a0k\",\"expiry\":\"14 days\"}"
          ],
          "name": "stdout"
        }
      ]
    },
    {
      "metadata": {
        "id": "Gz12Z6-bs7h5",
        "colab_type": "code",
        "outputId": "4c530e27-aacf-4e39-accd-cecb33e18768",
        "colab": {
          "base_uri": "https://localhost:8080/",
          "height": 361
        }
      },
      "cell_type": "code",
      "source": [
        "import matplotlib.pyplot as plt\n",
        "#plt.plot(descriptor_loss_RMSprop,'b-', label=\"training loss with RMSprop\")\n",
        "#plt.plot(descriptor_val_loss_RMSprop,'b--', label=\"validation loss with RMSprop\")\n",
        "#plt.plot(descriptor_loss_Adam,'r-', label=\"training loss with Adam\")\n",
        "#plt.plot(descriptor_val_loss_Adam,'r--', label=\"validation loss with Adam\")\n",
        "plt.plot(descriptor_loss_sgd,'g-', label=\"training loss with SGD\")\n",
        "plt.plot(descriptor_val_loss_sgd,'g--', label=\"validation loss with SGD\")\n",
        "\n",
        "plt.ylabel('Loss')\n",
        "plt.xlabel('Epoch')\n",
        "plt.legend()\n",
        "plt.show()"
      ],
      "execution_count": 0,
      "outputs": [
        {
          "output_type": "display_data",
          "data": {
            "image/png": "[encoded data removed]",
            "text/plain": [
              "<Figure size 576x396 with 1 Axes>"
            ]
          },
          "metadata": {
            "tags": []
          }
        }
      ]
    },
    {
      "metadata": {
        "id": "NJ-r9D4hDxij",
        "colab_type": "text"
      },
      "cell_type": "markdown",
      "source": [
        "## Generating descriptors files for test data \n",
        "\n",
        "To evaluate the performance of out model we will use an existing evaluation code, which is called HPatches benchmark. HPatches benchmark takes as input the descriptors for the test data in a CSV form. So the whole pipeline is represented in the following image.\n",
        "\n",
        "![](https://i.ibb.co/WcDDf3q/Screenshot-from-2019-02-15-11-17-24.png)\n",
        "\n",
        "This function generates those files by passing it a descriptor model and a denoising model. It performs a first step of denoising the patches, and a second one of computing the descriptor of the denoised patch. If no denoising model is given (variable set to `None`), the descriptor is computed directly in the noisy patch.\n",
        "\n",
        "Similarly to the loading data part, you have the denoise_model variable and `use_clean` variable. If `use_clean` is set to True, the CSV generated will be those of the clean patches, even if a denoising model is given. If set to False, then depends on the variable `denoise_model`. If there is no denoise model (`denoise_model=None`), then it will use the noisy patches. If you give a denoising model, then it will compute the CSV for the denoised patches. This can be useful to explore different scenarios (for example, the Upper Bound can be training the descriptor network with clean patches, and testing with clean patches), however you should always report the score when using noisy patches (depending on the approach you develop, you may want to denoise them or not). The official baseline uses the denoised patches. "
      ]
    },
    {
      "metadata": {
        "id": "kiJb2XDG9bsJ",
        "colab_type": "code",
        "outputId": "99b015c6-48eb-44ff-8eb4-f8b51da05d3a",
        "colab": {
          "base_uri": "https://localhost:8080/",
          "height": 35
        }
      },
      "cell_type": "code",
      "source": [
        "generate_desc_csv(descriptor_model, seqs_test, denoise_model=denoise_model, use_clean=False)"
      ],
      "execution_count": 0,
      "outputs": [
        {
          "output_type": "stream",
          "text": [
            "100%|██████████| 40/40 [06:29<00:00, 10.40s/it]\n"
          ],
          "name": "stderr"
        }
      ]
    },
    {
      "metadata": {
        "id": "s0jFr05rE1oI",
        "colab_type": "text"
      },
      "cell_type": "markdown",
      "source": [
        "## Evaluating descriptors in HPatches Benchmark\n",
        "We use HPatches benchmark code to compute the results for our model. \n",
        "\n",
        "**Updated**: The necessary code is included in the repository we cloned at the beginning of the code, so we do not need to download any extra data. Also, we simplified the results, so now they only return one value for each of the three tasks."
      ]
    },
    {
      "metadata": {
        "id": "YvOGRh3sc9Wo",
        "colab_type": "text"
      },
      "cell_type": "markdown",
      "source": [
        "Now we will perform the evaluation of three different tasks (Verification, Matching and Evaluation) using the CSV files we generated as input and the `hpatches_eval.py` script. We also print the results using the `hpatches_results.py` script. The scripts will return a score for each of the tasks. The metric used is called mean Average Precision, which it uses the Precision of the model. The Precision is defined, for a given number of retrieved elements, as the ratio of correct retrieved elements / number of retrieved elements. [Link to Wikipedia with Precision explanation](https://en.wikipedia.org/wiki/Precision_and_recall). The definition of the three different tasks is taken from the [HPatches paper](https://arxiv.org/pdf/1704.05939.pdf).\n",
        "\n",
        "In all of the tasks if you use the optional argument `--more_info` in `hpatches_results.py` you can see extra mAP information. However, the important score is the mAP score reported without this flag.\n",
        "\n",
        "### Verification\n",
        "\n",
        "Patch verification measures the ability of a descriptor to classify whether two patches are extracted from the same measurement. Now we compute the score of our architecture in this task.\n",
        "\n",
        "\n"
      ]
    },
    {
      "metadata": {
        "id": "Awnyv4xTYSFH",
        "colab_type": "code",
        "outputId": "daaee851-ec83-4900-c72e-21721cf6f5d9",
        "colab": {
          "base_uri": "https://localhost:8080/",
          "height": 242
        }
      },
      "cell_type": "code",
      "source": [
        "!python ./hpatches-benchmark/hpatches_eval.py --descr-name=custom --descr-dir=/content/keras_triplet_descriptor/out/ --task=verification --delimiter=\";\"\n",
        "!python ./hpatches-benchmark/hpatches_results.py --descr=custom --results-dir=./hpatches-benchmark/results/ --task=verification\n"
      ],
      "execution_count": 0,
      "outputs": [
        {
          "output_type": "stream",
          "text": [
            "\n",
            ">> Running HPatch evaluation for \u001b[34mcustom\u001b[0m\n",
            ">> Please wait, loading the descriptor files...\n",
            ">> Descriptor files loaded.\n",
            ">> Evaluating \u001b[32mverification\u001b[0m task\n",
            "Processing verification task 1/3 : 100% 1000000/1000000 [01:26<00:00, 11594.56it/s]\n",
            "Processing verification task 2/3 : 100% 1000000/1000000 [01:25<00:00, 11682.71it/s]\n",
            "Processing verification task 3/3 : 100% 1000000/1000000 [01:26<00:00, 11606.60it/s]\n",
            ">> \u001b[32mVerification\u001b[0m task finished in 266 secs  \n",
            "\u001b[32mVerification\u001b[0m task results:\n",
            "Mean Average Precision is 0.825057\n",
            "\n",
            "\n"
          ],
          "name": "stdout"
        }
      ]
    },
    {
      "metadata": {
        "id": "5290Bw-udJdr",
        "colab_type": "text"
      },
      "cell_type": "markdown",
      "source": [
        "### Matching\n",
        "Image matching, tests to what extent a descriptor can correctly identify correspondences in two images."
      ]
    },
    {
      "metadata": {
        "id": "EUqpwi87ckJv",
        "colab_type": "code",
        "outputId": "7c3566be-ae21-43ad-bafa-0d2d4d166a81",
        "colab": {
          "base_uri": "https://localhost:8080/",
          "height": 242
        }
      },
      "cell_type": "code",
      "source": [
        "!python ./hpatches-benchmark/hpatches_eval.py --descr-name=custom --descr-dir=/content/keras_triplet_descriptor/out/ --task=matching --delimiter=\";\"\n",
        "!python ./hpatches-benchmark/hpatches_results.py --descr=custom --results-dir=./hpatches-benchmark/results/ --task=matching\n"
      ],
      "execution_count": 0,
      "outputs": [
        {
          "output_type": "stream",
          "text": [
            "\n",
            ">> Running HPatch evaluation for \u001b[34mcustom\u001b[0m\n",
            ">> Please wait, loading the descriptor files...\n",
            ">> Descriptor files loaded.\n",
            ">> Evaluating \u001b[32mmatching\u001b[0m task\n",
            "100% 40/40 [02:10<00:00,  4.37s/it]\n",
            ">> \u001b[32mMatching\u001b[0m task finished in 131 secs  \n",
            "\u001b[32mMatching\u001b[0m task results:\n",
            "Mean Average Precision is 0.239560\n",
            "\n",
            "\n",
            "\n",
            "\n"
          ],
          "name": "stdout"
        }
      ]
    },
    {
      "metadata": {
        "id": "RXXgbN7DdMnx",
        "colab_type": "text"
      },
      "cell_type": "markdown",
      "source": [
        "### Retrieval\n",
        "Retrieval tests how well a descriptor can match a query patch to a pool of patches extracted from many images."
      ]
    },
    {
      "metadata": {
        "id": "ZNmKIat1cn_M",
        "colab_type": "code",
        "outputId": "f8e688a4-ac30-413f-ae93-e5c214dcf38a",
        "colab": {
          "base_uri": "https://localhost:8080/",
          "height": 279
        }
      },
      "cell_type": "code",
      "source": [
        "!python ./hpatches-benchmark/hpatches_eval.py --descr-name=custom --descr-dir=/content/keras_triplet_descriptor/out/ --task=retrieval --delimiter=\";\"\n",
        "!python ./hpatches-benchmark/hpatches_results.py --descr=custom --results-dir=./hpatches-benchmark/results/ --task=retrieval"
      ],
      "execution_count": 0,
      "outputs": [
        {
          "output_type": "stream",
          "text": [
            "\n",
            ">> Running HPatch evaluation for \u001b[34mcustom\u001b[0m\n",
            ">> Please wait, loading the descriptor files...\n",
            ">> Descriptor files loaded.\n",
            ">> Evaluating \u001b[32mretrieval\u001b[0m task\n",
            ">> Please wait, computing distance matrix...\n",
            "tcmalloc: large alloc 1600004096 bytes == 0x559f21d54000 @  0x7fe7496c01e7 0x7fe73f2c1cf1 0x7fe73f3243a2 0x7fe73f3260de 0x7fe73f3bd0e8 0x559ef6a21fe5 0x559ef6a17d0a 0x559ef6a1f5fe 0x559ef6a1f232 0x559ef6a17d0a 0x559ef6a1fc38 0x559ef6a17d0a 0x559ef6a17629 0x559ef6a4861f 0x559ef6a43322 0x559ef6a4267d 0x559ef69f11ab 0x7fe7492bdb97 0x559ef69f0a2a\n",
            ">> Distance matrix done.\n",
            "Processing retrieval task: 100% 10000/10000 [03:53<00:00, 42.76it/s]\n",
            ">> \u001b[32mRetrieval\u001b[0m task finished in 252 secs  \n",
            "\u001b[32mRetrieval\u001b[0m task results:\n",
            "Mean Average Precision is 0.550200\n",
            "\n",
            "\n"
          ],
          "name": "stdout"
        }
      ]
    },
    {
      "metadata": {
        "id": "8_2fBzUB5RF2",
        "colab_type": "text"
      },
      "cell_type": "markdown",
      "source": [
        "## Compressing and saving the CSV files \n",
        "\n",
        "This is not necessary for the analysis of the baseline code included in the report. However, we will be hosting a competition in an external website to see who can achieve the highest score. In that case, you will need to submit the CSV files, as the scoring script will be performed in an external server. With that aim, we include here a way to save the files either in your local disc or in your google drive account.\n",
        "\n",
        "We first compress the directory with all the CSV by using the following command. Remove the `q` option if you want it to output the progress."
      ]
    },
    {
      "metadata": {
        "id": "Lh_svT3p5Ww-",
        "colab_type": "code",
        "colab": {}
      },
      "cell_type": "code",
      "source": [
        "!zip -rq descriptors.zip ./out/custom"
      ],
      "execution_count": 0,
      "outputs": []
    },
    {
      "metadata": {
        "id": "svoL779J8AJK",
        "colab_type": "text"
      },
      "cell_type": "markdown",
      "source": [
        "The generated .zip is quite large, the method we used for the weights does not work. We have two other methods. First, in the file explorer in the left column we can right-click in the file and then click download. Then, we will see a circle next to the file showing the download progress.\n",
        "\n",
        "The second way does not require for you to download the files, it save the zip file in your Google Drive account, and you can download it later to your machine if you want. To do so, follow this method (found [here](https://stackoverflow.com/questions/49428332/how-to-download-large-files-like-weights-of-a-model-from-colaboratory)). First run the next cell, and the output will be a link for authentication purposes, and just follow the instructions"
      ]
    },
    {
      "metadata": {
        "id": "RjOmPv5z7Opx",
        "colab_type": "code",
        "outputId": "d689014b-b7d9-4256-a3cf-40394d3ce48d",
        "colab": {
          "base_uri": "https://localhost:8080/",
          "height": 738
        }
      },
      "cell_type": "code",
      "source": [
        "from google.colab import auth\n",
        "from googleapiclient.http import MediaFileUpload\n",
        "from googleapiclient.discovery import build\n",
        "\n",
        "auth.authenticate_user()\n",
        "drive_service = build('drive', 'v3')\n",
        "\n",
        "def save_file_to_drive(name, path):\n",
        "  file_metadata = {\n",
        "    'name': name,\n",
        "    'mimeType': 'application/octet-stream'\n",
        "  }\n",
        "\n",
        "  media = MediaFileUpload(path, \n",
        "                          mimetype='application/octet-stream',\n",
        "                          resumable=True)\n",
        "\n",
        "  created = drive_service.files().create(body=file_metadata,\n",
        "                                  media_body=media,\n",
        "                                  fields='id').execute()\n",
        "\n",
        "  print('File ID: {}'.format(created.get('id')))\n",
        "\n",
        "  return created\n"
      ],
      "execution_count": 0,
      "outputs": [
        {
          "output_type": "error",
          "ename": "KeyboardInterrupt",
          "evalue": "ignored",
          "traceback": [
            "\u001b[0;31m\u001b[0m",
            "\u001b[0;31mKeyboardInterrupt\u001b[0mTraceback (most recent call last)",
            "\u001b[0;32m<ipython-input-54-151b1e258c5f>\u001b[0m in \u001b[0;36m<module>\u001b[0;34m()\u001b[0m\n\u001b[1;32m      3\u001b[0m \u001b[0;32mfrom\u001b[0m \u001b[0mgoogleapiclient\u001b[0m\u001b[0;34m.\u001b[0m\u001b[0mdiscovery\u001b[0m \u001b[0;32mimport\u001b[0m \u001b[0mbuild\u001b[0m\u001b[0;34m\u001b[0m\u001b[0m\n\u001b[1;32m      4\u001b[0m \u001b[0;34m\u001b[0m\u001b[0m\n\u001b[0;32m----> 5\u001b[0;31m \u001b[0mauth\u001b[0m\u001b[0;34m.\u001b[0m\u001b[0mauthenticate_user\u001b[0m\u001b[0;34m(\u001b[0m\u001b[0;34m)\u001b[0m\u001b[0;34m\u001b[0m\u001b[0m\n\u001b[0m\u001b[1;32m      6\u001b[0m \u001b[0mdrive_service\u001b[0m \u001b[0;34m=\u001b[0m \u001b[0mbuild\u001b[0m\u001b[0;34m(\u001b[0m\u001b[0;34m'drive'\u001b[0m\u001b[0;34m,\u001b[0m \u001b[0;34m'v3'\u001b[0m\u001b[0;34m)\u001b[0m\u001b[0;34m\u001b[0m\u001b[0m\n\u001b[1;32m      7\u001b[0m \u001b[0;34m\u001b[0m\u001b[0m\n",
            "\u001b[0;32m/usr/local/lib/python2.7/dist-packages/google/colab/auth.pyc\u001b[0m in \u001b[0;36mauthenticate_user\u001b[0;34m(clear_output)\u001b[0m\n\u001b[1;32m    145\u001b[0m     \u001b[0mcontext_manager\u001b[0m \u001b[0;34m=\u001b[0m \u001b[0m_output\u001b[0m\u001b[0;34m.\u001b[0m\u001b[0mtemporary\u001b[0m \u001b[0;32mif\u001b[0m \u001b[0mclear_output\u001b[0m \u001b[0;32melse\u001b[0m \u001b[0m_noop\u001b[0m\u001b[0;34m\u001b[0m\u001b[0m\n\u001b[1;32m    146\u001b[0m     \u001b[0;32mwith\u001b[0m \u001b[0mcontext_manager\u001b[0m\u001b[0;34m(\u001b[0m\u001b[0;34m)\u001b[0m\u001b[0;34m:\u001b[0m\u001b[0;34m\u001b[0m\u001b[0m\n\u001b[0;32m--> 147\u001b[0;31m       \u001b[0m_gcloud_login\u001b[0m\u001b[0;34m(\u001b[0m\u001b[0;34m)\u001b[0m\u001b[0;34m\u001b[0m\u001b[0m\n\u001b[0m\u001b[1;32m    148\u001b[0m     \u001b[0m_install_adc\u001b[0m\u001b[0;34m(\u001b[0m\u001b[0;34m)\u001b[0m\u001b[0;34m\u001b[0m\u001b[0m\n\u001b[1;32m    149\u001b[0m     \u001b[0mcolab_tpu_addr\u001b[0m \u001b[0;34m=\u001b[0m \u001b[0m_os\u001b[0m\u001b[0;34m.\u001b[0m\u001b[0menviron\u001b[0m\u001b[0;34m.\u001b[0m\u001b[0mget\u001b[0m\u001b[0;34m(\u001b[0m\u001b[0;34m'COLAB_TPU_ADDR'\u001b[0m\u001b[0;34m,\u001b[0m \u001b[0;34m''\u001b[0m\u001b[0;34m)\u001b[0m\u001b[0;34m\u001b[0m\u001b[0m\n",
            "\u001b[0;32m/usr/local/lib/python2.7/dist-packages/google/colab/auth.pyc\u001b[0m in \u001b[0;36m_gcloud_login\u001b[0;34m()\u001b[0m\n\u001b[1;32m     89\u001b[0m     \u001b[0;31m# https://github.com/jupyter/notebook/issues/3159\u001b[0m\u001b[0;34m\u001b[0m\u001b[0;34m\u001b[0m\u001b[0m\n\u001b[1;32m     90\u001b[0m     \u001b[0mprompt\u001b[0m \u001b[0;34m=\u001b[0m \u001b[0mprompt\u001b[0m\u001b[0;34m.\u001b[0m\u001b[0mrstrip\u001b[0m\u001b[0;34m(\u001b[0m\u001b[0;34m)\u001b[0m\u001b[0;34m\u001b[0m\u001b[0m\n\u001b[0;32m---> 91\u001b[0;31m     \u001b[0mcode\u001b[0m \u001b[0;34m=\u001b[0m \u001b[0m_getpass\u001b[0m\u001b[0;34m.\u001b[0m\u001b[0mgetpass\u001b[0m\u001b[0;34m(\u001b[0m\u001b[0mprompt\u001b[0m \u001b[0;34m+\u001b[0m \u001b[0;34m'\\n\\nEnter verification code: '\u001b[0m\u001b[0;34m)\u001b[0m\u001b[0;34m\u001b[0m\u001b[0m\n\u001b[0m\u001b[1;32m     92\u001b[0m     \u001b[0mgcloud_process\u001b[0m\u001b[0;34m.\u001b[0m\u001b[0mcommunicate\u001b[0m\u001b[0;34m(\u001b[0m\u001b[0mcode\u001b[0m\u001b[0;34m.\u001b[0m\u001b[0mstrip\u001b[0m\u001b[0;34m(\u001b[0m\u001b[0;34m)\u001b[0m\u001b[0;34m)\u001b[0m\u001b[0;34m\u001b[0m\u001b[0m\n\u001b[1;32m     93\u001b[0m   \u001b[0;32mfinally\u001b[0m\u001b[0;34m:\u001b[0m\u001b[0;34m\u001b[0m\u001b[0m\n",
            "\u001b[0;32m/usr/local/lib/python2.7/dist-packages/ipykernel/kernelbase.pyc\u001b[0m in \u001b[0;36mgetpass\u001b[0;34m(self, prompt, stream)\u001b[0m\n\u001b[1;32m    686\u001b[0m             \u001b[0mself\u001b[0m\u001b[0;34m.\u001b[0m\u001b[0m_parent_ident\u001b[0m\u001b[0;34m,\u001b[0m\u001b[0;34m\u001b[0m\u001b[0m\n\u001b[1;32m    687\u001b[0m             \u001b[0mself\u001b[0m\u001b[0;34m.\u001b[0m\u001b[0m_parent_header\u001b[0m\u001b[0;34m,\u001b[0m\u001b[0;34m\u001b[0m\u001b[0m\n\u001b[0;32m--> 688\u001b[0;31m             \u001b[0mpassword\u001b[0m\u001b[0;34m=\u001b[0m\u001b[0mTrue\u001b[0m\u001b[0;34m,\u001b[0m\u001b[0;34m\u001b[0m\u001b[0m\n\u001b[0m\u001b[1;32m    689\u001b[0m         )\n\u001b[1;32m    690\u001b[0m \u001b[0;34m\u001b[0m\u001b[0m\n",
            "\u001b[0;32m/usr/local/lib/python2.7/dist-packages/ipykernel/kernelbase.pyc\u001b[0m in \u001b[0;36m_input_request\u001b[0;34m(self, prompt, ident, parent, password)\u001b[0m\n\u001b[1;32m    733\u001b[0m             \u001b[0;32mexcept\u001b[0m \u001b[0mKeyboardInterrupt\u001b[0m\u001b[0;34m:\u001b[0m\u001b[0;34m\u001b[0m\u001b[0m\n\u001b[1;32m    734\u001b[0m                 \u001b[0;31m# re-raise KeyboardInterrupt, to truncate traceback\u001b[0m\u001b[0;34m\u001b[0m\u001b[0;34m\u001b[0m\u001b[0m\n\u001b[0;32m--> 735\u001b[0;31m                 \u001b[0;32mraise\u001b[0m \u001b[0mKeyboardInterrupt\u001b[0m\u001b[0;34m\u001b[0m\u001b[0m\n\u001b[0m\u001b[1;32m    736\u001b[0m             \u001b[0;32melse\u001b[0m\u001b[0;34m:\u001b[0m\u001b[0;34m\u001b[0m\u001b[0m\n\u001b[1;32m    737\u001b[0m                 \u001b[0;32mbreak\u001b[0m\u001b[0;34m\u001b[0m\u001b[0m\n",
            "\u001b[0;31mKeyboardInterrupt\u001b[0m: "
          ]
        }
      ]
    },
    {
      "metadata": {
        "id": "YfzjfMc59NKm",
        "colab_type": "text"
      },
      "cell_type": "markdown",
      "source": [
        "Now we can use the following function to save the file to your drive account. The second argument is the name of the file we want to save, and the first argument the name that will have in your Drive."
      ]
    },
    {
      "metadata": {
        "id": "UwrqWr_c7pAi",
        "colab_type": "code",
        "colab": {}
      },
      "cell_type": "code",
      "source": [
        "save_file_to_drive('descriptors_save.zip', 'descriptors.zip')"
      ],
      "execution_count": 0,
      "outputs": []
    }
  ]
}